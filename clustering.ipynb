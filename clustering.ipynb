{
  "cells": [
    {
      "cell_type": "markdown",
      "id": "8aede979-068f-489d-a683-139e58cb6013",
      "metadata": {},
      "source": [
        "# Land cover classification at the Mississppi Delta\n",
        "\n",
        "In this notebook, you will use a k-means **unsupervised** clustering\n",
        "algorithm to group pixels by similar spectral signatures. **k-means** is\n",
        "an **exploratory** method for finding patterns in data. Because it is\n",
        "unsupervised, you don’t need any training data for the model. You also\n",
        "can’t measure how well it “performs” because the clusters will not\n",
        "correspond to any particular land cover class. However, we expect at\n",
        "least some of the clusters to be identifiable as different types of land\n",
        "cover.\n",
        "\n",
        "You will use the [harmonized Sentinal/Landsat multispectral\n",
        "dataset](https://lpdaac.usgs.gov/documents/1698/HLS_User_Guide_V2.pdf).\n",
        "You can access the data with an [Earthdata\n",
        "account](https://www.earthdata.nasa.gov/learn/get-started) and the\n",
        "[`earthaccess` library from\n",
        "NSIDC](https://github.com/nsidc/earthaccess):\n",
        "\n",
        "## STEP 1: SET UP\n",
        "\n",
        "<link rel=\"stylesheet\" type=\"text/css\" href=\"./assets/styles.css\"><div class=\"callout callout-style-default callout-titled callout-task\"><div class=\"callout-header\"><div class=\"callout-icon-container\"><i class=\"callout-icon\"></i></div><div class=\"callout-title-container flex-fill\">Try It</div></div><div class=\"callout-body-container callout-body\"><ol type=\"1\">\n",
        "<li>Import all libraries you will need for this analysis</li>\n",
        "<li>Configure GDAL parameters to help avoid connection errors:\n",
        "<code>python      os.environ[\"GDAL_HTTP_MAX_RETRY\"] = \"5\"      os.environ[\"GDAL_HTTP_RETRY_DELAY\"] = \"1\"</code></li>\n",
        "</ol></div></div>"
      ]
    },
    {
      "cell_type": "code",
      "execution_count": 1,
      "id": "e3f0f55c",
      "metadata": {
        "highlight": true
      },
      "outputs": [
        {
          "data": {
            "text/html": [
              "<script type=\"esms-options\">{\"shimMode\": true}</script><style>*[data-root-id],\n",
              "*[data-root-id] > * {\n",
              "  box-sizing: border-box;\n",
              "  font-family: var(--jp-ui-font-family);\n",
              "  font-size: var(--jp-ui-font-size1);\n",
              "  color: var(--vscode-editor-foreground, var(--jp-ui-font-color1));\n",
              "}\n",
              "\n",
              "/* Override VSCode background color */\n",
              ".cell-output-ipywidget-background:has(\n",
              "    > .cell-output-ipywidget-background > .lm-Widget > *[data-root-id]\n",
              "  ),\n",
              ".cell-output-ipywidget-background:has(> .lm-Widget > *[data-root-id]) {\n",
              "  background-color: transparent !important;\n",
              "}\n",
              "</style>"
            ]
          },
          "metadata": {},
          "output_type": "display_data"
        },
        {
          "data": {
            "application/javascript": "(function(root) {\n  function now() {\n    return new Date();\n  }\n\n  const force = true;\n  const py_version = '3.6.3'.replace('rc', '-rc.').replace('.dev', '-dev.');\n  const reloading = false;\n  const Bokeh = root.Bokeh;\n\n  // Set a timeout for this load but only if we are not already initializing\n  if (typeof (root._bokeh_timeout) === \"undefined\" || (force || !root._bokeh_is_initializing)) {\n    root._bokeh_timeout = Date.now() + 5000;\n    root._bokeh_failed_load = false;\n  }\n\n  function run_callbacks() {\n    try {\n      root._bokeh_onload_callbacks.forEach(function(callback) {\n        if (callback != null)\n          callback();\n      });\n    } finally {\n      delete root._bokeh_onload_callbacks;\n    }\n    console.debug(\"Bokeh: all callbacks have finished\");\n  }\n\n  function load_libs(css_urls, js_urls, js_modules, js_exports, callback) {\n    if (css_urls == null) css_urls = [];\n    if (js_urls == null) js_urls = [];\n    if (js_modules == null) js_modules = [];\n    if (js_exports == null) js_exports = {};\n\n    root._bokeh_onload_callbacks.push(callback);\n\n    if (root._bokeh_is_loading > 0) {\n      // Don't load bokeh if it is still initializing\n      console.debug(\"Bokeh: BokehJS is being loaded, scheduling callback at\", now());\n      return null;\n    } else if (js_urls.length === 0 && js_modules.length === 0 && Object.keys(js_exports).length === 0) {\n      // There is nothing to load\n      run_callbacks();\n      return null;\n    }\n\n    function on_load() {\n      root._bokeh_is_loading--;\n      if (root._bokeh_is_loading === 0) {\n        console.debug(\"Bokeh: all BokehJS libraries/stylesheets loaded\");\n        run_callbacks()\n      }\n    }\n    window._bokeh_on_load = on_load\n\n    function on_error(e) {\n      const src_el = e.srcElement\n      console.error(\"failed to load \" + (src_el.href || src_el.src));\n    }\n\n    const skip = [];\n    if (window.requirejs) {\n      window.requirejs.config({'packages': {}, 'paths': {}, 'shim': {}});\n      root._bokeh_is_loading = css_urls.length + 0;\n    } else {\n      root._bokeh_is_loading = css_urls.length + js_urls.length + js_modules.length + Object.keys(js_exports).length;\n    }\n\n    const existing_stylesheets = []\n    const links = document.getElementsByTagName('link')\n    for (let i = 0; i < links.length; i++) {\n      const link = links[i]\n      if (link.href != null) {\n        existing_stylesheets.push(link.href)\n      }\n    }\n    for (let i = 0; i < css_urls.length; i++) {\n      const url = css_urls[i];\n      const escaped = encodeURI(url)\n      if (existing_stylesheets.indexOf(escaped) !== -1) {\n        on_load()\n        continue;\n      }\n      const element = document.createElement(\"link\");\n      element.onload = on_load;\n      element.onerror = on_error;\n      element.rel = \"stylesheet\";\n      element.type = \"text/css\";\n      element.href = url;\n      console.debug(\"Bokeh: injecting link tag for BokehJS stylesheet: \", url);\n      document.body.appendChild(element);\n    }    var existing_scripts = []\n    const scripts = document.getElementsByTagName('script')\n    for (let i = 0; i < scripts.length; i++) {\n      var script = scripts[i]\n      if (script.src != null) {\n        existing_scripts.push(script.src)\n      }\n    }\n    for (let i = 0; i < js_urls.length; i++) {\n      const url = js_urls[i];\n      const escaped = encodeURI(url)\n      if (skip.indexOf(escaped) !== -1 || existing_scripts.indexOf(escaped) !== -1) {\n        if (!window.requirejs) {\n          on_load();\n        }\n        continue;\n      }\n      const element = document.createElement('script');\n      element.onload = on_load;\n      element.onerror = on_error;\n      element.async = false;\n      element.src = url;\n      console.debug(\"Bokeh: injecting script tag for BokehJS library: \", url);\n      document.head.appendChild(element);\n    }\n    for (let i = 0; i < js_modules.length; i++) {\n      const url = js_modules[i];\n      const escaped = encodeURI(url)\n      if (skip.indexOf(escaped) !== -1 || existing_scripts.indexOf(escaped) !== -1) {\n        if (!window.requirejs) {\n          on_load();\n        }\n        continue;\n      }\n      var element = document.createElement('script');\n      element.onload = on_load;\n      element.onerror = on_error;\n      element.async = false;\n      element.src = url;\n      element.type = \"module\";\n      console.debug(\"Bokeh: injecting script tag for BokehJS library: \", url);\n      document.head.appendChild(element);\n    }\n    for (const name in js_exports) {\n      const url = js_exports[name];\n      const escaped = encodeURI(url)\n      if (skip.indexOf(escaped) >= 0 || root[name] != null) {\n        if (!window.requirejs) {\n          on_load();\n        }\n        continue;\n      }\n      var element = document.createElement('script');\n      element.onerror = on_error;\n      element.async = false;\n      element.type = \"module\";\n      console.debug(\"Bokeh: injecting script tag for BokehJS library: \", url);\n      element.textContent = `\n      import ${name} from \"${url}\"\n      window.${name} = ${name}\n      window._bokeh_on_load()\n      `\n      document.head.appendChild(element);\n    }\n    if (!js_urls.length && !js_modules.length) {\n      on_load()\n    }\n  };\n\n  function inject_raw_css(css) {\n    const element = document.createElement(\"style\");\n    element.appendChild(document.createTextNode(css));\n    document.body.appendChild(element);\n  }\n\n  const js_urls = [\"https://cdn.holoviz.org/panel/1.6.0/dist/bundled/reactiveesm/es-module-shims@^1.10.0/dist/es-module-shims.min.js\", \"https://cdn.bokeh.org/bokeh/release/bokeh-3.6.3.min.js\", \"https://cdn.bokeh.org/bokeh/release/bokeh-gl-3.6.3.min.js\", \"https://cdn.bokeh.org/bokeh/release/bokeh-widgets-3.6.3.min.js\", \"https://cdn.bokeh.org/bokeh/release/bokeh-tables-3.6.3.min.js\", \"https://cdn.holoviz.org/panel/1.6.0/dist/panel.min.js\", \"https://cdn.jsdelivr.net/npm/@holoviz/geoviews@1.14.0/dist/geoviews.min.js\"];\n  const js_modules = [];\n  const js_exports = {};\n  const css_urls = [];\n  const inline_js = [    function(Bokeh) {\n      Bokeh.set_log_level(\"info\");\n    },\nfunction(Bokeh) {} // ensure no trailing comma for IE\n  ];\n\n  function run_inline_js() {\n    if ((root.Bokeh !== undefined) || (force === true)) {\n      for (let i = 0; i < inline_js.length; i++) {\n        try {\n          inline_js[i].call(root, root.Bokeh);\n        } catch(e) {\n          if (!reloading) {\n            throw e;\n          }\n        }\n      }\n      // Cache old bokeh versions\n      if (Bokeh != undefined && !reloading) {\n        var NewBokeh = root.Bokeh;\n        if (Bokeh.versions === undefined) {\n          Bokeh.versions = new Map();\n        }\n        if (NewBokeh.version !== Bokeh.version) {\n          Bokeh.versions.set(NewBokeh.version, NewBokeh)\n        }\n        root.Bokeh = Bokeh;\n      }\n    } else if (Date.now() < root._bokeh_timeout) {\n      setTimeout(run_inline_js, 100);\n    } else if (!root._bokeh_failed_load) {\n      console.log(\"Bokeh: BokehJS failed to load within specified timeout.\");\n      root._bokeh_failed_load = true;\n    }\n    root._bokeh_is_initializing = false\n  }\n\n  function load_or_wait() {\n    // Implement a backoff loop that tries to ensure we do not load multiple\n    // versions of Bokeh and its dependencies at the same time.\n    // In recent versions we use the root._bokeh_is_initializing flag\n    // to determine whether there is an ongoing attempt to initialize\n    // bokeh, however for backward compatibility we also try to ensure\n    // that we do not start loading a newer (Panel>=1.0 and Bokeh>3) version\n    // before older versions are fully initialized.\n    if (root._bokeh_is_initializing && Date.now() > root._bokeh_timeout) {\n      // If the timeout and bokeh was not successfully loaded we reset\n      // everything and try loading again\n      root._bokeh_timeout = Date.now() + 5000;\n      root._bokeh_is_initializing = false;\n      root._bokeh_onload_callbacks = undefined;\n      root._bokeh_is_loading = 0\n      console.log(\"Bokeh: BokehJS was loaded multiple times but one version failed to initialize.\");\n      load_or_wait();\n    } else if (root._bokeh_is_initializing || (typeof root._bokeh_is_initializing === \"undefined\" && root._bokeh_onload_callbacks !== undefined)) {\n      setTimeout(load_or_wait, 100);\n    } else {\n      root._bokeh_is_initializing = true\n      root._bokeh_onload_callbacks = []\n      const bokeh_loaded = root.Bokeh != null && (root.Bokeh.version === py_version || (root.Bokeh.versions !== undefined && root.Bokeh.versions.has(py_version)));\n      if (!reloading && !bokeh_loaded) {\n        if (root.Bokeh) {\n          root.Bokeh = undefined;\n        }\n        console.debug(\"Bokeh: BokehJS not loaded, scheduling load and callback at\", now());\n      }\n      load_libs(css_urls, js_urls, js_modules, js_exports, function() {\n        console.debug(\"Bokeh: BokehJS plotting callback run at\", now());\n        run_inline_js();\n      });\n    }\n  }\n  // Give older versions of the autoload script a head-start to ensure\n  // they initialize before we start loading newer version.\n  setTimeout(load_or_wait, 100)\n}(window));",
            "application/vnd.holoviews_load.v0+json": ""
          },
          "metadata": {},
          "output_type": "display_data"
        },
        {
          "data": {
            "application/javascript": "\nif ((window.PyViz === undefined) || (window.PyViz instanceof HTMLElement)) {\n  window.PyViz = {comms: {}, comm_status:{}, kernels:{}, receivers: {}, plot_index: []}\n}\n\n\n    function JupyterCommManager() {\n    }\n\n    JupyterCommManager.prototype.register_target = function(plot_id, comm_id, msg_handler) {\n      if (window.comm_manager || ((window.Jupyter !== undefined) && (Jupyter.notebook.kernel != null))) {\n        var comm_manager = window.comm_manager || Jupyter.notebook.kernel.comm_manager;\n        comm_manager.register_target(comm_id, function(comm) {\n          comm.on_msg(msg_handler);\n        });\n      } else if ((plot_id in window.PyViz.kernels) && (window.PyViz.kernels[plot_id])) {\n        window.PyViz.kernels[plot_id].registerCommTarget(comm_id, function(comm) {\n          comm.onMsg = msg_handler;\n        });\n      } else if (typeof google != 'undefined' && google.colab.kernel != null) {\n        google.colab.kernel.comms.registerTarget(comm_id, (comm) => {\n          var messages = comm.messages[Symbol.asyncIterator]();\n          function processIteratorResult(result) {\n            var message = result.value;\n            console.log(message)\n            var content = {data: message.data, comm_id};\n            var buffers = []\n            for (var buffer of message.buffers || []) {\n              buffers.push(new DataView(buffer))\n            }\n            var metadata = message.metadata || {};\n            var msg = {content, buffers, metadata}\n            msg_handler(msg);\n            return messages.next().then(processIteratorResult);\n          }\n          return messages.next().then(processIteratorResult);\n        })\n      }\n    }\n\n    JupyterCommManager.prototype.get_client_comm = function(plot_id, comm_id, msg_handler) {\n      if (comm_id in window.PyViz.comms) {\n        return window.PyViz.comms[comm_id];\n      } else if (window.comm_manager || ((window.Jupyter !== undefined) && (Jupyter.notebook.kernel != null))) {\n        var comm_manager = window.comm_manager || Jupyter.notebook.kernel.comm_manager;\n        var comm = comm_manager.new_comm(comm_id, {}, {}, {}, comm_id);\n        if (msg_handler) {\n          comm.on_msg(msg_handler);\n        }\n      } else if ((plot_id in window.PyViz.kernels) && (window.PyViz.kernels[plot_id])) {\n        var comm = window.PyViz.kernels[plot_id].connectToComm(comm_id);\n        comm.open();\n        if (msg_handler) {\n          comm.onMsg = msg_handler;\n        }\n      } else if (typeof google != 'undefined' && google.colab.kernel != null) {\n        var comm_promise = google.colab.kernel.comms.open(comm_id)\n        comm_promise.then((comm) => {\n          window.PyViz.comms[comm_id] = comm;\n          if (msg_handler) {\n            var messages = comm.messages[Symbol.asyncIterator]();\n            function processIteratorResult(result) {\n              var message = result.value;\n              var content = {data: message.data};\n              var metadata = message.metadata || {comm_id};\n              var msg = {content, metadata}\n              msg_handler(msg);\n              return messages.next().then(processIteratorResult);\n            }\n            return messages.next().then(processIteratorResult);\n          }\n        })\n        var sendClosure = (data, metadata, buffers, disposeOnDone) => {\n          return comm_promise.then((comm) => {\n            comm.send(data, metadata, buffers, disposeOnDone);\n          });\n        };\n        var comm = {\n          send: sendClosure\n        };\n      }\n      window.PyViz.comms[comm_id] = comm;\n      return comm;\n    }\n    window.PyViz.comm_manager = new JupyterCommManager();\n    \n\n\nvar JS_MIME_TYPE = 'application/javascript';\nvar HTML_MIME_TYPE = 'text/html';\nvar EXEC_MIME_TYPE = 'application/vnd.holoviews_exec.v0+json';\nvar CLASS_NAME = 'output';\n\n/**\n * Render data to the DOM node\n */\nfunction render(props, node) {\n  var div = document.createElement(\"div\");\n  var script = document.createElement(\"script\");\n  node.appendChild(div);\n  node.appendChild(script);\n}\n\n/**\n * Handle when a new output is added\n */\nfunction handle_add_output(event, handle) {\n  var output_area = handle.output_area;\n  var output = handle.output;\n  if ((output.data == undefined) || (!output.data.hasOwnProperty(EXEC_MIME_TYPE))) {\n    return\n  }\n  var id = output.metadata[EXEC_MIME_TYPE][\"id\"];\n  var toinsert = output_area.element.find(\".\" + CLASS_NAME.split(' ')[0]);\n  if (id !== undefined) {\n    var nchildren = toinsert.length;\n    var html_node = toinsert[nchildren-1].children[0];\n    html_node.innerHTML = output.data[HTML_MIME_TYPE];\n    var scripts = [];\n    var nodelist = html_node.querySelectorAll(\"script\");\n    for (var i in nodelist) {\n      if (nodelist.hasOwnProperty(i)) {\n        scripts.push(nodelist[i])\n      }\n    }\n\n    scripts.forEach( function (oldScript) {\n      var newScript = document.createElement(\"script\");\n      var attrs = [];\n      var nodemap = oldScript.attributes;\n      for (var j in nodemap) {\n        if (nodemap.hasOwnProperty(j)) {\n          attrs.push(nodemap[j])\n        }\n      }\n      attrs.forEach(function(attr) { newScript.setAttribute(attr.name, attr.value) });\n      newScript.appendChild(document.createTextNode(oldScript.innerHTML));\n      oldScript.parentNode.replaceChild(newScript, oldScript);\n    });\n    if (JS_MIME_TYPE in output.data) {\n      toinsert[nchildren-1].children[1].textContent = output.data[JS_MIME_TYPE];\n    }\n    output_area._hv_plot_id = id;\n    if ((window.Bokeh !== undefined) && (id in Bokeh.index)) {\n      window.PyViz.plot_index[id] = Bokeh.index[id];\n    } else {\n      window.PyViz.plot_index[id] = null;\n    }\n  } else if (output.metadata[EXEC_MIME_TYPE][\"server_id\"] !== undefined) {\n    var bk_div = document.createElement(\"div\");\n    bk_div.innerHTML = output.data[HTML_MIME_TYPE];\n    var script_attrs = bk_div.children[0].attributes;\n    for (var i = 0; i < script_attrs.length; i++) {\n      toinsert[toinsert.length - 1].childNodes[1].setAttribute(script_attrs[i].name, script_attrs[i].value);\n    }\n    // store reference to server id on output_area\n    output_area._bokeh_server_id = output.metadata[EXEC_MIME_TYPE][\"server_id\"];\n  }\n}\n\n/**\n * Handle when an output is cleared or removed\n */\nfunction handle_clear_output(event, handle) {\n  var id = handle.cell.output_area._hv_plot_id;\n  var server_id = handle.cell.output_area._bokeh_server_id;\n  if (((id === undefined) || !(id in PyViz.plot_index)) && (server_id !== undefined)) { return; }\n  var comm = window.PyViz.comm_manager.get_client_comm(\"hv-extension-comm\", \"hv-extension-comm\", function () {});\n  if (server_id !== null) {\n    comm.send({event_type: 'server_delete', 'id': server_id});\n    return;\n  } else if (comm !== null) {\n    comm.send({event_type: 'delete', 'id': id});\n  }\n  delete PyViz.plot_index[id];\n  if ((window.Bokeh !== undefined) & (id in window.Bokeh.index)) {\n    var doc = window.Bokeh.index[id].model.document\n    doc.clear();\n    const i = window.Bokeh.documents.indexOf(doc);\n    if (i > -1) {\n      window.Bokeh.documents.splice(i, 1);\n    }\n  }\n}\n\n/**\n * Handle kernel restart event\n */\nfunction handle_kernel_cleanup(event, handle) {\n  delete PyViz.comms[\"hv-extension-comm\"];\n  window.PyViz.plot_index = {}\n}\n\n/**\n * Handle update_display_data messages\n */\nfunction handle_update_output(event, handle) {\n  handle_clear_output(event, {cell: {output_area: handle.output_area}})\n  handle_add_output(event, handle)\n}\n\nfunction register_renderer(events, OutputArea) {\n  function append_mime(data, metadata, element) {\n    // create a DOM node to render to\n    var toinsert = this.create_output_subarea(\n    metadata,\n    CLASS_NAME,\n    EXEC_MIME_TYPE\n    );\n    this.keyboard_manager.register_events(toinsert);\n    // Render to node\n    var props = {data: data, metadata: metadata[EXEC_MIME_TYPE]};\n    render(props, toinsert[0]);\n    element.append(toinsert);\n    return toinsert\n  }\n\n  events.on('output_added.OutputArea', handle_add_output);\n  events.on('output_updated.OutputArea', handle_update_output);\n  events.on('clear_output.CodeCell', handle_clear_output);\n  events.on('delete.Cell', handle_clear_output);\n  events.on('kernel_ready.Kernel', handle_kernel_cleanup);\n\n  OutputArea.prototype.register_mime_type(EXEC_MIME_TYPE, append_mime, {\n    safe: true,\n    index: 0\n  });\n}\n\nif (window.Jupyter !== undefined) {\n  try {\n    var events = require('base/js/events');\n    var OutputArea = require('notebook/js/outputarea').OutputArea;\n    if (OutputArea.prototype.mime_types().indexOf(EXEC_MIME_TYPE) == -1) {\n      register_renderer(events, OutputArea);\n    }\n  } catch(err) {\n  }\n}\n",
            "application/vnd.holoviews_load.v0+json": ""
          },
          "metadata": {},
          "output_type": "display_data"
        },
        {
          "data": {
            "application/vnd.holoviews_exec.v0+json": "",
            "text/html": [
              "<div id='f61eb1f1-c577-4e2e-b96c-11d7ae927d3f'>\n",
              "  <div id=\"f61cf7dc-a6f9-4b9a-baaa-4d8a29cbbf88\" data-root-id=\"f61eb1f1-c577-4e2e-b96c-11d7ae927d3f\" style=\"display: contents;\"></div>\n",
              "</div>\n",
              "<script type=\"application/javascript\">(function(root) {\n",
              "  var docs_json = {\"45cdea35-bb7e-445f-8e6d-12080c27f9e7\":{\"version\":\"3.6.3\",\"title\":\"Bokeh Application\",\"roots\":[{\"type\":\"object\",\"name\":\"panel.models.browser.BrowserInfo\",\"id\":\"f61eb1f1-c577-4e2e-b96c-11d7ae927d3f\"},{\"type\":\"object\",\"name\":\"panel.models.comm_manager.CommManager\",\"id\":\"e248bf31-50ed-43f0-b16a-ad03b29bcbc5\",\"attributes\":{\"plot_id\":\"f61eb1f1-c577-4e2e-b96c-11d7ae927d3f\",\"comm_id\":\"2d9aafd134d04964ba19997eb0b7ad90\",\"client_comm_id\":\"1e1f80774edb47aba7cacf42e30b6a1c\"}}],\"defs\":[{\"type\":\"model\",\"name\":\"ReactiveHTML1\"},{\"type\":\"model\",\"name\":\"FlexBox1\",\"properties\":[{\"name\":\"align_content\",\"kind\":\"Any\",\"default\":\"flex-start\"},{\"name\":\"align_items\",\"kind\":\"Any\",\"default\":\"flex-start\"},{\"name\":\"flex_direction\",\"kind\":\"Any\",\"default\":\"row\"},{\"name\":\"flex_wrap\",\"kind\":\"Any\",\"default\":\"wrap\"},{\"name\":\"gap\",\"kind\":\"Any\",\"default\":\"\"},{\"name\":\"justify_content\",\"kind\":\"Any\",\"default\":\"flex-start\"}]},{\"type\":\"model\",\"name\":\"FloatPanel1\",\"properties\":[{\"name\":\"config\",\"kind\":\"Any\",\"default\":{\"type\":\"map\"}},{\"name\":\"contained\",\"kind\":\"Any\",\"default\":true},{\"name\":\"position\",\"kind\":\"Any\",\"default\":\"right-top\"},{\"name\":\"offsetx\",\"kind\":\"Any\",\"default\":null},{\"name\":\"offsety\",\"kind\":\"Any\",\"default\":null},{\"name\":\"theme\",\"kind\":\"Any\",\"default\":\"primary\"},{\"name\":\"status\",\"kind\":\"Any\",\"default\":\"normalized\"}]},{\"type\":\"model\",\"name\":\"GridStack1\",\"properties\":[{\"name\":\"mode\",\"kind\":\"Any\",\"default\":\"warn\"},{\"name\":\"ncols\",\"kind\":\"Any\",\"default\":null},{\"name\":\"nrows\",\"kind\":\"Any\",\"default\":null},{\"name\":\"allow_resize\",\"kind\":\"Any\",\"default\":true},{\"name\":\"allow_drag\",\"kind\":\"Any\",\"default\":true},{\"name\":\"state\",\"kind\":\"Any\",\"default\":[]}]},{\"type\":\"model\",\"name\":\"drag1\",\"properties\":[{\"name\":\"slider_width\",\"kind\":\"Any\",\"default\":5},{\"name\":\"slider_color\",\"kind\":\"Any\",\"default\":\"black\"},{\"name\":\"value\",\"kind\":\"Any\",\"default\":50}]},{\"type\":\"model\",\"name\":\"click1\",\"properties\":[{\"name\":\"terminal_output\",\"kind\":\"Any\",\"default\":\"\"},{\"name\":\"debug_name\",\"kind\":\"Any\",\"default\":\"\"},{\"name\":\"clears\",\"kind\":\"Any\",\"default\":0}]},{\"type\":\"model\",\"name\":\"FastWrapper1\",\"properties\":[{\"name\":\"object\",\"kind\":\"Any\",\"default\":null},{\"name\":\"style\",\"kind\":\"Any\",\"default\":null}]},{\"type\":\"model\",\"name\":\"NotificationAreaBase1\",\"properties\":[{\"name\":\"js_events\",\"kind\":\"Any\",\"default\":{\"type\":\"map\"}},{\"name\":\"position\",\"kind\":\"Any\",\"default\":\"bottom-right\"},{\"name\":\"_clear\",\"kind\":\"Any\",\"default\":0}]},{\"type\":\"model\",\"name\":\"NotificationArea1\",\"properties\":[{\"name\":\"js_events\",\"kind\":\"Any\",\"default\":{\"type\":\"map\"}},{\"name\":\"notifications\",\"kind\":\"Any\",\"default\":[]},{\"name\":\"position\",\"kind\":\"Any\",\"default\":\"bottom-right\"},{\"name\":\"_clear\",\"kind\":\"Any\",\"default\":0},{\"name\":\"types\",\"kind\":\"Any\",\"default\":[{\"type\":\"map\",\"entries\":[[\"type\",\"warning\"],[\"background\",\"#ffc107\"],[\"icon\",{\"type\":\"map\",\"entries\":[[\"className\",\"fas fa-exclamation-triangle\"],[\"tagName\",\"i\"],[\"color\",\"white\"]]}]]},{\"type\":\"map\",\"entries\":[[\"type\",\"info\"],[\"background\",\"#007bff\"],[\"icon\",{\"type\":\"map\",\"entries\":[[\"className\",\"fas fa-info-circle\"],[\"tagName\",\"i\"],[\"color\",\"white\"]]}]]}]}]},{\"type\":\"model\",\"name\":\"Notification\",\"properties\":[{\"name\":\"background\",\"kind\":\"Any\",\"default\":null},{\"name\":\"duration\",\"kind\":\"Any\",\"default\":3000},{\"name\":\"icon\",\"kind\":\"Any\",\"default\":null},{\"name\":\"message\",\"kind\":\"Any\",\"default\":\"\"},{\"name\":\"notification_type\",\"kind\":\"Any\",\"default\":null},{\"name\":\"_rendered\",\"kind\":\"Any\",\"default\":false},{\"name\":\"_destroyed\",\"kind\":\"Any\",\"default\":false}]},{\"type\":\"model\",\"name\":\"TemplateActions1\",\"properties\":[{\"name\":\"open_modal\",\"kind\":\"Any\",\"default\":0},{\"name\":\"close_modal\",\"kind\":\"Any\",\"default\":0}]},{\"type\":\"model\",\"name\":\"BootstrapTemplateActions1\",\"properties\":[{\"name\":\"open_modal\",\"kind\":\"Any\",\"default\":0},{\"name\":\"close_modal\",\"kind\":\"Any\",\"default\":0}]},{\"type\":\"model\",\"name\":\"TemplateEditor1\",\"properties\":[{\"name\":\"layout\",\"kind\":\"Any\",\"default\":[]}]},{\"type\":\"model\",\"name\":\"MaterialTemplateActions1\",\"properties\":[{\"name\":\"open_modal\",\"kind\":\"Any\",\"default\":0},{\"name\":\"close_modal\",\"kind\":\"Any\",\"default\":0}]},{\"type\":\"model\",\"name\":\"ReactiveESM1\",\"properties\":[{\"name\":\"esm_constants\",\"kind\":\"Any\",\"default\":{\"type\":\"map\"}}]},{\"type\":\"model\",\"name\":\"JSComponent1\",\"properties\":[{\"name\":\"esm_constants\",\"kind\":\"Any\",\"default\":{\"type\":\"map\"}}]},{\"type\":\"model\",\"name\":\"ReactComponent1\",\"properties\":[{\"name\":\"esm_constants\",\"kind\":\"Any\",\"default\":{\"type\":\"map\"}}]},{\"type\":\"model\",\"name\":\"AnyWidgetComponent1\",\"properties\":[{\"name\":\"esm_constants\",\"kind\":\"Any\",\"default\":{\"type\":\"map\"}}]},{\"type\":\"model\",\"name\":\"request_value1\",\"properties\":[{\"name\":\"fill\",\"kind\":\"Any\",\"default\":\"none\"},{\"name\":\"_synced\",\"kind\":\"Any\",\"default\":null},{\"name\":\"_request_sync\",\"kind\":\"Any\",\"default\":0}]}]}};\n",
              "  var render_items = [{\"docid\":\"45cdea35-bb7e-445f-8e6d-12080c27f9e7\",\"roots\":{\"f61eb1f1-c577-4e2e-b96c-11d7ae927d3f\":\"f61cf7dc-a6f9-4b9a-baaa-4d8a29cbbf88\"},\"root_ids\":[\"f61eb1f1-c577-4e2e-b96c-11d7ae927d3f\"]}];\n",
              "  var docs = Object.values(docs_json)\n",
              "  if (!docs) {\n",
              "    return\n",
              "  }\n",
              "  const py_version = docs[0].version.replace('rc', '-rc.').replace('.dev', '-dev.')\n",
              "  async function embed_document(root) {\n",
              "    var Bokeh = get_bokeh(root)\n",
              "    await Bokeh.embed.embed_items_notebook(docs_json, render_items);\n",
              "    for (const render_item of render_items) {\n",
              "      for (const root_id of render_item.root_ids) {\n",
              "\tconst id_el = document.getElementById(root_id)\n",
              "\tif (id_el.children.length && id_el.children[0].hasAttribute('data-root-id')) {\n",
              "\t  const root_el = id_el.children[0]\n",
              "\t  root_el.id = root_el.id + '-rendered'\n",
              "\t  for (const child of root_el.children) {\n",
              "            // Ensure JupyterLab does not capture keyboard shortcuts\n",
              "            // see: https://jupyterlab.readthedocs.io/en/4.1.x/extension/notebook.html#keyboard-interaction-model\n",
              "\t    child.setAttribute('data-lm-suppress-shortcuts', 'true')\n",
              "\t  }\n",
              "\t}\n",
              "      }\n",
              "    }\n",
              "  }\n",
              "  function get_bokeh(root) {\n",
              "    if (root.Bokeh === undefined) {\n",
              "      return null\n",
              "    } else if (root.Bokeh.version !== py_version) {\n",
              "      if (root.Bokeh.versions === undefined || !root.Bokeh.versions.has(py_version)) {\n",
              "\treturn null\n",
              "      }\n",
              "      return root.Bokeh.versions.get(py_version);\n",
              "    } else if (root.Bokeh.version === py_version) {\n",
              "      return root.Bokeh\n",
              "    }\n",
              "    return null\n",
              "  }\n",
              "  function is_loaded(root) {\n",
              "    var Bokeh = get_bokeh(root)\n",
              "    return (Bokeh != null && Bokeh.Panel !== undefined)\n",
              "  }\n",
              "  if (is_loaded(root)) {\n",
              "    embed_document(root);\n",
              "  } else {\n",
              "    var attempts = 0;\n",
              "    var timer = setInterval(function(root) {\n",
              "      if (is_loaded(root)) {\n",
              "        clearInterval(timer);\n",
              "        embed_document(root);\n",
              "      } else if (document.readyState == \"complete\") {\n",
              "        attempts++;\n",
              "        if (attempts > 200) {\n",
              "          clearInterval(timer);\n",
              "\t  var Bokeh = get_bokeh(root)\n",
              "\t  if (Bokeh == null || Bokeh.Panel == null) {\n",
              "            console.warn(\"Panel: ERROR: Unable to run Panel code because Bokeh or Panel library is missing\");\n",
              "\t  } else {\n",
              "\t    console.warn(\"Panel: WARNING: Attempting to render but not all required libraries could be resolved.\")\n",
              "\t    embed_document(root)\n",
              "\t  }\n",
              "        }\n",
              "      }\n",
              "    }, 25, root)\n",
              "  }\n",
              "})(window);</script>"
            ]
          },
          "metadata": {
            "application/vnd.holoviews_exec.v0+json": {
              "id": "f61eb1f1-c577-4e2e-b96c-11d7ae927d3f"
            }
          },
          "output_type": "display_data"
        },
        {
          "data": {
            "text/html": [
              "<script type=\"esms-options\">{\"shimMode\": true}</script><style>*[data-root-id],\n",
              "*[data-root-id] > * {\n",
              "  box-sizing: border-box;\n",
              "  font-family: var(--jp-ui-font-family);\n",
              "  font-size: var(--jp-ui-font-size1);\n",
              "  color: var(--vscode-editor-foreground, var(--jp-ui-font-color1));\n",
              "}\n",
              "\n",
              "/* Override VSCode background color */\n",
              ".cell-output-ipywidget-background:has(\n",
              "    > .cell-output-ipywidget-background > .lm-Widget > *[data-root-id]\n",
              "  ),\n",
              ".cell-output-ipywidget-background:has(> .lm-Widget > *[data-root-id]) {\n",
              "  background-color: transparent !important;\n",
              "}\n",
              "</style>"
            ]
          },
          "metadata": {},
          "output_type": "display_data"
        },
        {
          "data": {
            "application/javascript": "(function(root) {\n  function now() {\n    return new Date();\n  }\n\n  const force = false;\n  const py_version = '3.6.3'.replace('rc', '-rc.').replace('.dev', '-dev.');\n  const reloading = true;\n  const Bokeh = root.Bokeh;\n\n  // Set a timeout for this load but only if we are not already initializing\n  if (typeof (root._bokeh_timeout) === \"undefined\" || (force || !root._bokeh_is_initializing)) {\n    root._bokeh_timeout = Date.now() + 5000;\n    root._bokeh_failed_load = false;\n  }\n\n  function run_callbacks() {\n    try {\n      root._bokeh_onload_callbacks.forEach(function(callback) {\n        if (callback != null)\n          callback();\n      });\n    } finally {\n      delete root._bokeh_onload_callbacks;\n    }\n    console.debug(\"Bokeh: all callbacks have finished\");\n  }\n\n  function load_libs(css_urls, js_urls, js_modules, js_exports, callback) {\n    if (css_urls == null) css_urls = [];\n    if (js_urls == null) js_urls = [];\n    if (js_modules == null) js_modules = [];\n    if (js_exports == null) js_exports = {};\n\n    root._bokeh_onload_callbacks.push(callback);\n\n    if (root._bokeh_is_loading > 0) {\n      // Don't load bokeh if it is still initializing\n      console.debug(\"Bokeh: BokehJS is being loaded, scheduling callback at\", now());\n      return null;\n    } else if (js_urls.length === 0 && js_modules.length === 0 && Object.keys(js_exports).length === 0) {\n      // There is nothing to load\n      run_callbacks();\n      return null;\n    }\n\n    function on_load() {\n      root._bokeh_is_loading--;\n      if (root._bokeh_is_loading === 0) {\n        console.debug(\"Bokeh: all BokehJS libraries/stylesheets loaded\");\n        run_callbacks()\n      }\n    }\n    window._bokeh_on_load = on_load\n\n    function on_error(e) {\n      const src_el = e.srcElement\n      console.error(\"failed to load \" + (src_el.href || src_el.src));\n    }\n\n    const skip = [];\n    if (window.requirejs) {\n      window.requirejs.config({'packages': {}, 'paths': {}, 'shim': {}});\n      root._bokeh_is_loading = css_urls.length + 0;\n    } else {\n      root._bokeh_is_loading = css_urls.length + js_urls.length + js_modules.length + Object.keys(js_exports).length;\n    }\n\n    const existing_stylesheets = []\n    const links = document.getElementsByTagName('link')\n    for (let i = 0; i < links.length; i++) {\n      const link = links[i]\n      if (link.href != null) {\n        existing_stylesheets.push(link.href)\n      }\n    }\n    for (let i = 0; i < css_urls.length; i++) {\n      const url = css_urls[i];\n      const escaped = encodeURI(url)\n      if (existing_stylesheets.indexOf(escaped) !== -1) {\n        on_load()\n        continue;\n      }\n      const element = document.createElement(\"link\");\n      element.onload = on_load;\n      element.onerror = on_error;\n      element.rel = \"stylesheet\";\n      element.type = \"text/css\";\n      element.href = url;\n      console.debug(\"Bokeh: injecting link tag for BokehJS stylesheet: \", url);\n      document.body.appendChild(element);\n    }    var existing_scripts = []\n    const scripts = document.getElementsByTagName('script')\n    for (let i = 0; i < scripts.length; i++) {\n      var script = scripts[i]\n      if (script.src != null) {\n        existing_scripts.push(script.src)\n      }\n    }\n    for (let i = 0; i < js_urls.length; i++) {\n      const url = js_urls[i];\n      const escaped = encodeURI(url)\n      if (skip.indexOf(escaped) !== -1 || existing_scripts.indexOf(escaped) !== -1) {\n        if (!window.requirejs) {\n          on_load();\n        }\n        continue;\n      }\n      const element = document.createElement('script');\n      element.onload = on_load;\n      element.onerror = on_error;\n      element.async = false;\n      element.src = url;\n      console.debug(\"Bokeh: injecting script tag for BokehJS library: \", url);\n      document.head.appendChild(element);\n    }\n    for (let i = 0; i < js_modules.length; i++) {\n      const url = js_modules[i];\n      const escaped = encodeURI(url)\n      if (skip.indexOf(escaped) !== -1 || existing_scripts.indexOf(escaped) !== -1) {\n        if (!window.requirejs) {\n          on_load();\n        }\n        continue;\n      }\n      var element = document.createElement('script');\n      element.onload = on_load;\n      element.onerror = on_error;\n      element.async = false;\n      element.src = url;\n      element.type = \"module\";\n      console.debug(\"Bokeh: injecting script tag for BokehJS library: \", url);\n      document.head.appendChild(element);\n    }\n    for (const name in js_exports) {\n      const url = js_exports[name];\n      const escaped = encodeURI(url)\n      if (skip.indexOf(escaped) >= 0 || root[name] != null) {\n        if (!window.requirejs) {\n          on_load();\n        }\n        continue;\n      }\n      var element = document.createElement('script');\n      element.onerror = on_error;\n      element.async = false;\n      element.type = \"module\";\n      console.debug(\"Bokeh: injecting script tag for BokehJS library: \", url);\n      element.textContent = `\n      import ${name} from \"${url}\"\n      window.${name} = ${name}\n      window._bokeh_on_load()\n      `\n      document.head.appendChild(element);\n    }\n    if (!js_urls.length && !js_modules.length) {\n      on_load()\n    }\n  };\n\n  function inject_raw_css(css) {\n    const element = document.createElement(\"style\");\n    element.appendChild(document.createTextNode(css));\n    document.body.appendChild(element);\n  }\n\n  const js_urls = [\"https://cdn.holoviz.org/panel/1.6.0/dist/bundled/reactiveesm/es-module-shims@^1.10.0/dist/es-module-shims.min.js\", \"https://cdn.jsdelivr.net/npm/@holoviz/geoviews@1.14.0/dist/geoviews.min.js\"];\n  const js_modules = [];\n  const js_exports = {};\n  const css_urls = [];\n  const inline_js = [    function(Bokeh) {\n      Bokeh.set_log_level(\"info\");\n    },\nfunction(Bokeh) {} // ensure no trailing comma for IE\n  ];\n\n  function run_inline_js() {\n    if ((root.Bokeh !== undefined) || (force === true)) {\n      for (let i = 0; i < inline_js.length; i++) {\n        try {\n          inline_js[i].call(root, root.Bokeh);\n        } catch(e) {\n          if (!reloading) {\n            throw e;\n          }\n        }\n      }\n      // Cache old bokeh versions\n      if (Bokeh != undefined && !reloading) {\n        var NewBokeh = root.Bokeh;\n        if (Bokeh.versions === undefined) {\n          Bokeh.versions = new Map();\n        }\n        if (NewBokeh.version !== Bokeh.version) {\n          Bokeh.versions.set(NewBokeh.version, NewBokeh)\n        }\n        root.Bokeh = Bokeh;\n      }\n    } else if (Date.now() < root._bokeh_timeout) {\n      setTimeout(run_inline_js, 100);\n    } else if (!root._bokeh_failed_load) {\n      console.log(\"Bokeh: BokehJS failed to load within specified timeout.\");\n      root._bokeh_failed_load = true;\n    }\n    root._bokeh_is_initializing = false\n  }\n\n  function load_or_wait() {\n    // Implement a backoff loop that tries to ensure we do not load multiple\n    // versions of Bokeh and its dependencies at the same time.\n    // In recent versions we use the root._bokeh_is_initializing flag\n    // to determine whether there is an ongoing attempt to initialize\n    // bokeh, however for backward compatibility we also try to ensure\n    // that we do not start loading a newer (Panel>=1.0 and Bokeh>3) version\n    // before older versions are fully initialized.\n    if (root._bokeh_is_initializing && Date.now() > root._bokeh_timeout) {\n      // If the timeout and bokeh was not successfully loaded we reset\n      // everything and try loading again\n      root._bokeh_timeout = Date.now() + 5000;\n      root._bokeh_is_initializing = false;\n      root._bokeh_onload_callbacks = undefined;\n      root._bokeh_is_loading = 0\n      console.log(\"Bokeh: BokehJS was loaded multiple times but one version failed to initialize.\");\n      load_or_wait();\n    } else if (root._bokeh_is_initializing || (typeof root._bokeh_is_initializing === \"undefined\" && root._bokeh_onload_callbacks !== undefined)) {\n      setTimeout(load_or_wait, 100);\n    } else {\n      root._bokeh_is_initializing = true\n      root._bokeh_onload_callbacks = []\n      const bokeh_loaded = root.Bokeh != null && (root.Bokeh.version === py_version || (root.Bokeh.versions !== undefined && root.Bokeh.versions.has(py_version)));\n      if (!reloading && !bokeh_loaded) {\n        if (root.Bokeh) {\n          root.Bokeh = undefined;\n        }\n        console.debug(\"Bokeh: BokehJS not loaded, scheduling load and callback at\", now());\n      }\n      load_libs(css_urls, js_urls, js_modules, js_exports, function() {\n        console.debug(\"Bokeh: BokehJS plotting callback run at\", now());\n        run_inline_js();\n      });\n    }\n  }\n  // Give older versions of the autoload script a head-start to ensure\n  // they initialize before we start loading newer version.\n  setTimeout(load_or_wait, 100)\n}(window));",
            "application/vnd.holoviews_load.v0+json": ""
          },
          "metadata": {},
          "output_type": "display_data"
        },
        {
          "data": {
            "application/javascript": "\nif ((window.PyViz === undefined) || (window.PyViz instanceof HTMLElement)) {\n  window.PyViz = {comms: {}, comm_status:{}, kernels:{}, receivers: {}, plot_index: []}\n}\n\n\n    function JupyterCommManager() {\n    }\n\n    JupyterCommManager.prototype.register_target = function(plot_id, comm_id, msg_handler) {\n      if (window.comm_manager || ((window.Jupyter !== undefined) && (Jupyter.notebook.kernel != null))) {\n        var comm_manager = window.comm_manager || Jupyter.notebook.kernel.comm_manager;\n        comm_manager.register_target(comm_id, function(comm) {\n          comm.on_msg(msg_handler);\n        });\n      } else if ((plot_id in window.PyViz.kernels) && (window.PyViz.kernels[plot_id])) {\n        window.PyViz.kernels[plot_id].registerCommTarget(comm_id, function(comm) {\n          comm.onMsg = msg_handler;\n        });\n      } else if (typeof google != 'undefined' && google.colab.kernel != null) {\n        google.colab.kernel.comms.registerTarget(comm_id, (comm) => {\n          var messages = comm.messages[Symbol.asyncIterator]();\n          function processIteratorResult(result) {\n            var message = result.value;\n            console.log(message)\n            var content = {data: message.data, comm_id};\n            var buffers = []\n            for (var buffer of message.buffers || []) {\n              buffers.push(new DataView(buffer))\n            }\n            var metadata = message.metadata || {};\n            var msg = {content, buffers, metadata}\n            msg_handler(msg);\n            return messages.next().then(processIteratorResult);\n          }\n          return messages.next().then(processIteratorResult);\n        })\n      }\n    }\n\n    JupyterCommManager.prototype.get_client_comm = function(plot_id, comm_id, msg_handler) {\n      if (comm_id in window.PyViz.comms) {\n        return window.PyViz.comms[comm_id];\n      } else if (window.comm_manager || ((window.Jupyter !== undefined) && (Jupyter.notebook.kernel != null))) {\n        var comm_manager = window.comm_manager || Jupyter.notebook.kernel.comm_manager;\n        var comm = comm_manager.new_comm(comm_id, {}, {}, {}, comm_id);\n        if (msg_handler) {\n          comm.on_msg(msg_handler);\n        }\n      } else if ((plot_id in window.PyViz.kernels) && (window.PyViz.kernels[plot_id])) {\n        var comm = window.PyViz.kernels[plot_id].connectToComm(comm_id);\n        comm.open();\n        if (msg_handler) {\n          comm.onMsg = msg_handler;\n        }\n      } else if (typeof google != 'undefined' && google.colab.kernel != null) {\n        var comm_promise = google.colab.kernel.comms.open(comm_id)\n        comm_promise.then((comm) => {\n          window.PyViz.comms[comm_id] = comm;\n          if (msg_handler) {\n            var messages = comm.messages[Symbol.asyncIterator]();\n            function processIteratorResult(result) {\n              var message = result.value;\n              var content = {data: message.data};\n              var metadata = message.metadata || {comm_id};\n              var msg = {content, metadata}\n              msg_handler(msg);\n              return messages.next().then(processIteratorResult);\n            }\n            return messages.next().then(processIteratorResult);\n          }\n        })\n        var sendClosure = (data, metadata, buffers, disposeOnDone) => {\n          return comm_promise.then((comm) => {\n            comm.send(data, metadata, buffers, disposeOnDone);\n          });\n        };\n        var comm = {\n          send: sendClosure\n        };\n      }\n      window.PyViz.comms[comm_id] = comm;\n      return comm;\n    }\n    window.PyViz.comm_manager = new JupyterCommManager();\n    \n\n\nvar JS_MIME_TYPE = 'application/javascript';\nvar HTML_MIME_TYPE = 'text/html';\nvar EXEC_MIME_TYPE = 'application/vnd.holoviews_exec.v0+json';\nvar CLASS_NAME = 'output';\n\n/**\n * Render data to the DOM node\n */\nfunction render(props, node) {\n  var div = document.createElement(\"div\");\n  var script = document.createElement(\"script\");\n  node.appendChild(div);\n  node.appendChild(script);\n}\n\n/**\n * Handle when a new output is added\n */\nfunction handle_add_output(event, handle) {\n  var output_area = handle.output_area;\n  var output = handle.output;\n  if ((output.data == undefined) || (!output.data.hasOwnProperty(EXEC_MIME_TYPE))) {\n    return\n  }\n  var id = output.metadata[EXEC_MIME_TYPE][\"id\"];\n  var toinsert = output_area.element.find(\".\" + CLASS_NAME.split(' ')[0]);\n  if (id !== undefined) {\n    var nchildren = toinsert.length;\n    var html_node = toinsert[nchildren-1].children[0];\n    html_node.innerHTML = output.data[HTML_MIME_TYPE];\n    var scripts = [];\n    var nodelist = html_node.querySelectorAll(\"script\");\n    for (var i in nodelist) {\n      if (nodelist.hasOwnProperty(i)) {\n        scripts.push(nodelist[i])\n      }\n    }\n\n    scripts.forEach( function (oldScript) {\n      var newScript = document.createElement(\"script\");\n      var attrs = [];\n      var nodemap = oldScript.attributes;\n      for (var j in nodemap) {\n        if (nodemap.hasOwnProperty(j)) {\n          attrs.push(nodemap[j])\n        }\n      }\n      attrs.forEach(function(attr) { newScript.setAttribute(attr.name, attr.value) });\n      newScript.appendChild(document.createTextNode(oldScript.innerHTML));\n      oldScript.parentNode.replaceChild(newScript, oldScript);\n    });\n    if (JS_MIME_TYPE in output.data) {\n      toinsert[nchildren-1].children[1].textContent = output.data[JS_MIME_TYPE];\n    }\n    output_area._hv_plot_id = id;\n    if ((window.Bokeh !== undefined) && (id in Bokeh.index)) {\n      window.PyViz.plot_index[id] = Bokeh.index[id];\n    } else {\n      window.PyViz.plot_index[id] = null;\n    }\n  } else if (output.metadata[EXEC_MIME_TYPE][\"server_id\"] !== undefined) {\n    var bk_div = document.createElement(\"div\");\n    bk_div.innerHTML = output.data[HTML_MIME_TYPE];\n    var script_attrs = bk_div.children[0].attributes;\n    for (var i = 0; i < script_attrs.length; i++) {\n      toinsert[toinsert.length - 1].childNodes[1].setAttribute(script_attrs[i].name, script_attrs[i].value);\n    }\n    // store reference to server id on output_area\n    output_area._bokeh_server_id = output.metadata[EXEC_MIME_TYPE][\"server_id\"];\n  }\n}\n\n/**\n * Handle when an output is cleared or removed\n */\nfunction handle_clear_output(event, handle) {\n  var id = handle.cell.output_area._hv_plot_id;\n  var server_id = handle.cell.output_area._bokeh_server_id;\n  if (((id === undefined) || !(id in PyViz.plot_index)) && (server_id !== undefined)) { return; }\n  var comm = window.PyViz.comm_manager.get_client_comm(\"hv-extension-comm\", \"hv-extension-comm\", function () {});\n  if (server_id !== null) {\n    comm.send({event_type: 'server_delete', 'id': server_id});\n    return;\n  } else if (comm !== null) {\n    comm.send({event_type: 'delete', 'id': id});\n  }\n  delete PyViz.plot_index[id];\n  if ((window.Bokeh !== undefined) & (id in window.Bokeh.index)) {\n    var doc = window.Bokeh.index[id].model.document\n    doc.clear();\n    const i = window.Bokeh.documents.indexOf(doc);\n    if (i > -1) {\n      window.Bokeh.documents.splice(i, 1);\n    }\n  }\n}\n\n/**\n * Handle kernel restart event\n */\nfunction handle_kernel_cleanup(event, handle) {\n  delete PyViz.comms[\"hv-extension-comm\"];\n  window.PyViz.plot_index = {}\n}\n\n/**\n * Handle update_display_data messages\n */\nfunction handle_update_output(event, handle) {\n  handle_clear_output(event, {cell: {output_area: handle.output_area}})\n  handle_add_output(event, handle)\n}\n\nfunction register_renderer(events, OutputArea) {\n  function append_mime(data, metadata, element) {\n    // create a DOM node to render to\n    var toinsert = this.create_output_subarea(\n    metadata,\n    CLASS_NAME,\n    EXEC_MIME_TYPE\n    );\n    this.keyboard_manager.register_events(toinsert);\n    // Render to node\n    var props = {data: data, metadata: metadata[EXEC_MIME_TYPE]};\n    render(props, toinsert[0]);\n    element.append(toinsert);\n    return toinsert\n  }\n\n  events.on('output_added.OutputArea', handle_add_output);\n  events.on('output_updated.OutputArea', handle_update_output);\n  events.on('clear_output.CodeCell', handle_clear_output);\n  events.on('delete.Cell', handle_clear_output);\n  events.on('kernel_ready.Kernel', handle_kernel_cleanup);\n\n  OutputArea.prototype.register_mime_type(EXEC_MIME_TYPE, append_mime, {\n    safe: true,\n    index: 0\n  });\n}\n\nif (window.Jupyter !== undefined) {\n  try {\n    var events = require('base/js/events');\n    var OutputArea = require('notebook/js/outputarea').OutputArea;\n    if (OutputArea.prototype.mime_types().indexOf(EXEC_MIME_TYPE) == -1) {\n      register_renderer(events, OutputArea);\n    }\n  } catch(err) {\n  }\n}\n",
            "application/vnd.holoviews_load.v0+json": ""
          },
          "metadata": {},
          "output_type": "display_data"
        }
      ],
      "source": [
        "import os\n",
        "import pickle\n",
        "import re\n",
        "import pathlib\n",
        "import warnings\n",
        "\n",
        "import cartopy.crs as ccrs\n",
        "import earthaccess\n",
        "from earthaccess import results\n",
        "import earthpy as et\n",
        "import geopandas as gpd\n",
        "import geoviews as gv\n",
        "import hvplot.pandas\n",
        "import hvplot.xarray\n",
        "import numpy as np\n",
        "import pandas as pd\n",
        "import rioxarray as rxr\n",
        "import rioxarray.merge as rxrmerge\n",
        "from tqdm.notebook import tqdm\n",
        "import xarray as xr\n",
        "from shapely.geometry import Polygon\n",
        "from sklearn.cluster import KMeans\n",
        "\n",
        "warnings.simplefilter('ignore')"
      ]
    },
    {
      "cell_type": "code",
      "execution_count": 2,
      "id": "86caeee1",
      "metadata": {},
      "outputs": [],
      "source": [
        "# Prevent GDAL from quitting due to momentary disruptions\n",
        "os.environ[\"GDAL_HTTP_MAX_RETRY\"] = \"5\"\n",
        "os.environ[\"GDAL_HTTP_RETRY_DELAY\"] = \"1\""
      ]
    },
    {
      "cell_type": "markdown",
      "id": "00d1daa3-a10e-472b-94ff-4ff2db336bf5",
      "metadata": {},
      "source": [
        "Below you can find code for a caching **decorator** which you can use in\n",
        "your code. To use the decorator:\n",
        "\n",
        "``` python\n",
        "@cached(key, override)\n",
        "def do_something(*args, **kwargs):\n",
        "    ...\n",
        "    return item_to_cache\n",
        "```\n",
        "\n",
        "This decorator will **pickle** the results of running the\n",
        "`do_something()` function, and only run the code if the results don’t\n",
        "already exist. To override the caching, for example temporarily after\n",
        "making changes to your code, set `override=True`. Note that to use the\n",
        "caching decorator, you must write your own function to perform each\n",
        "task!"
      ]
    },
    {
      "cell_type": "code",
      "execution_count": 3,
      "id": "ad0a9842",
      "metadata": {},
      "outputs": [],
      "source": [
        "def cached(func_key, override=False):\n",
        "    \"\"\"\n",
        "    A decorator to cache function results\n",
        "    \n",
        "    Parameters\n",
        "    ==========\n",
        "    key: str\n",
        "      File basename used to save pickled results\n",
        "    override: bool\n",
        "      When True, re-compute even if the results are already stored\n",
        "    \"\"\"\n",
        "    def compute_and_cache_decorator(compute_function):\n",
        "        \"\"\"\n",
        "        Wrap the caching function\n",
        "        \n",
        "        Parameters\n",
        "        ==========\n",
        "        compute_function: function\n",
        "          The function to run and cache results\n",
        "        \"\"\"\n",
        "        def compute_and_cache(*args, **kwargs):\n",
        "            \"\"\"\n",
        "            Perform a computation and cache, or load cached result.\n",
        "            \n",
        "            Parameters\n",
        "            ==========\n",
        "            args\n",
        "              Positional arguments for the compute function\n",
        "            kwargs\n",
        "              Keyword arguments for the compute function\n",
        "            \"\"\"\n",
        "            # Add an identifier from the particular function call\n",
        "            if 'cache_key' in kwargs:\n",
        "                key = '_'.join((func_key, kwargs['cache_key']))\n",
        "            else:\n",
        "                key = func_key\n",
        "\n",
        "            path = os.path.join(\n",
        "                et.io.HOME, et.io.DATA_NAME, 'jars', f'{key}.pickle')\n",
        "            \n",
        "            # Check if the cache exists already or override caching\n",
        "            if not os.path.exists(path) or override:\n",
        "                # Make jars directory if needed\n",
        "                os.makedirs(os.path.dirname(path), exist_ok=True)\n",
        "                \n",
        "                # Run the compute function as the user did\n",
        "                result = compute_function(*args, **kwargs)\n",
        "                \n",
        "                # Pickle the object\n",
        "                with open(path, 'wb') as file:\n",
        "                    pickle.dump(result, file)\n",
        "            else:\n",
        "                # Unpickle the object\n",
        "                with open(path, 'rb') as file:\n",
        "                    result = pickle.load(file)\n",
        "                    \n",
        "            return result\n",
        "        \n",
        "        return compute_and_cache\n",
        "    \n",
        "    return compute_and_cache_decorator"
      ]
    },
    {
      "cell_type": "markdown",
      "id": "2f8cf346-8ef9-4c74-8835-411b1815aac2",
      "metadata": {},
      "source": [
        "## STEP 2: STUDY SITE\n",
        "\n",
        "For this analysis, you will use a watershed from the [Water Boundary\n",
        "Dataset](https://www.usgs.gov/national-hydrography/access-national-hydrography-products),\n",
        "HU12 watersheds (WBDHU12.shp).\n",
        "\n",
        "<link rel=\"stylesheet\" type=\"text/css\" href=\"./assets/styles.css\"><div class=\"callout callout-style-default callout-titled callout-task\"><div class=\"callout-header\"><div class=\"callout-icon-container\"><i class=\"callout-icon\"></i></div><div class=\"callout-title-container flex-fill\">Try It</div></div><div class=\"callout-body-container callout-body\"><ol type=\"1\">\n",
        "<li>Download the Water Boundary Dataset for region 8 (Mississippi)</li>\n",
        "<li>Select watershed 080902030506</li>\n",
        "<li>Generate a site map of the watershed</li>\n",
        "</ol>\n",
        "<p>Try to use the <strong>caching decorator</strong></p></div></div>\n",
        "\n",
        "We chose this watershed because it covers parts of New Orleans an is\n",
        "near the Mississippi Delta. Deltas are boundary areas between the land\n",
        "and the ocean, and as a result tend to contain a rich variety of\n",
        "different land cover and land use types.\n",
        "\n",
        "<link rel=\"stylesheet\" type=\"text/css\" href=\"./assets/styles.css\"><div class=\"callout callout-style-default callout-response\"><div class=\"callout-header\"><div class=\"callout-icon-container\"><i class=\"callout-icon\"></i></div></div><div class=\"callout-body-container callout-body\"><p>Write a 2-3 sentence <strong>site description</strong> (with\n",
        "citations) of this area that helps to put your analysis in context.</p></div></div>"
      ]
    },
    {
      "cell_type": "code",
      "execution_count": 4,
      "id": "eee4df0a",
      "metadata": {},
      "outputs": [],
      "source": [
        "# Applying the cached decorator \n",
        "@cached('region_08')\n",
        "def download_watershed_bounds(boundary_filename, huc):\n",
        "    \"\"\"\n",
        "    Download a USGS watershed boundary dataset.\n",
        "\n",
        "    Args:\n",
        "    boundary_filename (str): USGS National Map regional shapefile name.\n",
        "    huc (int): USGS Hydrologic Unit Code.\n",
        "\n",
        "    Returns:\n",
        "    geopandas.GeoDataFrame: Regional watershed boundary.  \n",
        "    \"\"\"\n",
        "    water_boundary_url = (\n",
        "        \"https://prd-tnm.s3.amazonaws.com/StagedProducts/Hydrography/WBD/\"\n",
        "        f\"HU2/Shape/{boundary_filename}.zip\"\n",
        "    )\n",
        "    # Download data \n",
        "    wbd_dir = et.data.get_data(url=water_boundary_url)\n",
        "\n",
        "    # Join shapefile path\n",
        "    hu12_shape_path = os.path.join(wbd_dir, 'Shape', f'WBDHU{huc}.shp')\n",
        "\n",
        "    # Load dataset\n",
        "\n",
        "    # Pyogrio provides fast, bulk-oriented read and write access to GDAL \n",
        "    # vector data sources, such as ESRI Shapefile\n",
        "    hu12_gdf = gpd.read_file(hu12_shape_path, engine='pyogrio')\n",
        "\n",
        "    return hu12_gdf"
      ]
    },
    {
      "cell_type": "code",
      "execution_count": 5,
      "id": "9934dfbb",
      "metadata": {},
      "outputs": [
        {
          "data": {
            "text/html": [
              "<div>\n",
              "<style scoped>\n",
              "    .dataframe tbody tr th:only-of-type {\n",
              "        vertical-align: middle;\n",
              "    }\n",
              "\n",
              "    .dataframe tbody tr th {\n",
              "        vertical-align: top;\n",
              "    }\n",
              "\n",
              "    .dataframe thead th {\n",
              "        text-align: right;\n",
              "    }\n",
              "</style>\n",
              "<table border=\"1\" class=\"dataframe\">\n",
              "  <thead>\n",
              "    <tr style=\"text-align: right;\">\n",
              "      <th></th>\n",
              "      <th>tnmid</th>\n",
              "      <th>metasource</th>\n",
              "      <th>sourcedata</th>\n",
              "      <th>sourceorig</th>\n",
              "      <th>sourcefeat</th>\n",
              "      <th>loaddate</th>\n",
              "      <th>referenceg</th>\n",
              "      <th>areaacres</th>\n",
              "      <th>areasqkm</th>\n",
              "      <th>states</th>\n",
              "      <th>...</th>\n",
              "      <th>name</th>\n",
              "      <th>hutype</th>\n",
              "      <th>humod</th>\n",
              "      <th>tohuc</th>\n",
              "      <th>noncontrib</th>\n",
              "      <th>noncontr_1</th>\n",
              "      <th>shape_Leng</th>\n",
              "      <th>shape_Area</th>\n",
              "      <th>ObjectID</th>\n",
              "      <th>geometry</th>\n",
              "    </tr>\n",
              "  </thead>\n",
              "  <tbody>\n",
              "    <tr>\n",
              "      <th>0</th>\n",
              "      <td>{8AFB1AF9-7296-4303-89DE-14CD073B859A}</td>\n",
              "      <td>{511D2AC8-11BA-45FC-AB98-F69D693D4C44}</td>\n",
              "      <td>Watershed Boundary Dataset (WBD)</td>\n",
              "      <td>Natural Resources and Conservation Service and...</td>\n",
              "      <td>None</td>\n",
              "      <td>2024-08-15</td>\n",
              "      <td>535297,540579</td>\n",
              "      <td>29441.81</td>\n",
              "      <td>119.15</td>\n",
              "      <td>LA</td>\n",
              "      <td>...</td>\n",
              "      <td>Gourd Bayou-Youngs Bayou</td>\n",
              "      <td>S</td>\n",
              "      <td>LE,ID,DD</td>\n",
              "      <td>080500011308</td>\n",
              "      <td>0.0</td>\n",
              "      <td>0.0</td>\n",
              "      <td>NaN</td>\n",
              "      <td>NaN</td>\n",
              "      <td>1</td>\n",
              "      <td>POLYGON ((-92.00021 32.53586, -91.99994 32.535...</td>\n",
              "    </tr>\n",
              "  </tbody>\n",
              "</table>\n",
              "<p>1 rows × 21 columns</p>\n",
              "</div>"
            ],
            "text/plain": [
              "                                    tnmid  \\\n",
              "0  {8AFB1AF9-7296-4303-89DE-14CD073B859A}   \n",
              "\n",
              "                               metasource                        sourcedata  \\\n",
              "0  {511D2AC8-11BA-45FC-AB98-F69D693D4C44}  Watershed Boundary Dataset (WBD)   \n",
              "\n",
              "                                          sourceorig sourcefeat   loaddate  \\\n",
              "0  Natural Resources and Conservation Service and...       None 2024-08-15   \n",
              "\n",
              "      referenceg  areaacres  areasqkm states  ...                      name  \\\n",
              "0  535297,540579   29441.81    119.15     LA  ...  Gourd Bayou-Youngs Bayou   \n",
              "\n",
              "  hutype     humod         tohuc noncontrib  noncontr_1  shape_Leng  \\\n",
              "0      S  LE,ID,DD  080500011308        0.0         0.0         NaN   \n",
              "\n",
              "   shape_Area  ObjectID                                           geometry  \n",
              "0         NaN         1  POLYGON ((-92.00021 32.53586, -91.99994 32.535...  \n",
              "\n",
              "[1 rows x 21 columns]"
            ]
          },
          "execution_count": 5,
          "metadata": {},
          "output_type": "execute_result"
        }
      ],
      "source": [
        "# Download watershed boundaries dataset\n",
        "\n",
        "# Hydrologic Unit level \"HU2\" indicates a large region \n",
        "region = '08'\n",
        "\n",
        "boundary_filename = f'WBD_{region}_HU2_Shape'\n",
        "\n",
        "# HU12: a very small subwatershed within a HU2 region\n",
        "huc = 12 \n",
        "\n",
        "wbd_gdf = download_watershed_bounds(boundary_filename, huc)\n",
        "\n",
        "wbd_gdf.head(1)"
      ]
    },
    {
      "cell_type": "code",
      "execution_count": 6,
      "id": "9e532456",
      "metadata": {},
      "outputs": [
        {
          "data": {
            "text/plain": [
              "Index(['tnmid', 'metasource', 'sourcedata', 'sourceorig', 'sourcefeat',\n",
              "       'loaddate', 'referenceg', 'areaacres', 'areasqkm', 'states', 'huc12',\n",
              "       'name', 'hutype', 'humod', 'tohuc', 'noncontrib', 'noncontr_1',\n",
              "       'shape_Leng', 'shape_Area', 'ObjectID', 'geometry'],\n",
              "      dtype='object')"
            ]
          },
          "execution_count": 6,
          "metadata": {},
          "output_type": "execute_result"
        }
      ],
      "source": [
        "wbd_gdf.columns"
      ]
    },
    {
      "cell_type": "code",
      "execution_count": 7,
      "id": "f02b8c05",
      "metadata": {},
      "outputs": [
        {
          "data": {
            "text/html": [
              "<div>\n",
              "<style scoped>\n",
              "    .dataframe tbody tr th:only-of-type {\n",
              "        vertical-align: middle;\n",
              "    }\n",
              "\n",
              "    .dataframe tbody tr th {\n",
              "        vertical-align: top;\n",
              "    }\n",
              "\n",
              "    .dataframe thead th {\n",
              "        text-align: right;\n",
              "    }\n",
              "</style>\n",
              "<table border=\"1\" class=\"dataframe\">\n",
              "  <thead>\n",
              "    <tr style=\"text-align: right;\">\n",
              "      <th></th>\n",
              "      <th>geometry</th>\n",
              "      <th>tnmid</th>\n",
              "      <th>metasource</th>\n",
              "      <th>sourcedata</th>\n",
              "      <th>sourceorig</th>\n",
              "      <th>sourcefeat</th>\n",
              "      <th>loaddate</th>\n",
              "      <th>referenceg</th>\n",
              "      <th>areaacres</th>\n",
              "      <th>areasqkm</th>\n",
              "      <th>...</th>\n",
              "      <th>huc12</th>\n",
              "      <th>name</th>\n",
              "      <th>hutype</th>\n",
              "      <th>humod</th>\n",
              "      <th>tohuc</th>\n",
              "      <th>noncontrib</th>\n",
              "      <th>noncontr_1</th>\n",
              "      <th>shape_Leng</th>\n",
              "      <th>shape_Area</th>\n",
              "      <th>ObjectID</th>\n",
              "    </tr>\n",
              "  </thead>\n",
              "  <tbody>\n",
              "    <tr>\n",
              "      <th>0</th>\n",
              "      <td>POLYGON ((-89.97047 29.74687, -89.96593 29.750...</td>\n",
              "      <td>{E942B72E-599E-48F5-908A-EA5265701C14}</td>\n",
              "      <td>{511D2AC8-11BA-45FC-AB98-F69D693D4C44}</td>\n",
              "      <td>Watershed Boundary Dataset (WBD)</td>\n",
              "      <td>Natural Resources and Conservation Service and...</td>\n",
              "      <td>None</td>\n",
              "      <td>2024-08-15</td>\n",
              "      <td>536881,539539</td>\n",
              "      <td>37355.86</td>\n",
              "      <td>151.17</td>\n",
              "      <td>...</td>\n",
              "      <td>080902030506</td>\n",
              "      <td>Manuel Canal-Spanish Lake</td>\n",
              "      <td>D</td>\n",
              "      <td>GC</td>\n",
              "      <td>080902030508</td>\n",
              "      <td>0.0</td>\n",
              "      <td>0.0</td>\n",
              "      <td>NaN</td>\n",
              "      <td>NaN</td>\n",
              "      <td>2560</td>\n",
              "    </tr>\n",
              "  </tbody>\n",
              "</table>\n",
              "<p>1 rows × 21 columns</p>\n",
              "</div>"
            ],
            "text/plain": [
              "                                            geometry  \\\n",
              "0  POLYGON ((-89.97047 29.74687, -89.96593 29.750...   \n",
              "\n",
              "                                    tnmid  \\\n",
              "0  {E942B72E-599E-48F5-908A-EA5265701C14}   \n",
              "\n",
              "                               metasource                        sourcedata  \\\n",
              "0  {511D2AC8-11BA-45FC-AB98-F69D693D4C44}  Watershed Boundary Dataset (WBD)   \n",
              "\n",
              "                                          sourceorig sourcefeat   loaddate  \\\n",
              "0  Natural Resources and Conservation Service and...       None 2024-08-15   \n",
              "\n",
              "      referenceg  areaacres  areasqkm  ...         huc12  \\\n",
              "0  536881,539539   37355.86    151.17  ...  080902030506   \n",
              "\n",
              "                        name hutype humod         tohuc noncontrib  \\\n",
              "0  Manuel Canal-Spanish Lake      D    GC  080902030508        0.0   \n",
              "\n",
              "   noncontr_1  shape_Leng  shape_Area  ObjectID  \n",
              "0         0.0         NaN         NaN      2560  \n",
              "\n",
              "[1 rows x 21 columns]"
            ]
          },
          "execution_count": 7,
          "metadata": {},
          "output_type": "execute_result"
        }
      ],
      "source": [
        "# Select watershed \n",
        "\n",
        "watershed = '080902030506'\n",
        "\n",
        "ms_delta_gdf = (\n",
        "    wbd_gdf[wbd_gdf[f'huc{huc}'] # select HU12 subregion\n",
        "    .isin([watershed])] # subset for Mississippi Delta \n",
        "    .dissolve() # dissolve geometries into single observation\n",
        ")\n",
        "\n",
        "ms_delta_gdf"
      ]
    },
    {
      "cell_type": "code",
      "execution_count": 8,
      "id": "1b86a704",
      "metadata": {},
      "outputs": [
        {
          "data": {},
          "metadata": {},
          "output_type": "display_data"
        },
        {
          "data": {
            "application/vnd.holoviews_exec.v0+json": "",
            "text/html": [
              "<div id='3ae6f423-0ed7-451e-9339-54f6779061a5'>\n",
              "  <div id=\"a6f64767-09e2-4f4f-895b-8822f9b91539\" data-root-id=\"3ae6f423-0ed7-451e-9339-54f6779061a5\" style=\"display: contents;\"></div>\n",
              "</div>\n",
              "<script type=\"application/javascript\">(function(root) {\n",
              "  var docs_json = {\"631bc590-7b27-4e8b-858e-ffe83d79640a\":{\"version\":\"3.6.3\",\"title\":\"Bokeh Application\",\"roots\":[{\"type\":\"object\",\"name\":\"Row\",\"id\":\"3ae6f423-0ed7-451e-9339-54f6779061a5\",\"attributes\":{\"name\":\"Row00402\",\"tags\":[\"embedded\"],\"stylesheets\":[\"\\n:host(.pn-loading):before, .pn-loading:before {\\n  background-color: #c3c3c3;\\n  mask-size: auto calc(min(50%, 400px));\\n  -webkit-mask-size: auto calc(min(50%, 400px));\\n}\",{\"type\":\"object\",\"name\":\"ImportedStyleSheet\",\"id\":\"f2536d68-1f5e-4d54-bc0f-40402bdbcf37\",\"attributes\":{\"url\":\"https://cdn.holoviz.org/panel/1.6.0/dist/css/loading.css\"}},{\"type\":\"object\",\"name\":\"ImportedStyleSheet\",\"id\":\"ed150f90-fd84-4bf4-add0-1bed81968ac1\",\"attributes\":{\"url\":\"https://cdn.holoviz.org/panel/1.6.0/dist/css/listpanel.css\"}},{\"type\":\"object\",\"name\":\"ImportedStyleSheet\",\"id\":\"aae8114e-1240-4403-88e0-fdc7e9ddf572\",\"attributes\":{\"url\":\"https://cdn.holoviz.org/panel/1.6.0/dist/bundled/theme/default.css\"}},{\"type\":\"object\",\"name\":\"ImportedStyleSheet\",\"id\":\"19741657-9f3a-40c4-a0d8-0663b52548fd\",\"attributes\":{\"url\":\"https://cdn.holoviz.org/panel/1.6.0/dist/bundled/theme/native.css\"}}],\"min_width\":600,\"margin\":0,\"sizing_mode\":\"stretch_width\",\"align\":\"start\",\"children\":[{\"type\":\"object\",\"name\":\"Spacer\",\"id\":\"6efa20d3-29a5-4a42-921d-6111e4d01383\",\"attributes\":{\"name\":\"HSpacer00406\",\"stylesheets\":[\"\\n:host(.pn-loading):before, .pn-loading:before {\\n  background-color: #c3c3c3;\\n  mask-size: auto calc(min(50%, 400px));\\n  -webkit-mask-size: auto calc(min(50%, 400px));\\n}\",{\"id\":\"f2536d68-1f5e-4d54-bc0f-40402bdbcf37\"},{\"id\":\"aae8114e-1240-4403-88e0-fdc7e9ddf572\"},{\"id\":\"19741657-9f3a-40c4-a0d8-0663b52548fd\"}],\"margin\":0,\"sizing_mode\":\"stretch_width\",\"align\":\"start\"}},{\"type\":\"object\",\"name\":\"Figure\",\"id\":\"44a4e54d-0fe8-4c43-b84b-22030d6df132\",\"attributes\":{\"height\":400,\"margin\":[5,10],\"sizing_mode\":\"fixed\",\"align\":\"start\",\"x_range\":{\"type\":\"object\",\"name\":\"Range1d\",\"id\":\"51686532-25df-488b-bffb-7d53ae182993\",\"attributes\":{\"name\":\"Longitude\",\"tags\":[[[\"Longitude\",null]],[]],\"start\":-10021571.64406701,\"end\":-9988915.549158975,\"reset_start\":-10021571.64406701,\"reset_end\":-9988915.549158975,\"min_interval\":5}},\"y_range\":{\"type\":\"object\",\"name\":\"Range1d\",\"id\":\"2302e436-c840-4874-9883-6d1a83ce55f3\",\"attributes\":{\"name\":\"Latitude\",\"tags\":[[[\"Latitude\",null]],{\"type\":\"map\",\"entries\":[[\"invert_yaxis\",false],[\"autorange\",false]]}],\"start\":3460913.382706359,\"end\":3482684.1126450486,\"reset_start\":3460913.382706359,\"reset_end\":3482684.1126450486,\"min_interval\":5}},\"x_scale\":{\"type\":\"object\",\"name\":\"LinearScale\",\"id\":\"fbd985d6-1e59-4b8c-8474-66a6295f1aff\"},\"y_scale\":{\"type\":\"object\",\"name\":\"LinearScale\",\"id\":\"fdaf0e2e-e53f-407b-a403-46c539c608ed\"},\"title\":{\"type\":\"object\",\"name\":\"Title\",\"id\":\"be4c39e3-c97b-424e-aa9c-47153dcaaadc\",\"attributes\":{\"text_color\":\"black\",\"text_font_size\":\"12pt\"}},\"renderers\":[{\"type\":\"object\",\"name\":\"TileRenderer\",\"id\":\"91269728-16cf-4cc5-aebf-127560ef45df\",\"attributes\":{\"level\":\"underlay\",\"tile_source\":{\"type\":\"object\",\"name\":\"WMTSTileSource\",\"id\":\"a3c87c60-eb01-475a-994e-250d0c564ec7\",\"attributes\":{\"url\":\"https://server.arcgisonline.com/ArcGIS/rest/services/World_Imagery/MapServer/tile/{Z}/{Y}/{X}.jpg\",\"attribution\":\"&copy; <a href=\\\"http://downloads.esri.com/ArcGISOnline/docs/tou_summary.pdf\\\">Esri</a>, Earthstar Geographics\"}}}},{\"type\":\"object\",\"name\":\"GlyphRenderer\",\"id\":\"a1d5de73-0b53-4cc0-8715-01e1efb6e39a\",\"attributes\":{\"data_source\":{\"type\":\"object\",\"name\":\"ColumnDataSource\",\"id\":\"9b2d6374-e036-4f96-8376-28f141289021\",\"attributes\":{\"selected\":{\"type\":\"object\",\"name\":\"Selection\",\"id\":\"b28d9a11-fb2c-4d7c-8a4f-851b26a362a0\",\"attributes\":{\"indices\":[],\"line_indices\":[]}},\"selection_policy\":{\"type\":\"object\",\"name\":\"UnionRenderers\",\"id\":\"072b3397-93ed-4f09-adf3-f79213640910\"},\"data\":{\"type\":\"map\",\"entries\":[[\"xs\",[[[{\"type\":\"ndarray\",\"array\":{\"type\":\"bytes\",\"data\":\"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\"},\"shape\":[454],\"dtype\":\"float64\",\"order\":\"little\"}]]]],[\"ys\",[[[{\"type\":\"ndarray\",\"array\":{\"type\":\"bytes\",\"data\":\"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\"},\"shape\":[454],\"dtype\":\"float64\",\"order\":\"little\"}]]]]]}}},\"view\":{\"type\":\"object\",\"name\":\"CDSView\",\"id\":\"d723e5cb-ff7b-4fcf-bfc3-fcf4e0316ac3\",\"attributes\":{\"filter\":{\"type\":\"object\",\"name\":\"AllIndices\",\"id\":\"94e4068c-b7e2-4506-a614-2db50050e627\"}}},\"glyph\":{\"type\":\"object\",\"name\":\"MultiPolygons\",\"id\":\"9c5fa405-dcdc-4dae-89ad-5b4562987b93\",\"attributes\":{\"xs\":{\"type\":\"field\",\"field\":\"xs\"},\"ys\":{\"type\":\"field\",\"field\":\"ys\"},\"line_alpha\":{\"type\":\"value\",\"value\":0.2},\"fill_color\":{\"type\":\"value\",\"value\":\"white\"},\"fill_alpha\":{\"type\":\"value\",\"value\":0.2},\"hatch_color\":{\"type\":\"value\",\"value\":\"#30a2da\"},\"hatch_alpha\":{\"type\":\"value\",\"value\":0.2}}},\"selection_glyph\":{\"type\":\"object\",\"name\":\"MultiPolygons\",\"id\":\"3dd5e64b-8d9e-4dee-b508-fce0d0057f54\",\"attributes\":{\"xs\":{\"type\":\"field\",\"field\":\"xs\"},\"ys\":{\"type\":\"field\",\"field\":\"ys\"},\"line_color\":{\"type\":\"value\",\"value\":\"black\"},\"line_alpha\":{\"type\":\"value\",\"value\":0.2},\"line_width\":{\"type\":\"value\",\"value\":1},\"line_join\":{\"type\":\"value\",\"value\":\"bevel\"},\"line_cap\":{\"type\":\"value\",\"value\":\"butt\"},\"line_dash\":{\"type\":\"value\",\"value\":[]},\"line_dash_offset\":{\"type\":\"value\",\"value\":0},\"fill_color\":{\"type\":\"value\",\"value\":\"white\"},\"fill_alpha\":{\"type\":\"value\",\"value\":0.2},\"hatch_color\":{\"type\":\"value\",\"value\":\"#30a2da\"},\"hatch_alpha\":{\"type\":\"value\",\"value\":0.2},\"hatch_scale\":{\"type\":\"value\",\"value\":12.0},\"hatch_pattern\":{\"type\":\"value\",\"value\":null},\"hatch_weight\":{\"type\":\"value\",\"value\":1.0}}},\"nonselection_glyph\":{\"type\":\"object\",\"name\":\"MultiPolygons\",\"id\":\"cdbd91c9-b4c2-4ab6-914b-7c9d906c8250\",\"attributes\":{\"xs\":{\"type\":\"field\",\"field\":\"xs\"},\"ys\":{\"type\":\"field\",\"field\":\"ys\"},\"line_alpha\":{\"type\":\"value\",\"value\":0.2},\"fill_color\":{\"type\":\"value\",\"value\":\"white\"},\"fill_alpha\":{\"type\":\"value\",\"value\":0.2},\"hatch_color\":{\"type\":\"value\",\"value\":\"#30a2da\"},\"hatch_alpha\":{\"type\":\"value\",\"value\":0.1}}},\"muted_glyph\":{\"type\":\"object\",\"name\":\"MultiPolygons\",\"id\":\"7d2fd1b7-ee5b-4c68-b53f-3cbf5d2bbaa9\",\"attributes\":{\"xs\":{\"type\":\"field\",\"field\":\"xs\"},\"ys\":{\"type\":\"field\",\"field\":\"ys\"},\"line_alpha\":{\"type\":\"value\",\"value\":0.2},\"fill_color\":{\"type\":\"value\",\"value\":\"white\"},\"fill_alpha\":{\"type\":\"value\",\"value\":0.2},\"hatch_color\":{\"type\":\"value\",\"value\":\"#30a2da\"},\"hatch_alpha\":{\"type\":\"value\",\"value\":0.2}}}}}],\"toolbar\":{\"type\":\"object\",\"name\":\"Toolbar\",\"id\":\"8365568e-8a80-4b52-9573-941a3c13e229\",\"attributes\":{\"tools\":[{\"type\":\"object\",\"name\":\"WheelZoomTool\",\"id\":\"3f0814f7-7f4e-4052-b392-1dbdeff05cd1\",\"attributes\":{\"renderers\":\"auto\",\"zoom_on_axis\":false}},{\"type\":\"object\",\"name\":\"BoxZoomTool\",\"id\":\"046f7233-0401-4294-960d-f4c2d8eafae6\",\"attributes\":{\"overlay\":{\"type\":\"object\",\"name\":\"BoxAnnotation\",\"id\":\"bf969dea-6eb3-4b37-baa3-f075dd591055\",\"attributes\":{\"syncable\":false,\"line_color\":\"black\",\"line_alpha\":1.0,\"line_width\":2,\"line_dash\":[4,4],\"fill_color\":\"lightgrey\",\"fill_alpha\":0.5,\"level\":\"overlay\",\"visible\":false,\"left\":{\"type\":\"number\",\"value\":\"nan\"},\"right\":{\"type\":\"number\",\"value\":\"nan\"},\"top\":{\"type\":\"number\",\"value\":\"nan\"},\"bottom\":{\"type\":\"number\",\"value\":\"nan\"},\"left_units\":\"canvas\",\"right_units\":\"canvas\",\"top_units\":\"canvas\",\"bottom_units\":\"canvas\",\"handles\":{\"type\":\"object\",\"name\":\"BoxInteractionHandles\",\"id\":\"p1010\",\"attributes\":{\"all\":{\"type\":\"object\",\"name\":\"AreaVisuals\",\"id\":\"p1009\",\"attributes\":{\"fill_color\":\"white\",\"hover_fill_color\":\"lightgray\"}}}}}},\"match_aspect\":true}},{\"type\":\"object\",\"name\":\"PanTool\",\"id\":\"2e9be8fe-0d66-470d-8b5e-1f61669efec5\"},{\"type\":\"object\",\"name\":\"ResetTool\",\"id\":\"4089e213-1b23-400d-a166-b52980d65419\"}],\"active_drag\":{\"id\":\"2e9be8fe-0d66-470d-8b5e-1f61669efec5\"}}},\"left\":[{\"type\":\"object\",\"name\":\"LinearAxis\",\"id\":\"aabf0285-63e3-462e-ae92-7786a1e0869c\",\"attributes\":{\"ticker\":{\"type\":\"object\",\"name\":\"MercatorTicker\",\"id\":\"f4359796-2ee8-4074-b74f-3a3382305f40\",\"attributes\":{\"mantissas\":[1,2,5],\"dimension\":\"lat\"}},\"formatter\":{\"type\":\"object\",\"name\":\"MercatorTickFormatter\",\"id\":\"871c2e76-4712-4c91-9ed3-7a3c1641be3a\",\"attributes\":{\"dimension\":\"lat\"}},\"axis_label\":\"Latitude\",\"major_label_policy\":{\"type\":\"object\",\"name\":\"AllLabels\",\"id\":\"face608e-d81d-4449-85e5-e330895643df\"}}}],\"below\":[{\"type\":\"object\",\"name\":\"LinearAxis\",\"id\":\"4b439204-e1cd-45d6-b1d8-0d164e33296b\",\"attributes\":{\"ticker\":{\"type\":\"object\",\"name\":\"MercatorTicker\",\"id\":\"69f05d83-34de-4399-a22f-e8d496af7383\",\"attributes\":{\"mantissas\":[1,2,5],\"dimension\":\"lon\"}},\"formatter\":{\"type\":\"object\",\"name\":\"MercatorTickFormatter\",\"id\":\"dabaeb9d-0a2f-490c-9a93-512445928627\",\"attributes\":{\"dimension\":\"lon\"}},\"axis_label\":\"Longitude\",\"major_label_policy\":{\"type\":\"object\",\"name\":\"AllLabels\",\"id\":\"a4446c86-cce7-488f-9ef3-2a84e89ec842\"}}}],\"center\":[{\"type\":\"object\",\"name\":\"Grid\",\"id\":\"7c1e5449-d468-4a04-8cf3-5dd1a44ead3c\",\"attributes\":{\"axis\":{\"id\":\"4b439204-e1cd-45d6-b1d8-0d164e33296b\"},\"grid_line_color\":null}},{\"type\":\"object\",\"name\":\"Grid\",\"id\":\"394c597d-6f4f-4e74-9522-3aba8e901fe1\",\"attributes\":{\"dimension\":1,\"axis\":{\"id\":\"aabf0285-63e3-462e-ae92-7786a1e0869c\"},\"grid_line_color\":null}}],\"frame_width\":600,\"frame_height\":400,\"min_border_top\":10,\"min_border_bottom\":10,\"min_border_left\":10,\"min_border_right\":10,\"output_backend\":\"webgl\",\"match_aspect\":true}},{\"type\":\"object\",\"name\":\"Spacer\",\"id\":\"d89aaf1b-3c10-42b4-a009-33ba37dabeb7\",\"attributes\":{\"name\":\"HSpacer00407\",\"stylesheets\":[\"\\n:host(.pn-loading):before, .pn-loading:before {\\n  background-color: #c3c3c3;\\n  mask-size: auto calc(min(50%, 400px));\\n  -webkit-mask-size: auto calc(min(50%, 400px));\\n}\",{\"id\":\"f2536d68-1f5e-4d54-bc0f-40402bdbcf37\"},{\"id\":\"aae8114e-1240-4403-88e0-fdc7e9ddf572\"},{\"id\":\"19741657-9f3a-40c4-a0d8-0663b52548fd\"}],\"margin\":0,\"sizing_mode\":\"stretch_width\",\"align\":\"start\"}}]}}],\"defs\":[{\"type\":\"model\",\"name\":\"ReactiveHTML1\"},{\"type\":\"model\",\"name\":\"FlexBox1\",\"properties\":[{\"name\":\"align_content\",\"kind\":\"Any\",\"default\":\"flex-start\"},{\"name\":\"align_items\",\"kind\":\"Any\",\"default\":\"flex-start\"},{\"name\":\"flex_direction\",\"kind\":\"Any\",\"default\":\"row\"},{\"name\":\"flex_wrap\",\"kind\":\"Any\",\"default\":\"wrap\"},{\"name\":\"gap\",\"kind\":\"Any\",\"default\":\"\"},{\"name\":\"justify_content\",\"kind\":\"Any\",\"default\":\"flex-start\"}]},{\"type\":\"model\",\"name\":\"FloatPanel1\",\"properties\":[{\"name\":\"config\",\"kind\":\"Any\",\"default\":{\"type\":\"map\"}},{\"name\":\"contained\",\"kind\":\"Any\",\"default\":true},{\"name\":\"position\",\"kind\":\"Any\",\"default\":\"right-top\"},{\"name\":\"offsetx\",\"kind\":\"Any\",\"default\":null},{\"name\":\"offsety\",\"kind\":\"Any\",\"default\":null},{\"name\":\"theme\",\"kind\":\"Any\",\"default\":\"primary\"},{\"name\":\"status\",\"kind\":\"Any\",\"default\":\"normalized\"}]},{\"type\":\"model\",\"name\":\"GridStack1\",\"properties\":[{\"name\":\"mode\",\"kind\":\"Any\",\"default\":\"warn\"},{\"name\":\"ncols\",\"kind\":\"Any\",\"default\":null},{\"name\":\"nrows\",\"kind\":\"Any\",\"default\":null},{\"name\":\"allow_resize\",\"kind\":\"Any\",\"default\":true},{\"name\":\"allow_drag\",\"kind\":\"Any\",\"default\":true},{\"name\":\"state\",\"kind\":\"Any\",\"default\":[]}]},{\"type\":\"model\",\"name\":\"drag1\",\"properties\":[{\"name\":\"slider_width\",\"kind\":\"Any\",\"default\":5},{\"name\":\"slider_color\",\"kind\":\"Any\",\"default\":\"black\"},{\"name\":\"value\",\"kind\":\"Any\",\"default\":50}]},{\"type\":\"model\",\"name\":\"click1\",\"properties\":[{\"name\":\"terminal_output\",\"kind\":\"Any\",\"default\":\"\"},{\"name\":\"debug_name\",\"kind\":\"Any\",\"default\":\"\"},{\"name\":\"clears\",\"kind\":\"Any\",\"default\":0}]},{\"type\":\"model\",\"name\":\"FastWrapper1\",\"properties\":[{\"name\":\"object\",\"kind\":\"Any\",\"default\":null},{\"name\":\"style\",\"kind\":\"Any\",\"default\":null}]},{\"type\":\"model\",\"name\":\"NotificationAreaBase1\",\"properties\":[{\"name\":\"js_events\",\"kind\":\"Any\",\"default\":{\"type\":\"map\"}},{\"name\":\"position\",\"kind\":\"Any\",\"default\":\"bottom-right\"},{\"name\":\"_clear\",\"kind\":\"Any\",\"default\":0}]},{\"type\":\"model\",\"name\":\"NotificationArea1\",\"properties\":[{\"name\":\"js_events\",\"kind\":\"Any\",\"default\":{\"type\":\"map\"}},{\"name\":\"notifications\",\"kind\":\"Any\",\"default\":[]},{\"name\":\"position\",\"kind\":\"Any\",\"default\":\"bottom-right\"},{\"name\":\"_clear\",\"kind\":\"Any\",\"default\":0},{\"name\":\"types\",\"kind\":\"Any\",\"default\":[{\"type\":\"map\",\"entries\":[[\"type\",\"warning\"],[\"background\",\"#ffc107\"],[\"icon\",{\"type\":\"map\",\"entries\":[[\"className\",\"fas fa-exclamation-triangle\"],[\"tagName\",\"i\"],[\"color\",\"white\"]]}]]},{\"type\":\"map\",\"entries\":[[\"type\",\"info\"],[\"background\",\"#007bff\"],[\"icon\",{\"type\":\"map\",\"entries\":[[\"className\",\"fas fa-info-circle\"],[\"tagName\",\"i\"],[\"color\",\"white\"]]}]]}]}]},{\"type\":\"model\",\"name\":\"Notification\",\"properties\":[{\"name\":\"background\",\"kind\":\"Any\",\"default\":null},{\"name\":\"duration\",\"kind\":\"Any\",\"default\":3000},{\"name\":\"icon\",\"kind\":\"Any\",\"default\":null},{\"name\":\"message\",\"kind\":\"Any\",\"default\":\"\"},{\"name\":\"notification_type\",\"kind\":\"Any\",\"default\":null},{\"name\":\"_rendered\",\"kind\":\"Any\",\"default\":false},{\"name\":\"_destroyed\",\"kind\":\"Any\",\"default\":false}]},{\"type\":\"model\",\"name\":\"TemplateActions1\",\"properties\":[{\"name\":\"open_modal\",\"kind\":\"Any\",\"default\":0},{\"name\":\"close_modal\",\"kind\":\"Any\",\"default\":0}]},{\"type\":\"model\",\"name\":\"BootstrapTemplateActions1\",\"properties\":[{\"name\":\"open_modal\",\"kind\":\"Any\",\"default\":0},{\"name\":\"close_modal\",\"kind\":\"Any\",\"default\":0}]},{\"type\":\"model\",\"name\":\"TemplateEditor1\",\"properties\":[{\"name\":\"layout\",\"kind\":\"Any\",\"default\":[]}]},{\"type\":\"model\",\"name\":\"MaterialTemplateActions1\",\"properties\":[{\"name\":\"open_modal\",\"kind\":\"Any\",\"default\":0},{\"name\":\"close_modal\",\"kind\":\"Any\",\"default\":0}]},{\"type\":\"model\",\"name\":\"ReactiveESM1\",\"properties\":[{\"name\":\"esm_constants\",\"kind\":\"Any\",\"default\":{\"type\":\"map\"}}]},{\"type\":\"model\",\"name\":\"JSComponent1\",\"properties\":[{\"name\":\"esm_constants\",\"kind\":\"Any\",\"default\":{\"type\":\"map\"}}]},{\"type\":\"model\",\"name\":\"ReactComponent1\",\"properties\":[{\"name\":\"esm_constants\",\"kind\":\"Any\",\"default\":{\"type\":\"map\"}}]},{\"type\":\"model\",\"name\":\"AnyWidgetComponent1\",\"properties\":[{\"name\":\"esm_constants\",\"kind\":\"Any\",\"default\":{\"type\":\"map\"}}]},{\"type\":\"model\",\"name\":\"request_value1\",\"properties\":[{\"name\":\"fill\",\"kind\":\"Any\",\"default\":\"none\"},{\"name\":\"_synced\",\"kind\":\"Any\",\"default\":null},{\"name\":\"_request_sync\",\"kind\":\"Any\",\"default\":0}]}]}};\n",
              "  var render_items = [{\"docid\":\"631bc590-7b27-4e8b-858e-ffe83d79640a\",\"roots\":{\"3ae6f423-0ed7-451e-9339-54f6779061a5\":\"a6f64767-09e2-4f4f-895b-8822f9b91539\"},\"root_ids\":[\"3ae6f423-0ed7-451e-9339-54f6779061a5\"]}];\n",
              "  var docs = Object.values(docs_json)\n",
              "  if (!docs) {\n",
              "    return\n",
              "  }\n",
              "  const py_version = docs[0].version.replace('rc', '-rc.').replace('.dev', '-dev.')\n",
              "  async function embed_document(root) {\n",
              "    var Bokeh = get_bokeh(root)\n",
              "    await Bokeh.embed.embed_items_notebook(docs_json, render_items);\n",
              "    for (const render_item of render_items) {\n",
              "      for (const root_id of render_item.root_ids) {\n",
              "\tconst id_el = document.getElementById(root_id)\n",
              "\tif (id_el.children.length && id_el.children[0].hasAttribute('data-root-id')) {\n",
              "\t  const root_el = id_el.children[0]\n",
              "\t  root_el.id = root_el.id + '-rendered'\n",
              "\t  for (const child of root_el.children) {\n",
              "            // Ensure JupyterLab does not capture keyboard shortcuts\n",
              "            // see: https://jupyterlab.readthedocs.io/en/4.1.x/extension/notebook.html#keyboard-interaction-model\n",
              "\t    child.setAttribute('data-lm-suppress-shortcuts', 'true')\n",
              "\t  }\n",
              "\t}\n",
              "      }\n",
              "    }\n",
              "  }\n",
              "  function get_bokeh(root) {\n",
              "    if (root.Bokeh === undefined) {\n",
              "      return null\n",
              "    } else if (root.Bokeh.version !== py_version) {\n",
              "      if (root.Bokeh.versions === undefined || !root.Bokeh.versions.has(py_version)) {\n",
              "\treturn null\n",
              "      }\n",
              "      return root.Bokeh.versions.get(py_version);\n",
              "    } else if (root.Bokeh.version === py_version) {\n",
              "      return root.Bokeh\n",
              "    }\n",
              "    return null\n",
              "  }\n",
              "  function is_loaded(root) {\n",
              "    var Bokeh = get_bokeh(root)\n",
              "    return (Bokeh != null && Bokeh.Panel !== undefined)\n",
              "  }\n",
              "  if (is_loaded(root)) {\n",
              "    embed_document(root);\n",
              "  } else {\n",
              "    var attempts = 0;\n",
              "    var timer = setInterval(function(root) {\n",
              "      if (is_loaded(root)) {\n",
              "        clearInterval(timer);\n",
              "        embed_document(root);\n",
              "      } else if (document.readyState == \"complete\") {\n",
              "        attempts++;\n",
              "        if (attempts > 200) {\n",
              "          clearInterval(timer);\n",
              "\t  var Bokeh = get_bokeh(root)\n",
              "\t  if (Bokeh == null || Bokeh.Panel == null) {\n",
              "            console.warn(\"Panel: ERROR: Unable to run Panel code because Bokeh or Panel library is missing\");\n",
              "\t  } else {\n",
              "\t    console.warn(\"Panel: WARNING: Attempting to render but not all required libraries could be resolved.\")\n",
              "\t    embed_document(root)\n",
              "\t  }\n",
              "        }\n",
              "      }\n",
              "    }, 25, root)\n",
              "  }\n",
              "})(window);</script>"
            ],
            "text/plain": [
              ":Overlay\n",
              "   .WMTS.I     :WMTS   [Longitude,Latitude]\n",
              "   .Polygons.I :Polygons   [Longitude,Latitude]"
            ]
          },
          "execution_count": 8,
          "metadata": {
            "application/vnd.holoviews_exec.v0+json": {
              "id": "3ae6f423-0ed7-451e-9339-54f6779061a5"
            }
          },
          "output_type": "execute_result"
        }
      ],
      "source": [
        "# Plot watershed \n",
        "\n",
        "(\n",
        "    ms_delta_gdf.to_crs(ccrs.Mercator())\n",
        "    .hvplot(\n",
        "        alpha=.2, fill_color='white', tiles='EsriImagery',\n",
        "        crs=ccrs.Mercator())\n",
        "    .opts(width=600, height=400)\n",
        ")"
      ]
    },
    {
      "cell_type": "markdown",
      "id": "e779d07a-9ebd-4d84-af53-3fd1c211606c",
      "metadata": {},
      "source": [
        "**YOUR SITE DESCRIPTION HERE**"
      ]
    },
    {
      "cell_type": "markdown",
      "id": "f9903174-b87c-4026-8564-bd3e62dbfd14",
      "metadata": {},
      "source": [
        "## STEP 3: MULTISPECTRAL DATA\n",
        "\n",
        "### Search for data\n",
        "\n",
        "<link rel=\"stylesheet\" type=\"text/css\" href=\"./assets/styles.css\"><div class=\"callout callout-style-default callout-titled callout-task\"><div class=\"callout-header\"><div class=\"callout-icon-container\"><i class=\"callout-icon\"></i></div><div class=\"callout-title-container flex-fill\">Try It</div></div><div class=\"callout-body-container callout-body\"><ol type=\"1\">\n",
        "<li>Log in to the <code>earthaccess</code> service using your Earthdata\n",
        "credentials:\n",
        "<code>python      earthaccess.login(persist=True)</code></li>\n",
        "<li>Modify the following sample code to search for granules of the\n",
        "HLSL30 product overlapping the watershed boundary from May to October\n",
        "2023 (there should be 76 granules):\n",
        "<code>python      results = earthaccess.search_data(          short_name=\"...\",          cloud_hosted=True,          bounding_box=tuple(gdf.total_bounds),          temporal=(\"...\", \"...\"),      )</code></li>\n",
        "</ol></div></div>"
      ]
    },
    {
      "cell_type": "code",
      "execution_count": 9,
      "id": "ec44285e",
      "metadata": {
        "highlight": true
      },
      "outputs": [
        {
          "data": {
            "text/plain": [
              "<earthaccess.auth.Auth at 0x109ef3980>"
            ]
          },
          "execution_count": 9,
          "metadata": {},
          "output_type": "execute_result"
        }
      ],
      "source": [
        "# Log in to earthaccess\n",
        "\n",
        "earthaccess.login(strategy=\"interactive\", persist=True)"
      ]
    },
    {
      "cell_type": "code",
      "execution_count": 10,
      "id": "9b193275",
      "metadata": {},
      "outputs": [
        {
          "name": "stdout",
          "output_type": "stream",
          "text": [
            "76 granules total\n"
          ]
        }
      ],
      "source": [
        "# Search for HLS tiles\n",
        "\n",
        "ms_delta_results = earthaccess.search_data(\n",
        "    short_name=\"HLSL30\", # Harmonized Sentinal/Landsat multispectral dataset\n",
        "    cloud_hosted=True,\n",
        "    bounding_box=tuple(ms_delta_gdf.total_bounds),\n",
        "    temporal=(\"2023-05-01\", \"2023-10-01\"))\n",
        "\n",
        "print(len(ms_delta_results), \"granules total\")"
      ]
    },
    {
      "cell_type": "markdown",
      "id": "c2e7859c-156a-4357-a1cd-b38192090811",
      "metadata": {},
      "source": [
        "### Compile information about each granule\n",
        "\n",
        "I recommend building a GeoDataFrame, as this will allow you to plot the\n",
        "granules you are downloading and make sure they line up with your\n",
        "shapefile. You could also use a DataFrame, dictionary, or a custom\n",
        "object to store this information.\n",
        "\n",
        "<link rel=\"stylesheet\" type=\"text/css\" href=\"./assets/styles.css\"><div class=\"callout callout-style-default callout-titled callout-task\"><div class=\"callout-header\"><div class=\"callout-icon-container\"><i class=\"callout-icon\"></i></div><div class=\"callout-title-container flex-fill\">Try It</div></div><div class=\"callout-body-container callout-body\"><ol type=\"1\">\n",
        "<li>For each search result:\n",
        "<ol type=\"1\">\n",
        "<li>Get the following information (HINT: look at the [‘umm’] values for\n",
        "each search result):\n",
        "<ul>\n",
        "<li>granule id (UR)</li>\n",
        "<li>datetime</li>\n",
        "<li>geometry (HINT: check out the shapely.geometry.Polygon class to\n",
        "convert points to a Polygon)</li>\n",
        "</ul></li>\n",
        "<li>Open the granule files. I recomment opening one granule at a time,\n",
        "e.g. with (<code>earthaccess.open([result]</code>).</li>\n",
        "<li>For each file (band), get the following information:\n",
        "<ul>\n",
        "<li>file handler returned from <code>earthaccess.open()</code></li>\n",
        "<li>tile id</li>\n",
        "<li>band number</li>\n",
        "</ul></li>\n",
        "</ol></li>\n",
        "<li>Compile all the information you collected into a GeoDataFrame</li>\n",
        "</ol></div></div>"
      ]
    },
    {
      "cell_type": "code",
      "execution_count": 41,
      "id": "82469397",
      "metadata": {
        "highlight": true
      },
      "outputs": [],
      "source": [
        "def build_granule_metadata(hls_results):\n",
        "    \"\"\"\n",
        "    Collect granule metadata from HLS tiles.\n",
        "\n",
        "    Args:\n",
        "    hls_results (List[DataGranule]): HLS search results list.\n",
        "\n",
        "    Returns:\n",
        "    granule_metadata (list): List of granule metadata dictionaries.\n",
        "    \"\"\"\n",
        "\n",
        "    granule_metadata = []\n",
        "\n",
        "    # Loop through each granule\n",
        "    for result in tqdm(hls_results):\n",
        "\n",
        "        # Granule ID\n",
        "        granule_id = result['umm']['GranuleUR']\n",
        "\n",
        "        # Get datetime \n",
        "        temporal_coverage = results.DataCollection.get_umm(\n",
        "            result, 'TemporalExtent')\n",
        "        granule_date = (pd.to_datetime(\n",
        "            temporal_coverage['RangeDateTime']['BeginningDateTime']\n",
        "        ).strftime('%Y-%m-%d'))\n",
        "\n",
        "        # Assemble granule polygon \n",
        "        spatial_ext = results.DataCollection.get_umm(result, 'SpatialExtent')\n",
        "        granule_geo = spatial_ext['HorizontalSpatialDomain']['Geometry']\n",
        "        granule_points = granule_geo['GPolygons'][0]['Boundary']['Points']\n",
        "        granule_coords = [tuple(point.values()) for point in granule_points]\n",
        "        granule_polygon = Polygon(granule_coords)\n",
        "\n",
        "        # Open granule files\n",
        "        granule_files = earthaccess.open([result])\n",
        "\n",
        "        # Find all the metadata in the file\n",
        "        uri_groups = [] \n",
        "\n",
        "        # Use () to select the desired name and only output that name\n",
        "        uri_re = re.compile(\n",
        "            r\"v2.0/(HLS.L30.*.tif)\"\n",
        "        )\n",
        "\n",
        "        # Select unique tiles\n",
        "        tile_id_re = re.compile(\n",
        "            r\"HLSL30.020/(HLS.L30..*.v2.0)/HLS\"\n",
        "        )\n",
        "\n",
        "        # Grab band IDs\n",
        "        band_id_re = re.compile(\n",
        "            r\"HLS.L30..*v2.0.(\\D{1}.*).tif\"\n",
        "        )\n",
        "\n",
        "        # Collect file metadata\n",
        "        for uri in granule_files:\n",
        "            # Make sure uri has full_name property first\n",
        "            if (hasattr(uri, 'full_name')):\n",
        "                file_name = uri_re.findall(uri.full_name)[0]\n",
        "                tile_id = tile_id_re.findall(uri.full_name)[0]\n",
        "                band_id = band_id_re.findall(uri.full_name)[0]\n",
        "\n",
        "                # Only keep spectral bands and cloud Fmask\n",
        "                # Exclude sun and view angles\n",
        "                exclude_files = ['SAA', 'SZA', 'VAA', 'VZA']\n",
        "\n",
        "                if band_id not in exclude_files:\n",
        "                    uri_groups.append({\n",
        "                        'filename': file_name,\n",
        "                        'tile_id': tile_id,\n",
        "                        'band_id': band_id,\n",
        "                        'granule_id': granule_id,\n",
        "                        'granule_date': granule_date,\n",
        "                        'granule_polygon': granule_polygon,\n",
        "                        'uri': uri\n",
        "                    })\n",
        "\n",
        "                    # Store metadata dict\n",
        "                    granule_metadata.append(uri_groups)\n",
        "\n",
        "\n",
        "    # Concatenate granule metadata \n",
        "\n",
        "    uri_groups_df = pd.DataFrame(\n",
        "        data=uri_groups, columns=[\n",
        "            'filename', 'tile_id', 'band_id', 'granule_id', \n",
        "            'granule_date', 'granule_polygon', 'uri'])\n",
        "\n",
        "    granule_results_gdf = gpd.GeoDataFrame(\n",
        "            uri_groups_df, \n",
        "            geometry=uri_groups_df['granule_polygon'], \n",
        "            crs=\"EPSG:4326\")\n",
        "\n",
        "    return granule_results_gdf "
      ]
    },
    {
      "cell_type": "code",
      "execution_count": 42,
      "id": "077775b3",
      "metadata": {},
      "outputs": [
        {
          "data": {
            "application/vnd.jupyter.widget-view+json": {
              "model_id": "d1e361aa79004b0dbf7833efff729933",
              "version_major": 2,
              "version_minor": 0
            },
            "text/plain": [
              "  0%|          | 0/76 [00:00<?, ?it/s]"
            ]
          },
          "metadata": {},
          "output_type": "display_data"
        },
        {
          "data": {
            "application/vnd.jupyter.widget-view+json": {
              "model_id": "79e22e36a3984eb2a065b3d7614cf688",
              "version_major": 2,
              "version_minor": 0
            },
            "text/plain": [
              "QUEUEING TASKS | :   0%|          | 0/15 [00:00<?, ?it/s]"
            ]
          },
          "metadata": {},
          "output_type": "display_data"
        },
        {
          "data": {
            "application/vnd.jupyter.widget-view+json": {
              "model_id": "9c1b6213dac942e8bd7dea07856a97ca",
              "version_major": 2,
              "version_minor": 0
            },
            "text/plain": [
              "PROCESSING TASKS | :   0%|          | 0/15 [00:00<?, ?it/s]"
            ]
          },
          "metadata": {},
          "output_type": "display_data"
        },
        {
          "data": {
            "application/vnd.jupyter.widget-view+json": {
              "model_id": "e79791c27fc74dde97b273b51a276529",
              "version_major": 2,
              "version_minor": 0
            },
            "text/plain": [
              "COLLECTING RESULTS | :   0%|          | 0/15 [00:00<?, ?it/s]"
            ]
          },
          "metadata": {},
          "output_type": "display_data"
        },
        {
          "data": {
            "application/vnd.jupyter.widget-view+json": {
              "model_id": "cd392d0275804d96ac6dbb9269b5379d",
              "version_major": 2,
              "version_minor": 0
            },
            "text/plain": [
              "QUEUEING TASKS | :   0%|          | 0/15 [00:00<?, ?it/s]"
            ]
          },
          "metadata": {},
          "output_type": "display_data"
        },
        {
          "data": {
            "application/vnd.jupyter.widget-view+json": {
              "model_id": "2187ad259117476cad58e5bcc28fc47e",
              "version_major": 2,
              "version_minor": 0
            },
            "text/plain": [
              "PROCESSING TASKS | :   0%|          | 0/15 [00:00<?, ?it/s]"
            ]
          },
          "metadata": {},
          "output_type": "display_data"
        },
        {
          "data": {
            "application/vnd.jupyter.widget-view+json": {
              "model_id": "be8d8fcfee1f4e84b88e0dd2505fc6fb",
              "version_major": 2,
              "version_minor": 0
            },
            "text/plain": [
              "COLLECTING RESULTS | :   0%|          | 0/15 [00:00<?, ?it/s]"
            ]
          },
          "metadata": {},
          "output_type": "display_data"
        },
        {
          "data": {
            "application/vnd.jupyter.widget-view+json": {
              "model_id": "1cd856b8ae104ba188dbdd539a40ed85",
              "version_major": 2,
              "version_minor": 0
            },
            "text/plain": [
              "QUEUEING TASKS | :   0%|          | 0/15 [00:00<?, ?it/s]"
            ]
          },
          "metadata": {},
          "output_type": "display_data"
        },
        {
          "data": {
            "application/vnd.jupyter.widget-view+json": {
              "model_id": "84292c99c02745df9525da34f3c02203",
              "version_major": 2,
              "version_minor": 0
            },
            "text/plain": [
              "PROCESSING TASKS | :   0%|          | 0/15 [00:00<?, ?it/s]"
            ]
          },
          "metadata": {},
          "output_type": "display_data"
        },
        {
          "data": {
            "application/vnd.jupyter.widget-view+json": {
              "model_id": "0b257a778cc54104a9d4bb7760f9f0a1",
              "version_major": 2,
              "version_minor": 0
            },
            "text/plain": [
              "COLLECTING RESULTS | :   0%|          | 0/15 [00:00<?, ?it/s]"
            ]
          },
          "metadata": {},
          "output_type": "display_data"
        },
        {
          "data": {
            "application/vnd.jupyter.widget-view+json": {
              "model_id": "279405f85c80442db4ee0525d3a1f44c",
              "version_major": 2,
              "version_minor": 0
            },
            "text/plain": [
              "QUEUEING TASKS | :   0%|          | 0/15 [00:00<?, ?it/s]"
            ]
          },
          "metadata": {},
          "output_type": "display_data"
        },
        {
          "data": {
            "application/vnd.jupyter.widget-view+json": {
              "model_id": "2812fd3c6abe4c2ea1eaf7a7e9c67b0e",
              "version_major": 2,
              "version_minor": 0
            },
            "text/plain": [
              "PROCESSING TASKS | :   0%|          | 0/15 [00:00<?, ?it/s]"
            ]
          },
          "metadata": {},
          "output_type": "display_data"
        },
        {
          "data": {
            "application/vnd.jupyter.widget-view+json": {
              "model_id": "39766fda84754bc2844d66bb0fa704cb",
              "version_major": 2,
              "version_minor": 0
            },
            "text/plain": [
              "COLLECTING RESULTS | :   0%|          | 0/15 [00:00<?, ?it/s]"
            ]
          },
          "metadata": {},
          "output_type": "display_data"
        },
        {
          "data": {
            "application/vnd.jupyter.widget-view+json": {
              "model_id": "1723613ba9d34aceaf4a8d78016ee693",
              "version_major": 2,
              "version_minor": 0
            },
            "text/plain": [
              "QUEUEING TASKS | :   0%|          | 0/15 [00:00<?, ?it/s]"
            ]
          },
          "metadata": {},
          "output_type": "display_data"
        },
        {
          "data": {
            "application/vnd.jupyter.widget-view+json": {
              "model_id": "c8226cf063ce4fa99f4b273889696dfc",
              "version_major": 2,
              "version_minor": 0
            },
            "text/plain": [
              "PROCESSING TASKS | :   0%|          | 0/15 [00:00<?, ?it/s]"
            ]
          },
          "metadata": {},
          "output_type": "display_data"
        },
        {
          "data": {
            "application/vnd.jupyter.widget-view+json": {
              "model_id": "0d19acf959754902ab25f993110f73cb",
              "version_major": 2,
              "version_minor": 0
            },
            "text/plain": [
              "COLLECTING RESULTS | :   0%|          | 0/15 [00:00<?, ?it/s]"
            ]
          },
          "metadata": {},
          "output_type": "display_data"
        },
        {
          "data": {
            "application/vnd.jupyter.widget-view+json": {
              "model_id": "cbfef7918bab4a13ae15b1de2262ffa3",
              "version_major": 2,
              "version_minor": 0
            },
            "text/plain": [
              "QUEUEING TASKS | :   0%|          | 0/15 [00:00<?, ?it/s]"
            ]
          },
          "metadata": {},
          "output_type": "display_data"
        },
        {
          "data": {
            "application/vnd.jupyter.widget-view+json": {
              "model_id": "a8d7d3f7951e4d199631d455fe995e69",
              "version_major": 2,
              "version_minor": 0
            },
            "text/plain": [
              "PROCESSING TASKS | :   0%|          | 0/15 [00:00<?, ?it/s]"
            ]
          },
          "metadata": {},
          "output_type": "display_data"
        },
        {
          "data": {
            "application/vnd.jupyter.widget-view+json": {
              "model_id": "afa7fcdbd7e24658a85f2f093cd2089d",
              "version_major": 2,
              "version_minor": 0
            },
            "text/plain": [
              "COLLECTING RESULTS | :   0%|          | 0/15 [00:00<?, ?it/s]"
            ]
          },
          "metadata": {},
          "output_type": "display_data"
        },
        {
          "data": {
            "application/vnd.jupyter.widget-view+json": {
              "model_id": "e46966d93ed24a409bbad03ecbcdcb4b",
              "version_major": 2,
              "version_minor": 0
            },
            "text/plain": [
              "QUEUEING TASKS | :   0%|          | 0/15 [00:00<?, ?it/s]"
            ]
          },
          "metadata": {},
          "output_type": "display_data"
        },
        {
          "data": {
            "application/vnd.jupyter.widget-view+json": {
              "model_id": "6698cdd65c6b4e9ba083ff8b3de7dc01",
              "version_major": 2,
              "version_minor": 0
            },
            "text/plain": [
              "PROCESSING TASKS | :   0%|          | 0/15 [00:00<?, ?it/s]"
            ]
          },
          "metadata": {},
          "output_type": "display_data"
        },
        {
          "data": {
            "application/vnd.jupyter.widget-view+json": {
              "model_id": "e19edf9b32fc4c89ac488487ec66e84d",
              "version_major": 2,
              "version_minor": 0
            },
            "text/plain": [
              "COLLECTING RESULTS | :   0%|          | 0/15 [00:00<?, ?it/s]"
            ]
          },
          "metadata": {},
          "output_type": "display_data"
        },
        {
          "data": {
            "application/vnd.jupyter.widget-view+json": {
              "model_id": "fa57ae066fbb4690939d456bf4ceea80",
              "version_major": 2,
              "version_minor": 0
            },
            "text/plain": [
              "QUEUEING TASKS | :   0%|          | 0/15 [00:00<?, ?it/s]"
            ]
          },
          "metadata": {},
          "output_type": "display_data"
        },
        {
          "data": {
            "application/vnd.jupyter.widget-view+json": {
              "model_id": "3e11c670358244cdb0ef5d3ee6e9dd36",
              "version_major": 2,
              "version_minor": 0
            },
            "text/plain": [
              "PROCESSING TASKS | :   0%|          | 0/15 [00:00<?, ?it/s]"
            ]
          },
          "metadata": {},
          "output_type": "display_data"
        },
        {
          "data": {
            "application/vnd.jupyter.widget-view+json": {
              "model_id": "b299d780873f40089c7b7c369356f37e",
              "version_major": 2,
              "version_minor": 0
            },
            "text/plain": [
              "COLLECTING RESULTS | :   0%|          | 0/15 [00:00<?, ?it/s]"
            ]
          },
          "metadata": {},
          "output_type": "display_data"
        },
        {
          "data": {
            "application/vnd.jupyter.widget-view+json": {
              "model_id": "76da229d4b79447090d54dcf3c6a3f6a",
              "version_major": 2,
              "version_minor": 0
            },
            "text/plain": [
              "QUEUEING TASKS | :   0%|          | 0/15 [00:00<?, ?it/s]"
            ]
          },
          "metadata": {},
          "output_type": "display_data"
        },
        {
          "data": {
            "application/vnd.jupyter.widget-view+json": {
              "model_id": "06d2ae23f1b34922a98ee256875865cd",
              "version_major": 2,
              "version_minor": 0
            },
            "text/plain": [
              "PROCESSING TASKS | :   0%|          | 0/15 [00:00<?, ?it/s]"
            ]
          },
          "metadata": {},
          "output_type": "display_data"
        },
        {
          "data": {
            "application/vnd.jupyter.widget-view+json": {
              "model_id": "ae478215fccd40b193cc2f4cd9519e28",
              "version_major": 2,
              "version_minor": 0
            },
            "text/plain": [
              "COLLECTING RESULTS | :   0%|          | 0/15 [00:00<?, ?it/s]"
            ]
          },
          "metadata": {},
          "output_type": "display_data"
        },
        {
          "data": {
            "application/vnd.jupyter.widget-view+json": {
              "model_id": "01056fd803a34939b313cc626a30fc66",
              "version_major": 2,
              "version_minor": 0
            },
            "text/plain": [
              "QUEUEING TASKS | :   0%|          | 0/15 [00:00<?, ?it/s]"
            ]
          },
          "metadata": {},
          "output_type": "display_data"
        },
        {
          "data": {
            "application/vnd.jupyter.widget-view+json": {
              "model_id": "820b4627712f43b19599f8c096ae8e40",
              "version_major": 2,
              "version_minor": 0
            },
            "text/plain": [
              "PROCESSING TASKS | :   0%|          | 0/15 [00:00<?, ?it/s]"
            ]
          },
          "metadata": {},
          "output_type": "display_data"
        },
        {
          "data": {
            "application/vnd.jupyter.widget-view+json": {
              "model_id": "eb129ca8010548f5a933c3f262efc0e9",
              "version_major": 2,
              "version_minor": 0
            },
            "text/plain": [
              "COLLECTING RESULTS | :   0%|          | 0/15 [00:00<?, ?it/s]"
            ]
          },
          "metadata": {},
          "output_type": "display_data"
        },
        {
          "data": {
            "application/vnd.jupyter.widget-view+json": {
              "model_id": "bfaaa1e99ca346a9aa7a24398a352364",
              "version_major": 2,
              "version_minor": 0
            },
            "text/plain": [
              "QUEUEING TASKS | :   0%|          | 0/15 [00:00<?, ?it/s]"
            ]
          },
          "metadata": {},
          "output_type": "display_data"
        },
        {
          "data": {
            "application/vnd.jupyter.widget-view+json": {
              "model_id": "344c2a1f71c74315aeb5dc635627c4b1",
              "version_major": 2,
              "version_minor": 0
            },
            "text/plain": [
              "PROCESSING TASKS | :   0%|          | 0/15 [00:00<?, ?it/s]"
            ]
          },
          "metadata": {},
          "output_type": "display_data"
        },
        {
          "data": {
            "application/vnd.jupyter.widget-view+json": {
              "model_id": "c339a460eb2e4726b40434e749c7be1b",
              "version_major": 2,
              "version_minor": 0
            },
            "text/plain": [
              "COLLECTING RESULTS | :   0%|          | 0/15 [00:00<?, ?it/s]"
            ]
          },
          "metadata": {},
          "output_type": "display_data"
        },
        {
          "data": {
            "application/vnd.jupyter.widget-view+json": {
              "model_id": "dc1e355e0ab64d38b714b430793ec0eb",
              "version_major": 2,
              "version_minor": 0
            },
            "text/plain": [
              "QUEUEING TASKS | :   0%|          | 0/15 [00:00<?, ?it/s]"
            ]
          },
          "metadata": {},
          "output_type": "display_data"
        },
        {
          "data": {
            "application/vnd.jupyter.widget-view+json": {
              "model_id": "ef7015fa37e94ad5a16e043ae38d0077",
              "version_major": 2,
              "version_minor": 0
            },
            "text/plain": [
              "PROCESSING TASKS | :   0%|          | 0/15 [00:00<?, ?it/s]"
            ]
          },
          "metadata": {},
          "output_type": "display_data"
        },
        {
          "data": {
            "application/vnd.jupyter.widget-view+json": {
              "model_id": "3c4654f842a044c7a5cb0fcd63a5a535",
              "version_major": 2,
              "version_minor": 0
            },
            "text/plain": [
              "COLLECTING RESULTS | :   0%|          | 0/15 [00:00<?, ?it/s]"
            ]
          },
          "metadata": {},
          "output_type": "display_data"
        },
        {
          "data": {
            "application/vnd.jupyter.widget-view+json": {
              "model_id": "f9659b54c52744a3a78c1452a567a58b",
              "version_major": 2,
              "version_minor": 0
            },
            "text/plain": [
              "QUEUEING TASKS | :   0%|          | 0/15 [00:00<?, ?it/s]"
            ]
          },
          "metadata": {},
          "output_type": "display_data"
        },
        {
          "data": {
            "application/vnd.jupyter.widget-view+json": {
              "model_id": "6e67ca502318491b8a004e435d05aef5",
              "version_major": 2,
              "version_minor": 0
            },
            "text/plain": [
              "PROCESSING TASKS | :   0%|          | 0/15 [00:00<?, ?it/s]"
            ]
          },
          "metadata": {},
          "output_type": "display_data"
        },
        {
          "data": {
            "application/vnd.jupyter.widget-view+json": {
              "model_id": "3c5d9ff3b01740e6b36dd79b58de79fb",
              "version_major": 2,
              "version_minor": 0
            },
            "text/plain": [
              "COLLECTING RESULTS | :   0%|          | 0/15 [00:00<?, ?it/s]"
            ]
          },
          "metadata": {},
          "output_type": "display_data"
        },
        {
          "data": {
            "application/vnd.jupyter.widget-view+json": {
              "model_id": "92fcea09071c44b48dd0b4197c8f6dc1",
              "version_major": 2,
              "version_minor": 0
            },
            "text/plain": [
              "QUEUEING TASKS | :   0%|          | 0/15 [00:00<?, ?it/s]"
            ]
          },
          "metadata": {},
          "output_type": "display_data"
        },
        {
          "data": {
            "application/vnd.jupyter.widget-view+json": {
              "model_id": "7ab11417634c478e87826f88c33989ee",
              "version_major": 2,
              "version_minor": 0
            },
            "text/plain": [
              "PROCESSING TASKS | :   0%|          | 0/15 [00:00<?, ?it/s]"
            ]
          },
          "metadata": {},
          "output_type": "display_data"
        },
        {
          "data": {
            "application/vnd.jupyter.widget-view+json": {
              "model_id": "4d48be141f7a45118f12a335d63de51f",
              "version_major": 2,
              "version_minor": 0
            },
            "text/plain": [
              "COLLECTING RESULTS | :   0%|          | 0/15 [00:00<?, ?it/s]"
            ]
          },
          "metadata": {},
          "output_type": "display_data"
        },
        {
          "data": {
            "application/vnd.jupyter.widget-view+json": {
              "model_id": "a8e93d02881e4f01b9ad220d84699a12",
              "version_major": 2,
              "version_minor": 0
            },
            "text/plain": [
              "QUEUEING TASKS | :   0%|          | 0/15 [00:00<?, ?it/s]"
            ]
          },
          "metadata": {},
          "output_type": "display_data"
        },
        {
          "data": {
            "application/vnd.jupyter.widget-view+json": {
              "model_id": "d722a991fe4240628ea05938777a5fca",
              "version_major": 2,
              "version_minor": 0
            },
            "text/plain": [
              "PROCESSING TASKS | :   0%|          | 0/15 [00:00<?, ?it/s]"
            ]
          },
          "metadata": {},
          "output_type": "display_data"
        },
        {
          "data": {
            "application/vnd.jupyter.widget-view+json": {
              "model_id": "05df958de8fd446186e2ffc049af9f85",
              "version_major": 2,
              "version_minor": 0
            },
            "text/plain": [
              "COLLECTING RESULTS | :   0%|          | 0/15 [00:00<?, ?it/s]"
            ]
          },
          "metadata": {},
          "output_type": "display_data"
        },
        {
          "data": {
            "application/vnd.jupyter.widget-view+json": {
              "model_id": "d9bd07b2dcf44f248d5133bd64a6e412",
              "version_major": 2,
              "version_minor": 0
            },
            "text/plain": [
              "QUEUEING TASKS | :   0%|          | 0/15 [00:00<?, ?it/s]"
            ]
          },
          "metadata": {},
          "output_type": "display_data"
        },
        {
          "data": {
            "application/vnd.jupyter.widget-view+json": {
              "model_id": "09786906147b46748d581a92c7c2ee74",
              "version_major": 2,
              "version_minor": 0
            },
            "text/plain": [
              "PROCESSING TASKS | :   0%|          | 0/15 [00:00<?, ?it/s]"
            ]
          },
          "metadata": {},
          "output_type": "display_data"
        },
        {
          "data": {
            "application/vnd.jupyter.widget-view+json": {
              "model_id": "b33cb4dcc14848bb8ac96df4e1b337f1",
              "version_major": 2,
              "version_minor": 0
            },
            "text/plain": [
              "COLLECTING RESULTS | :   0%|          | 0/15 [00:00<?, ?it/s]"
            ]
          },
          "metadata": {},
          "output_type": "display_data"
        },
        {
          "data": {
            "application/vnd.jupyter.widget-view+json": {
              "model_id": "b4adf7d7a4c8459490314b0c6c8949a3",
              "version_major": 2,
              "version_minor": 0
            },
            "text/plain": [
              "QUEUEING TASKS | :   0%|          | 0/15 [00:00<?, ?it/s]"
            ]
          },
          "metadata": {},
          "output_type": "display_data"
        },
        {
          "data": {
            "application/vnd.jupyter.widget-view+json": {
              "model_id": "75d79e30d8c340c09b26747543bd694c",
              "version_major": 2,
              "version_minor": 0
            },
            "text/plain": [
              "PROCESSING TASKS | :   0%|          | 0/15 [00:00<?, ?it/s]"
            ]
          },
          "metadata": {},
          "output_type": "display_data"
        },
        {
          "data": {
            "application/vnd.jupyter.widget-view+json": {
              "model_id": "b654e0de1e9c4d938f6766e4fabd891e",
              "version_major": 2,
              "version_minor": 0
            },
            "text/plain": [
              "COLLECTING RESULTS | :   0%|          | 0/15 [00:00<?, ?it/s]"
            ]
          },
          "metadata": {},
          "output_type": "display_data"
        },
        {
          "data": {
            "application/vnd.jupyter.widget-view+json": {
              "model_id": "c9f402bf9d6f497698d1ece232d3fd64",
              "version_major": 2,
              "version_minor": 0
            },
            "text/plain": [
              "QUEUEING TASKS | :   0%|          | 0/15 [00:00<?, ?it/s]"
            ]
          },
          "metadata": {},
          "output_type": "display_data"
        },
        {
          "data": {
            "application/vnd.jupyter.widget-view+json": {
              "model_id": "8c86990b7bbe4b26a638c16a7fcccc20",
              "version_major": 2,
              "version_minor": 0
            },
            "text/plain": [
              "PROCESSING TASKS | :   0%|          | 0/15 [00:00<?, ?it/s]"
            ]
          },
          "metadata": {},
          "output_type": "display_data"
        },
        {
          "data": {
            "application/vnd.jupyter.widget-view+json": {
              "model_id": "e85989f1ce384aae8a21a9aba3bbf127",
              "version_major": 2,
              "version_minor": 0
            },
            "text/plain": [
              "COLLECTING RESULTS | :   0%|          | 0/15 [00:00<?, ?it/s]"
            ]
          },
          "metadata": {},
          "output_type": "display_data"
        },
        {
          "data": {
            "application/vnd.jupyter.widget-view+json": {
              "model_id": "1d9fdb119fdf4d6ead7a7c03931e38f5",
              "version_major": 2,
              "version_minor": 0
            },
            "text/plain": [
              "QUEUEING TASKS | :   0%|          | 0/15 [00:00<?, ?it/s]"
            ]
          },
          "metadata": {},
          "output_type": "display_data"
        },
        {
          "data": {
            "application/vnd.jupyter.widget-view+json": {
              "model_id": "b2917ba8b763409d9b38046844489ca6",
              "version_major": 2,
              "version_minor": 0
            },
            "text/plain": [
              "PROCESSING TASKS | :   0%|          | 0/15 [00:00<?, ?it/s]"
            ]
          },
          "metadata": {},
          "output_type": "display_data"
        },
        {
          "data": {
            "application/vnd.jupyter.widget-view+json": {
              "model_id": "60aa6b5f88194b6e811cc75ce7d7fa78",
              "version_major": 2,
              "version_minor": 0
            },
            "text/plain": [
              "COLLECTING RESULTS | :   0%|          | 0/15 [00:00<?, ?it/s]"
            ]
          },
          "metadata": {},
          "output_type": "display_data"
        },
        {
          "data": {
            "application/vnd.jupyter.widget-view+json": {
              "model_id": "2062ccf05efa439fbc85d2b2eb93dbfa",
              "version_major": 2,
              "version_minor": 0
            },
            "text/plain": [
              "QUEUEING TASKS | :   0%|          | 0/15 [00:00<?, ?it/s]"
            ]
          },
          "metadata": {},
          "output_type": "display_data"
        },
        {
          "data": {
            "application/vnd.jupyter.widget-view+json": {
              "model_id": "f773d888442e4560b6a1e3da4cf2de74",
              "version_major": 2,
              "version_minor": 0
            },
            "text/plain": [
              "PROCESSING TASKS | :   0%|          | 0/15 [00:00<?, ?it/s]"
            ]
          },
          "metadata": {},
          "output_type": "display_data"
        },
        {
          "data": {
            "application/vnd.jupyter.widget-view+json": {
              "model_id": "dea0af6439b94371b987967455c2db0c",
              "version_major": 2,
              "version_minor": 0
            },
            "text/plain": [
              "COLLECTING RESULTS | :   0%|          | 0/15 [00:00<?, ?it/s]"
            ]
          },
          "metadata": {},
          "output_type": "display_data"
        },
        {
          "data": {
            "application/vnd.jupyter.widget-view+json": {
              "model_id": "d0d00de047534aaca9b4b9f0f821b08d",
              "version_major": 2,
              "version_minor": 0
            },
            "text/plain": [
              "QUEUEING TASKS | :   0%|          | 0/15 [00:00<?, ?it/s]"
            ]
          },
          "metadata": {},
          "output_type": "display_data"
        },
        {
          "data": {
            "application/vnd.jupyter.widget-view+json": {
              "model_id": "850414b42f184fdbb6862fe5d87a3315",
              "version_major": 2,
              "version_minor": 0
            },
            "text/plain": [
              "PROCESSING TASKS | :   0%|          | 0/15 [00:00<?, ?it/s]"
            ]
          },
          "metadata": {},
          "output_type": "display_data"
        },
        {
          "data": {
            "application/vnd.jupyter.widget-view+json": {
              "model_id": "bfd2174cc2904ec29ce9ac3790c5c274",
              "version_major": 2,
              "version_minor": 0
            },
            "text/plain": [
              "COLLECTING RESULTS | :   0%|          | 0/15 [00:00<?, ?it/s]"
            ]
          },
          "metadata": {},
          "output_type": "display_data"
        },
        {
          "data": {
            "application/vnd.jupyter.widget-view+json": {
              "model_id": "b7941b2508c64687b03062d48f16eaf2",
              "version_major": 2,
              "version_minor": 0
            },
            "text/plain": [
              "QUEUEING TASKS | :   0%|          | 0/15 [00:00<?, ?it/s]"
            ]
          },
          "metadata": {},
          "output_type": "display_data"
        },
        {
          "data": {
            "application/vnd.jupyter.widget-view+json": {
              "model_id": "9b829bcf4aa54d28845d091a4e1531be",
              "version_major": 2,
              "version_minor": 0
            },
            "text/plain": [
              "PROCESSING TASKS | :   0%|          | 0/15 [00:00<?, ?it/s]"
            ]
          },
          "metadata": {},
          "output_type": "display_data"
        },
        {
          "data": {
            "application/vnd.jupyter.widget-view+json": {
              "model_id": "5674cfab4c4740de9594ca0676ac6f8f",
              "version_major": 2,
              "version_minor": 0
            },
            "text/plain": [
              "COLLECTING RESULTS | :   0%|          | 0/15 [00:00<?, ?it/s]"
            ]
          },
          "metadata": {},
          "output_type": "display_data"
        },
        {
          "data": {
            "application/vnd.jupyter.widget-view+json": {
              "model_id": "27c5396ae7fb431e9d76cc5173e08322",
              "version_major": 2,
              "version_minor": 0
            },
            "text/plain": [
              "QUEUEING TASKS | :   0%|          | 0/15 [00:00<?, ?it/s]"
            ]
          },
          "metadata": {},
          "output_type": "display_data"
        },
        {
          "data": {
            "application/vnd.jupyter.widget-view+json": {
              "model_id": "4579eb9dcc1646a4ba24f9a7c5415670",
              "version_major": 2,
              "version_minor": 0
            },
            "text/plain": [
              "PROCESSING TASKS | :   0%|          | 0/15 [00:00<?, ?it/s]"
            ]
          },
          "metadata": {},
          "output_type": "display_data"
        },
        {
          "data": {
            "application/vnd.jupyter.widget-view+json": {
              "model_id": "7ef074073c9a4729b11c0681047dae42",
              "version_major": 2,
              "version_minor": 0
            },
            "text/plain": [
              "COLLECTING RESULTS | :   0%|          | 0/15 [00:00<?, ?it/s]"
            ]
          },
          "metadata": {},
          "output_type": "display_data"
        },
        {
          "data": {
            "application/vnd.jupyter.widget-view+json": {
              "model_id": "862173a6597a43bda5020a350884e176",
              "version_major": 2,
              "version_minor": 0
            },
            "text/plain": [
              "QUEUEING TASKS | :   0%|          | 0/15 [00:00<?, ?it/s]"
            ]
          },
          "metadata": {},
          "output_type": "display_data"
        },
        {
          "data": {
            "application/vnd.jupyter.widget-view+json": {
              "model_id": "b82bf699e2d949a8a93e44ad5f07f286",
              "version_major": 2,
              "version_minor": 0
            },
            "text/plain": [
              "PROCESSING TASKS | :   0%|          | 0/15 [00:00<?, ?it/s]"
            ]
          },
          "metadata": {},
          "output_type": "display_data"
        },
        {
          "data": {
            "application/vnd.jupyter.widget-view+json": {
              "model_id": "fa9ff38ccf464fb6befbcbb5f3cdca16",
              "version_major": 2,
              "version_minor": 0
            },
            "text/plain": [
              "COLLECTING RESULTS | :   0%|          | 0/15 [00:00<?, ?it/s]"
            ]
          },
          "metadata": {},
          "output_type": "display_data"
        },
        {
          "data": {
            "application/vnd.jupyter.widget-view+json": {
              "model_id": "2a595ce3d77b4ed18e649dcc538525ae",
              "version_major": 2,
              "version_minor": 0
            },
            "text/plain": [
              "QUEUEING TASKS | :   0%|          | 0/15 [00:00<?, ?it/s]"
            ]
          },
          "metadata": {},
          "output_type": "display_data"
        },
        {
          "data": {
            "application/vnd.jupyter.widget-view+json": {
              "model_id": "934eff34d6f543c99cceb8beac465676",
              "version_major": 2,
              "version_minor": 0
            },
            "text/plain": [
              "PROCESSING TASKS | :   0%|          | 0/15 [00:00<?, ?it/s]"
            ]
          },
          "metadata": {},
          "output_type": "display_data"
        },
        {
          "data": {
            "application/vnd.jupyter.widget-view+json": {
              "model_id": "ab5fc11c304348ef98838e2352d6b909",
              "version_major": 2,
              "version_minor": 0
            },
            "text/plain": [
              "COLLECTING RESULTS | :   0%|          | 0/15 [00:00<?, ?it/s]"
            ]
          },
          "metadata": {},
          "output_type": "display_data"
        },
        {
          "data": {
            "application/vnd.jupyter.widget-view+json": {
              "model_id": "1a7573ac67914ebca64394cbbad59611",
              "version_major": 2,
              "version_minor": 0
            },
            "text/plain": [
              "QUEUEING TASKS | :   0%|          | 0/15 [00:00<?, ?it/s]"
            ]
          },
          "metadata": {},
          "output_type": "display_data"
        },
        {
          "data": {
            "application/vnd.jupyter.widget-view+json": {
              "model_id": "a9bd677f19294e4895cd0a6e15eef9c5",
              "version_major": 2,
              "version_minor": 0
            },
            "text/plain": [
              "PROCESSING TASKS | :   0%|          | 0/15 [00:00<?, ?it/s]"
            ]
          },
          "metadata": {},
          "output_type": "display_data"
        },
        {
          "data": {
            "application/vnd.jupyter.widget-view+json": {
              "model_id": "0d97fc11c19e4e3296d5f4d4b1f5586c",
              "version_major": 2,
              "version_minor": 0
            },
            "text/plain": [
              "COLLECTING RESULTS | :   0%|          | 0/15 [00:00<?, ?it/s]"
            ]
          },
          "metadata": {},
          "output_type": "display_data"
        },
        {
          "data": {
            "application/vnd.jupyter.widget-view+json": {
              "model_id": "d82e4197af0e4adba0d2fe35fe61c989",
              "version_major": 2,
              "version_minor": 0
            },
            "text/plain": [
              "QUEUEING TASKS | :   0%|          | 0/15 [00:00<?, ?it/s]"
            ]
          },
          "metadata": {},
          "output_type": "display_data"
        },
        {
          "data": {
            "application/vnd.jupyter.widget-view+json": {
              "model_id": "e1ad964839304435bdba58c6e29055a5",
              "version_major": 2,
              "version_minor": 0
            },
            "text/plain": [
              "PROCESSING TASKS | :   0%|          | 0/15 [00:00<?, ?it/s]"
            ]
          },
          "metadata": {},
          "output_type": "display_data"
        },
        {
          "data": {
            "application/vnd.jupyter.widget-view+json": {
              "model_id": "3294de71c3094541ba7e4efc0bc6c38a",
              "version_major": 2,
              "version_minor": 0
            },
            "text/plain": [
              "COLLECTING RESULTS | :   0%|          | 0/15 [00:00<?, ?it/s]"
            ]
          },
          "metadata": {},
          "output_type": "display_data"
        },
        {
          "data": {
            "application/vnd.jupyter.widget-view+json": {
              "model_id": "3c832470702e4d3cb908b3e716ab953d",
              "version_major": 2,
              "version_minor": 0
            },
            "text/plain": [
              "QUEUEING TASKS | :   0%|          | 0/15 [00:00<?, ?it/s]"
            ]
          },
          "metadata": {},
          "output_type": "display_data"
        },
        {
          "data": {
            "application/vnd.jupyter.widget-view+json": {
              "model_id": "b212bfb4000b4d10a5d8047693a9ee4c",
              "version_major": 2,
              "version_minor": 0
            },
            "text/plain": [
              "PROCESSING TASKS | :   0%|          | 0/15 [00:00<?, ?it/s]"
            ]
          },
          "metadata": {},
          "output_type": "display_data"
        },
        {
          "data": {
            "application/vnd.jupyter.widget-view+json": {
              "model_id": "8dc79a88b62649dcbb4c22d73c168d99",
              "version_major": 2,
              "version_minor": 0
            },
            "text/plain": [
              "COLLECTING RESULTS | :   0%|          | 0/15 [00:00<?, ?it/s]"
            ]
          },
          "metadata": {},
          "output_type": "display_data"
        },
        {
          "data": {
            "application/vnd.jupyter.widget-view+json": {
              "model_id": "38c7c0793df64ba388e7739743d614bf",
              "version_major": 2,
              "version_minor": 0
            },
            "text/plain": [
              "QUEUEING TASKS | :   0%|          | 0/15 [00:00<?, ?it/s]"
            ]
          },
          "metadata": {},
          "output_type": "display_data"
        },
        {
          "data": {
            "application/vnd.jupyter.widget-view+json": {
              "model_id": "cb0c6584a6ff43849e78e71270fb8222",
              "version_major": 2,
              "version_minor": 0
            },
            "text/plain": [
              "PROCESSING TASKS | :   0%|          | 0/15 [00:00<?, ?it/s]"
            ]
          },
          "metadata": {},
          "output_type": "display_data"
        },
        {
          "data": {
            "application/vnd.jupyter.widget-view+json": {
              "model_id": "3097410675e74853b871a4613d19d19f",
              "version_major": 2,
              "version_minor": 0
            },
            "text/plain": [
              "COLLECTING RESULTS | :   0%|          | 0/15 [00:00<?, ?it/s]"
            ]
          },
          "metadata": {},
          "output_type": "display_data"
        },
        {
          "data": {
            "application/vnd.jupyter.widget-view+json": {
              "model_id": "b05b475b9b884b0a8ed1f5bb58d06b6b",
              "version_major": 2,
              "version_minor": 0
            },
            "text/plain": [
              "QUEUEING TASKS | :   0%|          | 0/15 [00:00<?, ?it/s]"
            ]
          },
          "metadata": {},
          "output_type": "display_data"
        },
        {
          "data": {
            "application/vnd.jupyter.widget-view+json": {
              "model_id": "a51e830160c841f78e929ea94bed38a6",
              "version_major": 2,
              "version_minor": 0
            },
            "text/plain": [
              "PROCESSING TASKS | :   0%|          | 0/15 [00:00<?, ?it/s]"
            ]
          },
          "metadata": {},
          "output_type": "display_data"
        },
        {
          "data": {
            "application/vnd.jupyter.widget-view+json": {
              "model_id": "98f3a0f999054915b7b514766d7c10da",
              "version_major": 2,
              "version_minor": 0
            },
            "text/plain": [
              "COLLECTING RESULTS | :   0%|          | 0/15 [00:00<?, ?it/s]"
            ]
          },
          "metadata": {},
          "output_type": "display_data"
        },
        {
          "data": {
            "application/vnd.jupyter.widget-view+json": {
              "model_id": "d7525613d5294ff78be3f566f14ef5fc",
              "version_major": 2,
              "version_minor": 0
            },
            "text/plain": [
              "QUEUEING TASKS | :   0%|          | 0/15 [00:00<?, ?it/s]"
            ]
          },
          "metadata": {},
          "output_type": "display_data"
        },
        {
          "data": {
            "application/vnd.jupyter.widget-view+json": {
              "model_id": "65bb5c36b163458fb6970516343c47c1",
              "version_major": 2,
              "version_minor": 0
            },
            "text/plain": [
              "PROCESSING TASKS | :   0%|          | 0/15 [00:00<?, ?it/s]"
            ]
          },
          "metadata": {},
          "output_type": "display_data"
        },
        {
          "data": {
            "application/vnd.jupyter.widget-view+json": {
              "model_id": "92d14094cf1048b5b7b6a0cd418ef0cc",
              "version_major": 2,
              "version_minor": 0
            },
            "text/plain": [
              "COLLECTING RESULTS | :   0%|          | 0/15 [00:00<?, ?it/s]"
            ]
          },
          "metadata": {},
          "output_type": "display_data"
        },
        {
          "data": {
            "application/vnd.jupyter.widget-view+json": {
              "model_id": "2783d077092f40478117eb7d6c440545",
              "version_major": 2,
              "version_minor": 0
            },
            "text/plain": [
              "QUEUEING TASKS | :   0%|          | 0/15 [00:00<?, ?it/s]"
            ]
          },
          "metadata": {},
          "output_type": "display_data"
        },
        {
          "data": {
            "application/vnd.jupyter.widget-view+json": {
              "model_id": "d0266d5c927844af96711e89a538f979",
              "version_major": 2,
              "version_minor": 0
            },
            "text/plain": [
              "PROCESSING TASKS | :   0%|          | 0/15 [00:00<?, ?it/s]"
            ]
          },
          "metadata": {},
          "output_type": "display_data"
        },
        {
          "data": {
            "application/vnd.jupyter.widget-view+json": {
              "model_id": "fb98d66df31b490598752f9ec101620e",
              "version_major": 2,
              "version_minor": 0
            },
            "text/plain": [
              "COLLECTING RESULTS | :   0%|          | 0/15 [00:00<?, ?it/s]"
            ]
          },
          "metadata": {},
          "output_type": "display_data"
        },
        {
          "data": {
            "application/vnd.jupyter.widget-view+json": {
              "model_id": "9bd6a636af9a49019288cf2f358f2186",
              "version_major": 2,
              "version_minor": 0
            },
            "text/plain": [
              "QUEUEING TASKS | :   0%|          | 0/15 [00:00<?, ?it/s]"
            ]
          },
          "metadata": {},
          "output_type": "display_data"
        },
        {
          "data": {
            "application/vnd.jupyter.widget-view+json": {
              "model_id": "f17acc82b6d2466abe4473fd5e671577",
              "version_major": 2,
              "version_minor": 0
            },
            "text/plain": [
              "PROCESSING TASKS | :   0%|          | 0/15 [00:00<?, ?it/s]"
            ]
          },
          "metadata": {},
          "output_type": "display_data"
        },
        {
          "data": {
            "application/vnd.jupyter.widget-view+json": {
              "model_id": "8dc03e6ac9ef44cfaa93824f457112b1",
              "version_major": 2,
              "version_minor": 0
            },
            "text/plain": [
              "COLLECTING RESULTS | :   0%|          | 0/15 [00:00<?, ?it/s]"
            ]
          },
          "metadata": {},
          "output_type": "display_data"
        },
        {
          "data": {
            "application/vnd.jupyter.widget-view+json": {
              "model_id": "e15a6f39f1714b60b6480f6fcbcaf850",
              "version_major": 2,
              "version_minor": 0
            },
            "text/plain": [
              "QUEUEING TASKS | :   0%|          | 0/15 [00:00<?, ?it/s]"
            ]
          },
          "metadata": {},
          "output_type": "display_data"
        },
        {
          "data": {
            "application/vnd.jupyter.widget-view+json": {
              "model_id": "2350a00bef3f4c62b9f0291c1551a365",
              "version_major": 2,
              "version_minor": 0
            },
            "text/plain": [
              "PROCESSING TASKS | :   0%|          | 0/15 [00:00<?, ?it/s]"
            ]
          },
          "metadata": {},
          "output_type": "display_data"
        },
        {
          "data": {
            "application/vnd.jupyter.widget-view+json": {
              "model_id": "1256ccd5bfad464ebf7a7149ce50db01",
              "version_major": 2,
              "version_minor": 0
            },
            "text/plain": [
              "COLLECTING RESULTS | :   0%|          | 0/15 [00:00<?, ?it/s]"
            ]
          },
          "metadata": {},
          "output_type": "display_data"
        },
        {
          "data": {
            "application/vnd.jupyter.widget-view+json": {
              "model_id": "4f7145d4b302431ebf9e668f679edf1b",
              "version_major": 2,
              "version_minor": 0
            },
            "text/plain": [
              "QUEUEING TASKS | :   0%|          | 0/15 [00:00<?, ?it/s]"
            ]
          },
          "metadata": {},
          "output_type": "display_data"
        },
        {
          "data": {
            "application/vnd.jupyter.widget-view+json": {
              "model_id": "ce353d0804a146b894954dc0773282f0",
              "version_major": 2,
              "version_minor": 0
            },
            "text/plain": [
              "PROCESSING TASKS | :   0%|          | 0/15 [00:00<?, ?it/s]"
            ]
          },
          "metadata": {},
          "output_type": "display_data"
        },
        {
          "data": {
            "application/vnd.jupyter.widget-view+json": {
              "model_id": "7587e6a9d75446b7a72fb190ee27f287",
              "version_major": 2,
              "version_minor": 0
            },
            "text/plain": [
              "COLLECTING RESULTS | :   0%|          | 0/15 [00:00<?, ?it/s]"
            ]
          },
          "metadata": {},
          "output_type": "display_data"
        },
        {
          "data": {
            "application/vnd.jupyter.widget-view+json": {
              "model_id": "802baeee2c2b4f38a9e0ab995868ecc0",
              "version_major": 2,
              "version_minor": 0
            },
            "text/plain": [
              "QUEUEING TASKS | :   0%|          | 0/15 [00:00<?, ?it/s]"
            ]
          },
          "metadata": {},
          "output_type": "display_data"
        },
        {
          "data": {
            "application/vnd.jupyter.widget-view+json": {
              "model_id": "43a5c29d4d14418a9195c18f4babb44e",
              "version_major": 2,
              "version_minor": 0
            },
            "text/plain": [
              "PROCESSING TASKS | :   0%|          | 0/15 [00:00<?, ?it/s]"
            ]
          },
          "metadata": {},
          "output_type": "display_data"
        },
        {
          "data": {
            "application/vnd.jupyter.widget-view+json": {
              "model_id": "51039e132ea14d32a655d787bea0b349",
              "version_major": 2,
              "version_minor": 0
            },
            "text/plain": [
              "COLLECTING RESULTS | :   0%|          | 0/15 [00:00<?, ?it/s]"
            ]
          },
          "metadata": {},
          "output_type": "display_data"
        },
        {
          "data": {
            "application/vnd.jupyter.widget-view+json": {
              "model_id": "21a6b29cf77a45f0b436ba5638ef736d",
              "version_major": 2,
              "version_minor": 0
            },
            "text/plain": [
              "QUEUEING TASKS | :   0%|          | 0/15 [00:00<?, ?it/s]"
            ]
          },
          "metadata": {},
          "output_type": "display_data"
        },
        {
          "data": {
            "application/vnd.jupyter.widget-view+json": {
              "model_id": "13e0a1b1e8754a7ba82eae3829bfe1bf",
              "version_major": 2,
              "version_minor": 0
            },
            "text/plain": [
              "PROCESSING TASKS | :   0%|          | 0/15 [00:00<?, ?it/s]"
            ]
          },
          "metadata": {},
          "output_type": "display_data"
        },
        {
          "data": {
            "application/vnd.jupyter.widget-view+json": {
              "model_id": "369080bb5c7d45f1841132116921a2cc",
              "version_major": 2,
              "version_minor": 0
            },
            "text/plain": [
              "COLLECTING RESULTS | :   0%|          | 0/15 [00:00<?, ?it/s]"
            ]
          },
          "metadata": {},
          "output_type": "display_data"
        },
        {
          "data": {
            "application/vnd.jupyter.widget-view+json": {
              "model_id": "fca7a31f0376425396833866b47790a8",
              "version_major": 2,
              "version_minor": 0
            },
            "text/plain": [
              "QUEUEING TASKS | :   0%|          | 0/15 [00:00<?, ?it/s]"
            ]
          },
          "metadata": {},
          "output_type": "display_data"
        },
        {
          "data": {
            "application/vnd.jupyter.widget-view+json": {
              "model_id": "97de93407f644aabbd0950d2e81f5400",
              "version_major": 2,
              "version_minor": 0
            },
            "text/plain": [
              "PROCESSING TASKS | :   0%|          | 0/15 [00:00<?, ?it/s]"
            ]
          },
          "metadata": {},
          "output_type": "display_data"
        },
        {
          "data": {
            "application/vnd.jupyter.widget-view+json": {
              "model_id": "f2ab361b414e4f4db3b3a29edcd8b3cc",
              "version_major": 2,
              "version_minor": 0
            },
            "text/plain": [
              "COLLECTING RESULTS | :   0%|          | 0/15 [00:00<?, ?it/s]"
            ]
          },
          "metadata": {},
          "output_type": "display_data"
        },
        {
          "data": {
            "application/vnd.jupyter.widget-view+json": {
              "model_id": "3558c11acb8f402392133f52c266c194",
              "version_major": 2,
              "version_minor": 0
            },
            "text/plain": [
              "QUEUEING TASKS | :   0%|          | 0/15 [00:00<?, ?it/s]"
            ]
          },
          "metadata": {},
          "output_type": "display_data"
        },
        {
          "data": {
            "application/vnd.jupyter.widget-view+json": {
              "model_id": "bfa349b855b04e94a7cf19a39588b909",
              "version_major": 2,
              "version_minor": 0
            },
            "text/plain": [
              "PROCESSING TASKS | :   0%|          | 0/15 [00:00<?, ?it/s]"
            ]
          },
          "metadata": {},
          "output_type": "display_data"
        },
        {
          "data": {
            "application/vnd.jupyter.widget-view+json": {
              "model_id": "584658a0d40b495ca02cc40a86e47090",
              "version_major": 2,
              "version_minor": 0
            },
            "text/plain": [
              "COLLECTING RESULTS | :   0%|          | 0/15 [00:00<?, ?it/s]"
            ]
          },
          "metadata": {},
          "output_type": "display_data"
        },
        {
          "data": {
            "application/vnd.jupyter.widget-view+json": {
              "model_id": "879e698bbaa34031b4b523ecbfef2d0b",
              "version_major": 2,
              "version_minor": 0
            },
            "text/plain": [
              "QUEUEING TASKS | :   0%|          | 0/15 [00:00<?, ?it/s]"
            ]
          },
          "metadata": {},
          "output_type": "display_data"
        },
        {
          "data": {
            "application/vnd.jupyter.widget-view+json": {
              "model_id": "05d9c5ccd7a74648acd4618dd3b96aca",
              "version_major": 2,
              "version_minor": 0
            },
            "text/plain": [
              "PROCESSING TASKS | :   0%|          | 0/15 [00:00<?, ?it/s]"
            ]
          },
          "metadata": {},
          "output_type": "display_data"
        },
        {
          "data": {
            "application/vnd.jupyter.widget-view+json": {
              "model_id": "68a841e632024128b1971285caa674df",
              "version_major": 2,
              "version_minor": 0
            },
            "text/plain": [
              "COLLECTING RESULTS | :   0%|          | 0/15 [00:00<?, ?it/s]"
            ]
          },
          "metadata": {},
          "output_type": "display_data"
        },
        {
          "data": {
            "application/vnd.jupyter.widget-view+json": {
              "model_id": "1630af8c0bdd4d0795ce0db1278ea8a2",
              "version_major": 2,
              "version_minor": 0
            },
            "text/plain": [
              "QUEUEING TASKS | :   0%|          | 0/15 [00:00<?, ?it/s]"
            ]
          },
          "metadata": {},
          "output_type": "display_data"
        },
        {
          "data": {
            "application/vnd.jupyter.widget-view+json": {
              "model_id": "b7d4fb420fc4446cb5ea74773ac12437",
              "version_major": 2,
              "version_minor": 0
            },
            "text/plain": [
              "PROCESSING TASKS | :   0%|          | 0/15 [00:00<?, ?it/s]"
            ]
          },
          "metadata": {},
          "output_type": "display_data"
        },
        {
          "data": {
            "application/vnd.jupyter.widget-view+json": {
              "model_id": "1d042896d5f743f48cb3018eec3036d8",
              "version_major": 2,
              "version_minor": 0
            },
            "text/plain": [
              "COLLECTING RESULTS | :   0%|          | 0/15 [00:00<?, ?it/s]"
            ]
          },
          "metadata": {},
          "output_type": "display_data"
        },
        {
          "data": {
            "application/vnd.jupyter.widget-view+json": {
              "model_id": "cd78334201484b91b31f2eec7a2218b4",
              "version_major": 2,
              "version_minor": 0
            },
            "text/plain": [
              "QUEUEING TASKS | :   0%|          | 0/15 [00:00<?, ?it/s]"
            ]
          },
          "metadata": {},
          "output_type": "display_data"
        },
        {
          "data": {
            "application/vnd.jupyter.widget-view+json": {
              "model_id": "2ce10492899f47278c3dd6eede9af9ad",
              "version_major": 2,
              "version_minor": 0
            },
            "text/plain": [
              "PROCESSING TASKS | :   0%|          | 0/15 [00:00<?, ?it/s]"
            ]
          },
          "metadata": {},
          "output_type": "display_data"
        },
        {
          "data": {
            "application/vnd.jupyter.widget-view+json": {
              "model_id": "f9c68365526c454492ee258eec5b014c",
              "version_major": 2,
              "version_minor": 0
            },
            "text/plain": [
              "COLLECTING RESULTS | :   0%|          | 0/15 [00:00<?, ?it/s]"
            ]
          },
          "metadata": {},
          "output_type": "display_data"
        },
        {
          "data": {
            "application/vnd.jupyter.widget-view+json": {
              "model_id": "0a3c3c855b8a4118ad35f764b4150d82",
              "version_major": 2,
              "version_minor": 0
            },
            "text/plain": [
              "QUEUEING TASKS | :   0%|          | 0/15 [00:00<?, ?it/s]"
            ]
          },
          "metadata": {},
          "output_type": "display_data"
        },
        {
          "data": {
            "application/vnd.jupyter.widget-view+json": {
              "model_id": "466aa693c16d42d58803b4d628d85f03",
              "version_major": 2,
              "version_minor": 0
            },
            "text/plain": [
              "PROCESSING TASKS | :   0%|          | 0/15 [00:00<?, ?it/s]"
            ]
          },
          "metadata": {},
          "output_type": "display_data"
        },
        {
          "data": {
            "application/vnd.jupyter.widget-view+json": {
              "model_id": "c9c1b01a1c4f4d83a69f135a996f812b",
              "version_major": 2,
              "version_minor": 0
            },
            "text/plain": [
              "COLLECTING RESULTS | :   0%|          | 0/15 [00:00<?, ?it/s]"
            ]
          },
          "metadata": {},
          "output_type": "display_data"
        },
        {
          "data": {
            "application/vnd.jupyter.widget-view+json": {
              "model_id": "a6a4a55e9e3b4091b46164e5a0510dca",
              "version_major": 2,
              "version_minor": 0
            },
            "text/plain": [
              "QUEUEING TASKS | :   0%|          | 0/15 [00:00<?, ?it/s]"
            ]
          },
          "metadata": {},
          "output_type": "display_data"
        },
        {
          "data": {
            "application/vnd.jupyter.widget-view+json": {
              "model_id": "f9f9154ab89648e785deb38a36ed01eb",
              "version_major": 2,
              "version_minor": 0
            },
            "text/plain": [
              "PROCESSING TASKS | :   0%|          | 0/15 [00:00<?, ?it/s]"
            ]
          },
          "metadata": {},
          "output_type": "display_data"
        },
        {
          "data": {
            "application/vnd.jupyter.widget-view+json": {
              "model_id": "ba63f6b6574f41208abe02cdfb5f411f",
              "version_major": 2,
              "version_minor": 0
            },
            "text/plain": [
              "COLLECTING RESULTS | :   0%|          | 0/15 [00:00<?, ?it/s]"
            ]
          },
          "metadata": {},
          "output_type": "display_data"
        },
        {
          "data": {
            "application/vnd.jupyter.widget-view+json": {
              "model_id": "8d0d8270bcb74ee3a729d990ede2d82e",
              "version_major": 2,
              "version_minor": 0
            },
            "text/plain": [
              "QUEUEING TASKS | :   0%|          | 0/15 [00:00<?, ?it/s]"
            ]
          },
          "metadata": {},
          "output_type": "display_data"
        },
        {
          "data": {
            "application/vnd.jupyter.widget-view+json": {
              "model_id": "4052662984ce4318a96d5de10e475857",
              "version_major": 2,
              "version_minor": 0
            },
            "text/plain": [
              "PROCESSING TASKS | :   0%|          | 0/15 [00:00<?, ?it/s]"
            ]
          },
          "metadata": {},
          "output_type": "display_data"
        },
        {
          "data": {
            "application/vnd.jupyter.widget-view+json": {
              "model_id": "fe01ee7a432b435ab9a89a9f25c7a9ad",
              "version_major": 2,
              "version_minor": 0
            },
            "text/plain": [
              "COLLECTING RESULTS | :   0%|          | 0/15 [00:00<?, ?it/s]"
            ]
          },
          "metadata": {},
          "output_type": "display_data"
        },
        {
          "data": {
            "application/vnd.jupyter.widget-view+json": {
              "model_id": "c579ad3c767b43f797cf7e9fd6df950b",
              "version_major": 2,
              "version_minor": 0
            },
            "text/plain": [
              "QUEUEING TASKS | :   0%|          | 0/15 [00:00<?, ?it/s]"
            ]
          },
          "metadata": {},
          "output_type": "display_data"
        },
        {
          "data": {
            "application/vnd.jupyter.widget-view+json": {
              "model_id": "b85c75f9c63b406b9965c842a66444bb",
              "version_major": 2,
              "version_minor": 0
            },
            "text/plain": [
              "PROCESSING TASKS | :   0%|          | 0/15 [00:00<?, ?it/s]"
            ]
          },
          "metadata": {},
          "output_type": "display_data"
        },
        {
          "data": {
            "application/vnd.jupyter.widget-view+json": {
              "model_id": "db9baf6ab5a2490d9ab522847b10b388",
              "version_major": 2,
              "version_minor": 0
            },
            "text/plain": [
              "COLLECTING RESULTS | :   0%|          | 0/15 [00:00<?, ?it/s]"
            ]
          },
          "metadata": {},
          "output_type": "display_data"
        },
        {
          "data": {
            "application/vnd.jupyter.widget-view+json": {
              "model_id": "d94d4ee692b04a1a8b2995dc8d6d109e",
              "version_major": 2,
              "version_minor": 0
            },
            "text/plain": [
              "QUEUEING TASKS | :   0%|          | 0/15 [00:00<?, ?it/s]"
            ]
          },
          "metadata": {},
          "output_type": "display_data"
        },
        {
          "data": {
            "application/vnd.jupyter.widget-view+json": {
              "model_id": "ed9dc71f0a89455689e575a15079b334",
              "version_major": 2,
              "version_minor": 0
            },
            "text/plain": [
              "PROCESSING TASKS | :   0%|          | 0/15 [00:00<?, ?it/s]"
            ]
          },
          "metadata": {},
          "output_type": "display_data"
        },
        {
          "data": {
            "application/vnd.jupyter.widget-view+json": {
              "model_id": "331cf546943c4f97b12076a086a43b7f",
              "version_major": 2,
              "version_minor": 0
            },
            "text/plain": [
              "COLLECTING RESULTS | :   0%|          | 0/15 [00:00<?, ?it/s]"
            ]
          },
          "metadata": {},
          "output_type": "display_data"
        },
        {
          "data": {
            "application/vnd.jupyter.widget-view+json": {
              "model_id": "80a7e698388e4c869618e67841a0fa59",
              "version_major": 2,
              "version_minor": 0
            },
            "text/plain": [
              "QUEUEING TASKS | :   0%|          | 0/15 [00:00<?, ?it/s]"
            ]
          },
          "metadata": {},
          "output_type": "display_data"
        },
        {
          "data": {
            "application/vnd.jupyter.widget-view+json": {
              "model_id": "4dea0f80a88249f8acd417cadac7f0c2",
              "version_major": 2,
              "version_minor": 0
            },
            "text/plain": [
              "PROCESSING TASKS | :   0%|          | 0/15 [00:00<?, ?it/s]"
            ]
          },
          "metadata": {},
          "output_type": "display_data"
        },
        {
          "data": {
            "application/vnd.jupyter.widget-view+json": {
              "model_id": "102a276dcf8c49acaebaa2ece00ae0fd",
              "version_major": 2,
              "version_minor": 0
            },
            "text/plain": [
              "COLLECTING RESULTS | :   0%|          | 0/15 [00:00<?, ?it/s]"
            ]
          },
          "metadata": {},
          "output_type": "display_data"
        },
        {
          "data": {
            "application/vnd.jupyter.widget-view+json": {
              "model_id": "ad95c965a66a45aab0723ba055dcb337",
              "version_major": 2,
              "version_minor": 0
            },
            "text/plain": [
              "QUEUEING TASKS | :   0%|          | 0/15 [00:00<?, ?it/s]"
            ]
          },
          "metadata": {},
          "output_type": "display_data"
        },
        {
          "data": {
            "application/vnd.jupyter.widget-view+json": {
              "model_id": "648dab4e6823465a92a7982bd9b4d347",
              "version_major": 2,
              "version_minor": 0
            },
            "text/plain": [
              "PROCESSING TASKS | :   0%|          | 0/15 [00:00<?, ?it/s]"
            ]
          },
          "metadata": {},
          "output_type": "display_data"
        },
        {
          "data": {
            "application/vnd.jupyter.widget-view+json": {
              "model_id": "2e8e680dd331412daf9b74013f57c090",
              "version_major": 2,
              "version_minor": 0
            },
            "text/plain": [
              "COLLECTING RESULTS | :   0%|          | 0/15 [00:00<?, ?it/s]"
            ]
          },
          "metadata": {},
          "output_type": "display_data"
        },
        {
          "data": {
            "application/vnd.jupyter.widget-view+json": {
              "model_id": "e7e256dbb40d4ba0b9ac355b748ff8d2",
              "version_major": 2,
              "version_minor": 0
            },
            "text/plain": [
              "QUEUEING TASKS | :   0%|          | 0/15 [00:00<?, ?it/s]"
            ]
          },
          "metadata": {},
          "output_type": "display_data"
        },
        {
          "data": {
            "application/vnd.jupyter.widget-view+json": {
              "model_id": "14fea6fbe57245bb92898266c8e9ea4d",
              "version_major": 2,
              "version_minor": 0
            },
            "text/plain": [
              "PROCESSING TASKS | :   0%|          | 0/15 [00:00<?, ?it/s]"
            ]
          },
          "metadata": {},
          "output_type": "display_data"
        },
        {
          "data": {
            "application/vnd.jupyter.widget-view+json": {
              "model_id": "bb8418f309974135a46af567ae0e93cb",
              "version_major": 2,
              "version_minor": 0
            },
            "text/plain": [
              "COLLECTING RESULTS | :   0%|          | 0/15 [00:00<?, ?it/s]"
            ]
          },
          "metadata": {},
          "output_type": "display_data"
        },
        {
          "data": {
            "application/vnd.jupyter.widget-view+json": {
              "model_id": "0e2516b76ba14a668f8f814d13dbc467",
              "version_major": 2,
              "version_minor": 0
            },
            "text/plain": [
              "QUEUEING TASKS | :   0%|          | 0/15 [00:00<?, ?it/s]"
            ]
          },
          "metadata": {},
          "output_type": "display_data"
        },
        {
          "data": {
            "application/vnd.jupyter.widget-view+json": {
              "model_id": "c47a9338e06f4582b1296900ac3ddbda",
              "version_major": 2,
              "version_minor": 0
            },
            "text/plain": [
              "PROCESSING TASKS | :   0%|          | 0/15 [00:00<?, ?it/s]"
            ]
          },
          "metadata": {},
          "output_type": "display_data"
        },
        {
          "data": {
            "application/vnd.jupyter.widget-view+json": {
              "model_id": "4876f78571df4366a7d0011c6cfbd71a",
              "version_major": 2,
              "version_minor": 0
            },
            "text/plain": [
              "COLLECTING RESULTS | :   0%|          | 0/15 [00:00<?, ?it/s]"
            ]
          },
          "metadata": {},
          "output_type": "display_data"
        },
        {
          "data": {
            "application/vnd.jupyter.widget-view+json": {
              "model_id": "d5de294c4bbe4960aeda6ff4c21f8155",
              "version_major": 2,
              "version_minor": 0
            },
            "text/plain": [
              "QUEUEING TASKS | :   0%|          | 0/15 [00:00<?, ?it/s]"
            ]
          },
          "metadata": {},
          "output_type": "display_data"
        },
        {
          "data": {
            "application/vnd.jupyter.widget-view+json": {
              "model_id": "9319fa0ecdf8406c80c43f2ff4957928",
              "version_major": 2,
              "version_minor": 0
            },
            "text/plain": [
              "PROCESSING TASKS | :   0%|          | 0/15 [00:00<?, ?it/s]"
            ]
          },
          "metadata": {},
          "output_type": "display_data"
        },
        {
          "data": {
            "application/vnd.jupyter.widget-view+json": {
              "model_id": "e352e26c852c46fc8b7255775ed9f814",
              "version_major": 2,
              "version_minor": 0
            },
            "text/plain": [
              "COLLECTING RESULTS | :   0%|          | 0/15 [00:00<?, ?it/s]"
            ]
          },
          "metadata": {},
          "output_type": "display_data"
        },
        {
          "data": {
            "application/vnd.jupyter.widget-view+json": {
              "model_id": "f0b585800742487a9b412dfa8869f75d",
              "version_major": 2,
              "version_minor": 0
            },
            "text/plain": [
              "QUEUEING TASKS | :   0%|          | 0/15 [00:00<?, ?it/s]"
            ]
          },
          "metadata": {},
          "output_type": "display_data"
        },
        {
          "data": {
            "application/vnd.jupyter.widget-view+json": {
              "model_id": "2ec5ee54544940ffb92b08183afd71d4",
              "version_major": 2,
              "version_minor": 0
            },
            "text/plain": [
              "PROCESSING TASKS | :   0%|          | 0/15 [00:00<?, ?it/s]"
            ]
          },
          "metadata": {},
          "output_type": "display_data"
        },
        {
          "data": {
            "application/vnd.jupyter.widget-view+json": {
              "model_id": "5998e162935f49f686916db3bd67de58",
              "version_major": 2,
              "version_minor": 0
            },
            "text/plain": [
              "COLLECTING RESULTS | :   0%|          | 0/15 [00:00<?, ?it/s]"
            ]
          },
          "metadata": {},
          "output_type": "display_data"
        },
        {
          "data": {
            "application/vnd.jupyter.widget-view+json": {
              "model_id": "05d85eb8457a4767a2adfcdfc93fb967",
              "version_major": 2,
              "version_minor": 0
            },
            "text/plain": [
              "QUEUEING TASKS | :   0%|          | 0/15 [00:00<?, ?it/s]"
            ]
          },
          "metadata": {},
          "output_type": "display_data"
        },
        {
          "data": {
            "application/vnd.jupyter.widget-view+json": {
              "model_id": "98b5c62666954676ab656e6de1caea53",
              "version_major": 2,
              "version_minor": 0
            },
            "text/plain": [
              "PROCESSING TASKS | :   0%|          | 0/15 [00:00<?, ?it/s]"
            ]
          },
          "metadata": {},
          "output_type": "display_data"
        },
        {
          "data": {
            "application/vnd.jupyter.widget-view+json": {
              "model_id": "a3f706a87012443d8a9a91c119bb1892",
              "version_major": 2,
              "version_minor": 0
            },
            "text/plain": [
              "COLLECTING RESULTS | :   0%|          | 0/15 [00:00<?, ?it/s]"
            ]
          },
          "metadata": {},
          "output_type": "display_data"
        },
        {
          "data": {
            "application/vnd.jupyter.widget-view+json": {
              "model_id": "2bf5626add844bc69dcbf5dc15e45c50",
              "version_major": 2,
              "version_minor": 0
            },
            "text/plain": [
              "QUEUEING TASKS | :   0%|          | 0/15 [00:00<?, ?it/s]"
            ]
          },
          "metadata": {},
          "output_type": "display_data"
        },
        {
          "data": {
            "application/vnd.jupyter.widget-view+json": {
              "model_id": "70f882de6dc345d7a10d880f7f462a46",
              "version_major": 2,
              "version_minor": 0
            },
            "text/plain": [
              "PROCESSING TASKS | :   0%|          | 0/15 [00:00<?, ?it/s]"
            ]
          },
          "metadata": {},
          "output_type": "display_data"
        },
        {
          "data": {
            "application/vnd.jupyter.widget-view+json": {
              "model_id": "5108daa27c0e4c81b66ba59363c8a939",
              "version_major": 2,
              "version_minor": 0
            },
            "text/plain": [
              "COLLECTING RESULTS | :   0%|          | 0/15 [00:00<?, ?it/s]"
            ]
          },
          "metadata": {},
          "output_type": "display_data"
        },
        {
          "data": {
            "application/vnd.jupyter.widget-view+json": {
              "model_id": "8afcf5ecc9484d4788c7d211ee3d59bf",
              "version_major": 2,
              "version_minor": 0
            },
            "text/plain": [
              "QUEUEING TASKS | :   0%|          | 0/15 [00:00<?, ?it/s]"
            ]
          },
          "metadata": {},
          "output_type": "display_data"
        },
        {
          "data": {
            "application/vnd.jupyter.widget-view+json": {
              "model_id": "fd0b95ddc20d40ad9476ef0da73c42ed",
              "version_major": 2,
              "version_minor": 0
            },
            "text/plain": [
              "PROCESSING TASKS | :   0%|          | 0/15 [00:00<?, ?it/s]"
            ]
          },
          "metadata": {},
          "output_type": "display_data"
        },
        {
          "data": {
            "application/vnd.jupyter.widget-view+json": {
              "model_id": "467bc8a905b0448c9c13c5b693e4159a",
              "version_major": 2,
              "version_minor": 0
            },
            "text/plain": [
              "COLLECTING RESULTS | :   0%|          | 0/15 [00:00<?, ?it/s]"
            ]
          },
          "metadata": {},
          "output_type": "display_data"
        },
        {
          "data": {
            "application/vnd.jupyter.widget-view+json": {
              "model_id": "21eff03ea41f455589cb03aa2bf86fce",
              "version_major": 2,
              "version_minor": 0
            },
            "text/plain": [
              "QUEUEING TASKS | :   0%|          | 0/15 [00:00<?, ?it/s]"
            ]
          },
          "metadata": {},
          "output_type": "display_data"
        },
        {
          "data": {
            "application/vnd.jupyter.widget-view+json": {
              "model_id": "06191528f7794256935eee85dc60e90d",
              "version_major": 2,
              "version_minor": 0
            },
            "text/plain": [
              "PROCESSING TASKS | :   0%|          | 0/15 [00:00<?, ?it/s]"
            ]
          },
          "metadata": {},
          "output_type": "display_data"
        },
        {
          "data": {
            "application/vnd.jupyter.widget-view+json": {
              "model_id": "c44a9d9b59cc4570a183cbe6f732023e",
              "version_major": 2,
              "version_minor": 0
            },
            "text/plain": [
              "COLLECTING RESULTS | :   0%|          | 0/15 [00:00<?, ?it/s]"
            ]
          },
          "metadata": {},
          "output_type": "display_data"
        },
        {
          "data": {
            "application/vnd.jupyter.widget-view+json": {
              "model_id": "436dbb502e624c33a465e5e5ab6c5516",
              "version_major": 2,
              "version_minor": 0
            },
            "text/plain": [
              "QUEUEING TASKS | :   0%|          | 0/15 [00:00<?, ?it/s]"
            ]
          },
          "metadata": {},
          "output_type": "display_data"
        },
        {
          "data": {
            "application/vnd.jupyter.widget-view+json": {
              "model_id": "27207c58ebe9471498f9c896b5fc2b7a",
              "version_major": 2,
              "version_minor": 0
            },
            "text/plain": [
              "PROCESSING TASKS | :   0%|          | 0/15 [00:00<?, ?it/s]"
            ]
          },
          "metadata": {},
          "output_type": "display_data"
        },
        {
          "data": {
            "application/vnd.jupyter.widget-view+json": {
              "model_id": "880b2ff1396a4b69bf38484a124493e6",
              "version_major": 2,
              "version_minor": 0
            },
            "text/plain": [
              "COLLECTING RESULTS | :   0%|          | 0/15 [00:00<?, ?it/s]"
            ]
          },
          "metadata": {},
          "output_type": "display_data"
        },
        {
          "data": {
            "application/vnd.jupyter.widget-view+json": {
              "model_id": "6327198f77f2442b92fb6f4338584d3e",
              "version_major": 2,
              "version_minor": 0
            },
            "text/plain": [
              "QUEUEING TASKS | :   0%|          | 0/15 [00:00<?, ?it/s]"
            ]
          },
          "metadata": {},
          "output_type": "display_data"
        },
        {
          "data": {
            "application/vnd.jupyter.widget-view+json": {
              "model_id": "7fa1055125914ceaabe193ee7af026d1",
              "version_major": 2,
              "version_minor": 0
            },
            "text/plain": [
              "PROCESSING TASKS | :   0%|          | 0/15 [00:00<?, ?it/s]"
            ]
          },
          "metadata": {},
          "output_type": "display_data"
        },
        {
          "data": {
            "application/vnd.jupyter.widget-view+json": {
              "model_id": "106bff4ffe9740cb954312e00d18f02e",
              "version_major": 2,
              "version_minor": 0
            },
            "text/plain": [
              "COLLECTING RESULTS | :   0%|          | 0/15 [00:00<?, ?it/s]"
            ]
          },
          "metadata": {},
          "output_type": "display_data"
        },
        {
          "data": {
            "application/vnd.jupyter.widget-view+json": {
              "model_id": "fcbc101441aa475fb3fed8e44cac8580",
              "version_major": 2,
              "version_minor": 0
            },
            "text/plain": [
              "QUEUEING TASKS | :   0%|          | 0/15 [00:00<?, ?it/s]"
            ]
          },
          "metadata": {},
          "output_type": "display_data"
        },
        {
          "data": {
            "application/vnd.jupyter.widget-view+json": {
              "model_id": "7cd872fd570a4b3cbe19882cf7e24f7f",
              "version_major": 2,
              "version_minor": 0
            },
            "text/plain": [
              "PROCESSING TASKS | :   0%|          | 0/15 [00:00<?, ?it/s]"
            ]
          },
          "metadata": {},
          "output_type": "display_data"
        },
        {
          "data": {
            "application/vnd.jupyter.widget-view+json": {
              "model_id": "eacbce57da0643708d033ec0ca2de0e5",
              "version_major": 2,
              "version_minor": 0
            },
            "text/plain": [
              "COLLECTING RESULTS | :   0%|          | 0/15 [00:00<?, ?it/s]"
            ]
          },
          "metadata": {},
          "output_type": "display_data"
        },
        {
          "data": {
            "application/vnd.jupyter.widget-view+json": {
              "model_id": "fdf5e38bb43a4a1291e264b692a95e3f",
              "version_major": 2,
              "version_minor": 0
            },
            "text/plain": [
              "QUEUEING TASKS | :   0%|          | 0/15 [00:00<?, ?it/s]"
            ]
          },
          "metadata": {},
          "output_type": "display_data"
        },
        {
          "data": {
            "application/vnd.jupyter.widget-view+json": {
              "model_id": "13da698ee8d14476bf47b106053d3628",
              "version_major": 2,
              "version_minor": 0
            },
            "text/plain": [
              "PROCESSING TASKS | :   0%|          | 0/15 [00:00<?, ?it/s]"
            ]
          },
          "metadata": {},
          "output_type": "display_data"
        },
        {
          "data": {
            "application/vnd.jupyter.widget-view+json": {
              "model_id": "a87bbf5521234ec6876acfdbe15639d8",
              "version_major": 2,
              "version_minor": 0
            },
            "text/plain": [
              "COLLECTING RESULTS | :   0%|          | 0/15 [00:00<?, ?it/s]"
            ]
          },
          "metadata": {},
          "output_type": "display_data"
        },
        {
          "data": {
            "application/vnd.jupyter.widget-view+json": {
              "model_id": "77db807003ea4f62a41674cc7ed01034",
              "version_major": 2,
              "version_minor": 0
            },
            "text/plain": [
              "QUEUEING TASKS | :   0%|          | 0/15 [00:00<?, ?it/s]"
            ]
          },
          "metadata": {},
          "output_type": "display_data"
        },
        {
          "data": {
            "application/vnd.jupyter.widget-view+json": {
              "model_id": "3ffefd8498b64a17958d4482808cc849",
              "version_major": 2,
              "version_minor": 0
            },
            "text/plain": [
              "PROCESSING TASKS | :   0%|          | 0/15 [00:00<?, ?it/s]"
            ]
          },
          "metadata": {},
          "output_type": "display_data"
        },
        {
          "data": {
            "application/vnd.jupyter.widget-view+json": {
              "model_id": "2f42591d3a4d4178b75b67c170f486a9",
              "version_major": 2,
              "version_minor": 0
            },
            "text/plain": [
              "COLLECTING RESULTS | :   0%|          | 0/15 [00:00<?, ?it/s]"
            ]
          },
          "metadata": {},
          "output_type": "display_data"
        },
        {
          "data": {
            "application/vnd.jupyter.widget-view+json": {
              "model_id": "8fb4a4989154434f92315546b1e471f4",
              "version_major": 2,
              "version_minor": 0
            },
            "text/plain": [
              "QUEUEING TASKS | :   0%|          | 0/15 [00:00<?, ?it/s]"
            ]
          },
          "metadata": {},
          "output_type": "display_data"
        },
        {
          "data": {
            "application/vnd.jupyter.widget-view+json": {
              "model_id": "ba84fc7ba38f4ddeb8f9a35a2a6576ad",
              "version_major": 2,
              "version_minor": 0
            },
            "text/plain": [
              "PROCESSING TASKS | :   0%|          | 0/15 [00:00<?, ?it/s]"
            ]
          },
          "metadata": {},
          "output_type": "display_data"
        },
        {
          "data": {
            "application/vnd.jupyter.widget-view+json": {
              "model_id": "073fad72c341454b81f1049b2d76acf7",
              "version_major": 2,
              "version_minor": 0
            },
            "text/plain": [
              "COLLECTING RESULTS | :   0%|          | 0/15 [00:00<?, ?it/s]"
            ]
          },
          "metadata": {},
          "output_type": "display_data"
        },
        {
          "data": {
            "application/vnd.jupyter.widget-view+json": {
              "model_id": "736976d1a8664dadada9751148513357",
              "version_major": 2,
              "version_minor": 0
            },
            "text/plain": [
              "QUEUEING TASKS | :   0%|          | 0/15 [00:00<?, ?it/s]"
            ]
          },
          "metadata": {},
          "output_type": "display_data"
        },
        {
          "data": {
            "application/vnd.jupyter.widget-view+json": {
              "model_id": "3ebc6f0ce72f4956914e8c239e654521",
              "version_major": 2,
              "version_minor": 0
            },
            "text/plain": [
              "PROCESSING TASKS | :   0%|          | 0/15 [00:00<?, ?it/s]"
            ]
          },
          "metadata": {},
          "output_type": "display_data"
        },
        {
          "data": {
            "application/vnd.jupyter.widget-view+json": {
              "model_id": "e2bd4cc87bae47deb9aed579f58bae81",
              "version_major": 2,
              "version_minor": 0
            },
            "text/plain": [
              "COLLECTING RESULTS | :   0%|          | 0/15 [00:00<?, ?it/s]"
            ]
          },
          "metadata": {},
          "output_type": "display_data"
        },
        {
          "data": {
            "application/vnd.jupyter.widget-view+json": {
              "model_id": "6444847cd5fa4935a9b5941164773ff0",
              "version_major": 2,
              "version_minor": 0
            },
            "text/plain": [
              "QUEUEING TASKS | :   0%|          | 0/15 [00:00<?, ?it/s]"
            ]
          },
          "metadata": {},
          "output_type": "display_data"
        },
        {
          "data": {
            "application/vnd.jupyter.widget-view+json": {
              "model_id": "51b235ee03c24f73b9d2d23511c4021c",
              "version_major": 2,
              "version_minor": 0
            },
            "text/plain": [
              "PROCESSING TASKS | :   0%|          | 0/15 [00:00<?, ?it/s]"
            ]
          },
          "metadata": {},
          "output_type": "display_data"
        },
        {
          "data": {
            "application/vnd.jupyter.widget-view+json": {
              "model_id": "09fe741e4ea9499e89d01337f8207398",
              "version_major": 2,
              "version_minor": 0
            },
            "text/plain": [
              "COLLECTING RESULTS | :   0%|          | 0/15 [00:00<?, ?it/s]"
            ]
          },
          "metadata": {},
          "output_type": "display_data"
        },
        {
          "data": {
            "application/vnd.jupyter.widget-view+json": {
              "model_id": "f76bcb82e37c4b84ac4bb45f8519285b",
              "version_major": 2,
              "version_minor": 0
            },
            "text/plain": [
              "QUEUEING TASKS | :   0%|          | 0/15 [00:00<?, ?it/s]"
            ]
          },
          "metadata": {},
          "output_type": "display_data"
        },
        {
          "data": {
            "application/vnd.jupyter.widget-view+json": {
              "model_id": "23cb2618fb2048edae2b1ff555218b3d",
              "version_major": 2,
              "version_minor": 0
            },
            "text/plain": [
              "PROCESSING TASKS | :   0%|          | 0/15 [00:00<?, ?it/s]"
            ]
          },
          "metadata": {},
          "output_type": "display_data"
        },
        {
          "data": {
            "application/vnd.jupyter.widget-view+json": {
              "model_id": "0541b37679424cf9b7c77a76c98d5baf",
              "version_major": 2,
              "version_minor": 0
            },
            "text/plain": [
              "COLLECTING RESULTS | :   0%|          | 0/15 [00:00<?, ?it/s]"
            ]
          },
          "metadata": {},
          "output_type": "display_data"
        },
        {
          "data": {
            "application/vnd.jupyter.widget-view+json": {
              "model_id": "116cd4754b424cac90f04301f487ae2a",
              "version_major": 2,
              "version_minor": 0
            },
            "text/plain": [
              "QUEUEING TASKS | :   0%|          | 0/15 [00:00<?, ?it/s]"
            ]
          },
          "metadata": {},
          "output_type": "display_data"
        },
        {
          "data": {
            "application/vnd.jupyter.widget-view+json": {
              "model_id": "14ea83c603a94efd9e89382f6ccf824b",
              "version_major": 2,
              "version_minor": 0
            },
            "text/plain": [
              "PROCESSING TASKS | :   0%|          | 0/15 [00:00<?, ?it/s]"
            ]
          },
          "metadata": {},
          "output_type": "display_data"
        },
        {
          "data": {
            "application/vnd.jupyter.widget-view+json": {
              "model_id": "8a9e6f8fffa24ce4bab142670449d412",
              "version_major": 2,
              "version_minor": 0
            },
            "text/plain": [
              "COLLECTING RESULTS | :   0%|          | 0/15 [00:00<?, ?it/s]"
            ]
          },
          "metadata": {},
          "output_type": "display_data"
        },
        {
          "data": {
            "application/vnd.jupyter.widget-view+json": {
              "model_id": "d7e4877614c746ed83089df739c20a35",
              "version_major": 2,
              "version_minor": 0
            },
            "text/plain": [
              "QUEUEING TASKS | :   0%|          | 0/15 [00:00<?, ?it/s]"
            ]
          },
          "metadata": {},
          "output_type": "display_data"
        },
        {
          "data": {
            "application/vnd.jupyter.widget-view+json": {
              "model_id": "ac2b7472dceb4990b38e7ce59cbfbc10",
              "version_major": 2,
              "version_minor": 0
            },
            "text/plain": [
              "PROCESSING TASKS | :   0%|          | 0/15 [00:00<?, ?it/s]"
            ]
          },
          "metadata": {},
          "output_type": "display_data"
        },
        {
          "data": {
            "application/vnd.jupyter.widget-view+json": {
              "model_id": "15cda0d27971475cad5ff7f7a996004e",
              "version_major": 2,
              "version_minor": 0
            },
            "text/plain": [
              "COLLECTING RESULTS | :   0%|          | 0/15 [00:00<?, ?it/s]"
            ]
          },
          "metadata": {},
          "output_type": "display_data"
        },
        {
          "data": {
            "application/vnd.jupyter.widget-view+json": {
              "model_id": "5f8db52fb6f84cfa872c5f39c4ed6973",
              "version_major": 2,
              "version_minor": 0
            },
            "text/plain": [
              "QUEUEING TASKS | :   0%|          | 0/15 [00:00<?, ?it/s]"
            ]
          },
          "metadata": {},
          "output_type": "display_data"
        },
        {
          "data": {
            "application/vnd.jupyter.widget-view+json": {
              "model_id": "f2aee5e362bc40938c69488f2db2bcf1",
              "version_major": 2,
              "version_minor": 0
            },
            "text/plain": [
              "PROCESSING TASKS | :   0%|          | 0/15 [00:00<?, ?it/s]"
            ]
          },
          "metadata": {},
          "output_type": "display_data"
        },
        {
          "data": {
            "application/vnd.jupyter.widget-view+json": {
              "model_id": "bb38c9bbff4b4954add447f14a032328",
              "version_major": 2,
              "version_minor": 0
            },
            "text/plain": [
              "COLLECTING RESULTS | :   0%|          | 0/15 [00:00<?, ?it/s]"
            ]
          },
          "metadata": {},
          "output_type": "display_data"
        },
        {
          "data": {
            "application/vnd.jupyter.widget-view+json": {
              "model_id": "804c0891f8a949948e24b4b69ab839d0",
              "version_major": 2,
              "version_minor": 0
            },
            "text/plain": [
              "QUEUEING TASKS | :   0%|          | 0/15 [00:00<?, ?it/s]"
            ]
          },
          "metadata": {},
          "output_type": "display_data"
        },
        {
          "data": {
            "application/vnd.jupyter.widget-view+json": {
              "model_id": "c08e97d53e9e4b3f8ecfb489c65bb0db",
              "version_major": 2,
              "version_minor": 0
            },
            "text/plain": [
              "PROCESSING TASKS | :   0%|          | 0/15 [00:00<?, ?it/s]"
            ]
          },
          "metadata": {},
          "output_type": "display_data"
        },
        {
          "data": {
            "application/vnd.jupyter.widget-view+json": {
              "model_id": "dde63c8c11274c9f86481111d200af75",
              "version_major": 2,
              "version_minor": 0
            },
            "text/plain": [
              "COLLECTING RESULTS | :   0%|          | 0/15 [00:00<?, ?it/s]"
            ]
          },
          "metadata": {},
          "output_type": "display_data"
        },
        {
          "data": {
            "application/vnd.jupyter.widget-view+json": {
              "model_id": "46a6bf906aca47989cceac83970c4a8d",
              "version_major": 2,
              "version_minor": 0
            },
            "text/plain": [
              "QUEUEING TASKS | :   0%|          | 0/15 [00:00<?, ?it/s]"
            ]
          },
          "metadata": {},
          "output_type": "display_data"
        },
        {
          "data": {
            "application/vnd.jupyter.widget-view+json": {
              "model_id": "477348db16894176989d9fad63527a41",
              "version_major": 2,
              "version_minor": 0
            },
            "text/plain": [
              "PROCESSING TASKS | :   0%|          | 0/15 [00:00<?, ?it/s]"
            ]
          },
          "metadata": {},
          "output_type": "display_data"
        },
        {
          "data": {
            "application/vnd.jupyter.widget-view+json": {
              "model_id": "a27e1b7410004eda828c79a8f3a613c6",
              "version_major": 2,
              "version_minor": 0
            },
            "text/plain": [
              "COLLECTING RESULTS | :   0%|          | 0/15 [00:00<?, ?it/s]"
            ]
          },
          "metadata": {},
          "output_type": "display_data"
        },
        {
          "data": {
            "application/vnd.jupyter.widget-view+json": {
              "model_id": "c9581d39d8dd4cefbaf75c018ae7dd7b",
              "version_major": 2,
              "version_minor": 0
            },
            "text/plain": [
              "QUEUEING TASKS | :   0%|          | 0/15 [00:00<?, ?it/s]"
            ]
          },
          "metadata": {},
          "output_type": "display_data"
        },
        {
          "data": {
            "application/vnd.jupyter.widget-view+json": {
              "model_id": "20ddada5b7f54ad59dda3b87e4760d13",
              "version_major": 2,
              "version_minor": 0
            },
            "text/plain": [
              "PROCESSING TASKS | :   0%|          | 0/15 [00:00<?, ?it/s]"
            ]
          },
          "metadata": {},
          "output_type": "display_data"
        },
        {
          "data": {
            "application/vnd.jupyter.widget-view+json": {
              "model_id": "ee39facf5ae44ee8b0e3a63156f47674",
              "version_major": 2,
              "version_minor": 0
            },
            "text/plain": [
              "COLLECTING RESULTS | :   0%|          | 0/15 [00:00<?, ?it/s]"
            ]
          },
          "metadata": {},
          "output_type": "display_data"
        },
        {
          "data": {
            "application/vnd.jupyter.widget-view+json": {
              "model_id": "9713a80de15a4a51993276eb0276c534",
              "version_major": 2,
              "version_minor": 0
            },
            "text/plain": [
              "QUEUEING TASKS | :   0%|          | 0/15 [00:00<?, ?it/s]"
            ]
          },
          "metadata": {},
          "output_type": "display_data"
        },
        {
          "data": {
            "application/vnd.jupyter.widget-view+json": {
              "model_id": "56cf2bf2c55749f2a23b42f8dd12c8e4",
              "version_major": 2,
              "version_minor": 0
            },
            "text/plain": [
              "PROCESSING TASKS | :   0%|          | 0/15 [00:00<?, ?it/s]"
            ]
          },
          "metadata": {},
          "output_type": "display_data"
        },
        {
          "data": {
            "application/vnd.jupyter.widget-view+json": {
              "model_id": "bffd431fe9ef4a25bb06387cd5a88d5f",
              "version_major": 2,
              "version_minor": 0
            },
            "text/plain": [
              "COLLECTING RESULTS | :   0%|          | 0/15 [00:00<?, ?it/s]"
            ]
          },
          "metadata": {},
          "output_type": "display_data"
        },
        {
          "data": {
            "application/vnd.jupyter.widget-view+json": {
              "model_id": "ad73a31d7a8a4bb29b86fded6f430460",
              "version_major": 2,
              "version_minor": 0
            },
            "text/plain": [
              "QUEUEING TASKS | :   0%|          | 0/15 [00:00<?, ?it/s]"
            ]
          },
          "metadata": {},
          "output_type": "display_data"
        },
        {
          "data": {
            "application/vnd.jupyter.widget-view+json": {
              "model_id": "5b5ac1aa7c204bd2b327abcbf5ce7cff",
              "version_major": 2,
              "version_minor": 0
            },
            "text/plain": [
              "PROCESSING TASKS | :   0%|          | 0/15 [00:00<?, ?it/s]"
            ]
          },
          "metadata": {},
          "output_type": "display_data"
        },
        {
          "data": {
            "application/vnd.jupyter.widget-view+json": {
              "model_id": "c878e944f3cc4249b32a2e5853563b06",
              "version_major": 2,
              "version_minor": 0
            },
            "text/plain": [
              "COLLECTING RESULTS | :   0%|          | 0/15 [00:00<?, ?it/s]"
            ]
          },
          "metadata": {},
          "output_type": "display_data"
        },
        {
          "data": {
            "application/vnd.jupyter.widget-view+json": {
              "model_id": "940e3cc0bfa34b8bae918e625e478b02",
              "version_major": 2,
              "version_minor": 0
            },
            "text/plain": [
              "QUEUEING TASKS | :   0%|          | 0/15 [00:00<?, ?it/s]"
            ]
          },
          "metadata": {},
          "output_type": "display_data"
        },
        {
          "data": {
            "application/vnd.jupyter.widget-view+json": {
              "model_id": "f54a0929e4b9479ebb6ffc66863ea881",
              "version_major": 2,
              "version_minor": 0
            },
            "text/plain": [
              "PROCESSING TASKS | :   0%|          | 0/15 [00:00<?, ?it/s]"
            ]
          },
          "metadata": {},
          "output_type": "display_data"
        },
        {
          "data": {
            "application/vnd.jupyter.widget-view+json": {
              "model_id": "8e546fb131e148ae84883f47e05e4bfb",
              "version_major": 2,
              "version_minor": 0
            },
            "text/plain": [
              "COLLECTING RESULTS | :   0%|          | 0/15 [00:00<?, ?it/s]"
            ]
          },
          "metadata": {},
          "output_type": "display_data"
        },
        {
          "data": {
            "application/vnd.jupyter.widget-view+json": {
              "model_id": "fd6ff285abe341f49fdc0153c4c797bb",
              "version_major": 2,
              "version_minor": 0
            },
            "text/plain": [
              "QUEUEING TASKS | :   0%|          | 0/15 [00:00<?, ?it/s]"
            ]
          },
          "metadata": {},
          "output_type": "display_data"
        },
        {
          "data": {
            "application/vnd.jupyter.widget-view+json": {
              "model_id": "ffbda248682c476c8cc035132052252e",
              "version_major": 2,
              "version_minor": 0
            },
            "text/plain": [
              "PROCESSING TASKS | :   0%|          | 0/15 [00:00<?, ?it/s]"
            ]
          },
          "metadata": {},
          "output_type": "display_data"
        },
        {
          "data": {
            "application/vnd.jupyter.widget-view+json": {
              "model_id": "b1d46af44d894b618c87f4db6df54b88",
              "version_major": 2,
              "version_minor": 0
            },
            "text/plain": [
              "COLLECTING RESULTS | :   0%|          | 0/15 [00:00<?, ?it/s]"
            ]
          },
          "metadata": {},
          "output_type": "display_data"
        }
      ],
      "source": [
        "ms_delta_metadata = build_granule_metadata(ms_delta_results)"
      ]
    },
    {
      "cell_type": "markdown",
      "id": "394fc552-7fac-4228-a60b-beb4776718e8",
      "metadata": {},
      "source": [
        "### Open, crop, and mask data\n",
        "\n",
        "This will be the most resource-intensive step. I recommend caching your\n",
        "results using the `cached` decorator or by writing your own caching\n",
        "code. I also recommend testing this step with one or two dates before\n",
        "running the full computation.\n",
        "\n",
        "This code should include at least one **function** including a\n",
        "numpy-style docstring. A good place to start would be a function for\n",
        "opening a single masked raster, applying the appropriate scale\n",
        "parameter, and cropping.\n",
        "\n",
        "<link rel=\"stylesheet\" type=\"text/css\" href=\"./assets/styles.css\"><div class=\"callout callout-style-default callout-titled callout-task\"><div class=\"callout-header\"><div class=\"callout-icon-container\"><i class=\"callout-icon\"></i></div><div class=\"callout-title-container flex-fill\">Try It</div></div><div class=\"callout-body-container callout-body\"><ol type=\"1\">\n",
        "<li>For each granule:\n",
        "<ol type=\"1\">\n",
        "<li><p>Open the Fmask band, crop, and compute a quality mask for the\n",
        "granule. You can use the following code as a starting point, making sure\n",
        "that <code>mask_bits</code> contains the quality bits you want to\n",
        "consider: ```python # Expand into a new dimension of binary bits bits =\n",
        "( np.unpackbits(da.astype(np.uint8), bitorder=‘little’)\n",
        ".reshape(da.shape + (-1,)) )</p>\n",
        "<p># Select the required bits and check if any are flagged mask =\n",
        "np.prod(bits[…, mask_bits]==0, axis=-1) ```</p></li>\n",
        "<li><p>For each band that starts with ‘B’:</p>\n",
        "<ol type=\"1\">\n",
        "<li>Open the band, crop, and apply the scale factor</li>\n",
        "<li>Name the DataArray after the band using the <code>.name</code>\n",
        "attribute</li>\n",
        "<li>Apply the cloud mask using the <code>.where()</code> method</li>\n",
        "<li>Store the DataArray in your data structure (e.g. adding a\n",
        "GeoDataFrame column with the DataArray in it. Note that you will need to\n",
        "remove the rows for unused bands)</li>\n",
        "</ol></li>\n",
        "</ol></li>\n",
        "</ol></div></div>"
      ]
    },
    {
      "cell_type": "code",
      "execution_count": 51,
      "id": "27e9bcde",
      "metadata": {},
      "outputs": [],
      "source": [
        "def process_image(uri, bounds_gdf):\n",
        "    \"\"\"\n",
        "    Load, crop, and scale a raster image\n",
        "\n",
        "    Parameters\n",
        "    ----------\n",
        "    uri: file-like or path-like\n",
        "      File accessor \n",
        "    bounds_gdf: gpd.GeoDataFrame\n",
        "      Area of interest \n",
        "\n",
        "    Returns\n",
        "    -------\n",
        "    cropped_da: rxr.DataArray\n",
        "      Processed raster\n",
        "    \"\"\"\n",
        "    # Load and scale\n",
        "    da = rxr.open_rasterio(uri, mask_and_scale=True).squeeze()\n",
        "\n",
        "    # Obtain crs from raster\n",
        "    raster_crs = da.rio.crs\n",
        "\n",
        "    # Match coordinate reference systems\n",
        "    bounds_gdf = bounds_gdf.to_crs(raster_crs)\n",
        "\n",
        "    # Crop to site boundaries\n",
        "    cropped_da = da.rio.clip_box(*bounds_gdf.total_bounds)\n",
        "\n",
        "    return cropped_da"
      ]
    },
    {
      "cell_type": "code",
      "execution_count": 52,
      "id": "bb5b07bb",
      "metadata": {},
      "outputs": [],
      "source": [
        "def process_cloud_mask(cloud_uri, bits_to_mask):\n",
        "    \"\"\"\n",
        "    Load an 8-bit Fmask file and process to a boolean mask\n",
        "\n",
        "    Parameters\n",
        "    ----------\n",
        "    uri: file-like or path-like\n",
        "      Fmask file accessor \n",
        "    bits_to_mask: list of int\n",
        "      The indices of the bits to mask if set\n",
        "\n",
        "    Returns\n",
        "    -------\n",
        "    cloud_mask: np.array\n",
        "      Cloud mask\n",
        "    \"\"\"\n",
        "    cloud_da = rxr.open_rasterio(cloud_uri, mask_and_scale=True).squeeze()\n",
        "\n",
        "    # Get the cloud mask as bits\n",
        "    cloud_bits = (\n",
        "        np.unpackbits(\n",
        "            (\n",
        "                # Get the cloud mask as an array\n",
        "                cloud_da.values\n",
        "                # of 8-bit integers\n",
        "                .astype('uint8')\n",
        "                # With an extra axis to unpack the bits into\n",
        "                [:, :, np.newaxis]\n",
        "            ), \n",
        "            # List the least significant bit first to match the user guide\n",
        "            bitorder='little',\n",
        "            # Expand the array in a new dimension\n",
        "            axis=-1)\n",
        "    )\n",
        "    \n",
        "    # Add up the bits for each pixel\n",
        "    cloud_mask = np.sum(\n",
        "        # Select bits \n",
        "        cloud_bits[:, :, bits_to_mask], \n",
        "        # Sum along the bit axis\n",
        "        axis=-1\n",
        "    )\n",
        "\n",
        "    # Mask the pixel if the sum is greater than 0\n",
        "    # (If any of the bits are True)\n",
        "    cloud_mask = cloud_mask == 0\n",
        "\n",
        "    return cloud_mask"
      ]
    },
    {
      "cell_type": "code",
      "execution_count": 17,
      "id": "8358add8",
      "metadata": {},
      "outputs": [],
      "source": [
        "# Harmonized Landsat Sentinel-2 (HLS) band code name L8\n",
        "bands = {\n",
        "    'B01': 'aerosol',\n",
        "    'B02': 'red',\n",
        "    'B03': 'green',\n",
        "    'B04': 'blue',\n",
        "    # Near-infrared narrow (0.85 – 0.88 micrometers)\n",
        "    'B05': 'nir',\n",
        "    # Short-wave infrared (SWIR) wavelength 1.57 – 1.65 µm\n",
        "    'B06': 'swir1',\n",
        "    # SWIR (2.11 – 2.29 µm)\n",
        "    'B07': 'swir2',\n",
        "    'B09': 'cirrus',\n",
        "    # Thermal infrared 1 (10.60 – 11.19 µm)\n",
        "    'B10': 'thermalir1',\n",
        "    # Thermal infrared 2 (11.50 – 12.51 µm)\n",
        "    'B11': 'thermalir2'\n",
        "}\n",
        "\n",
        "# HLS Quality Assessment layer bits\n",
        "bits_to_mask = [\n",
        "    1, # Cloud\n",
        "    2, # Adjacent to cloud/shadow\n",
        "    3  # Cloud shadow\n",
        "]"
      ]
    },
    {
      "cell_type": "code",
      "execution_count": 71,
      "id": "5bd359c8",
      "metadata": {},
      "outputs": [],
      "source": [
        "@cached('ms_delta_reflectance_da_df')\n",
        "def compute_reflectance_da(file_df, boundary_gdf):\n",
        "    \"\"\"\n",
        "    Connect to files over VSI (Virtual Filesystem Interface), \n",
        "    crop, cloud mask, and wrangle data.\n",
        "    \n",
        "    Returns a reflectance DataArray within file DataFrame.\n",
        "    \n",
        "    Parameters\n",
        "    ==========\n",
        "    file_df : pd.DataFrame\n",
        "        File connection and metadata \n",
        "    boundary_gdf : gpd.GeoDataFrame\n",
        "        Boundary use to crop the data\n",
        "    \"\"\"\n",
        "    granule_da_rows= []\n",
        "\n",
        "    # unique dated data granules\n",
        "    tile_groups = file_df.groupby(['granule_date', 'tile_id'])\n",
        "\n",
        "    for (granule_date, tile_id), tile_df in tqdm(tile_groups):\n",
        "        print(f'Processing granule {tile_id} {granule_date}')\n",
        "\n",
        "        # Grab Fmask row from tile group\n",
        "        Fmask_row = tile_df.loc[tile_df['band_id'] == 'Fmask']\n",
        "        # Load cloud path\n",
        "        cloud_path = Fmask_row.uri.values[0]\n",
        "        # Compute cloud mask\n",
        "        cloud_mask = process_cloud_mask(cloud_path, bits_to_mask)\n",
        "\n",
        "        # Load spectral bands\n",
        "        band_groups = tile_df.groupby('band_id')\n",
        "\n",
        "        for band_name, band_df in band_groups:\n",
        "            for index, row in band_df.iterrows():\n",
        "                # Process band\n",
        "                cropped_da = process_image(row.uri, boundary_gdf)\n",
        "                cropped_da.name = band_name\n",
        "\n",
        "                # Apply mask on band to remove unwanted cloud data\n",
        "                row['da'] = cropped_da.where(~cropped_da.isin(cloud_mask))\n",
        "\n",
        "                # Store the resulting DataArray\n",
        "                granule_da_rows.append(row.to_frame().T)\n",
        "\n",
        "    # Reassemble the metadata DataFrame\n",
        "    return pd.concat(granule_da_rows)"
      ]
    },
    {
      "cell_type": "code",
      "execution_count": 68,
      "id": "4fc6084f",
      "metadata": {},
      "outputs": [
        {
          "data": {
            "application/vnd.jupyter.widget-view+json": {
              "model_id": "50404f85ff1845769e198e51957fc49b",
              "version_major": 2,
              "version_minor": 0
            },
            "text/plain": [
              "  0%|          | 0/1 [00:00<?, ?it/s]"
            ]
          },
          "metadata": {},
          "output_type": "display_data"
        },
        {
          "name": "stdout",
          "output_type": "stream",
          "text": [
            "Processing granule HLS.L30.T15RYP.2023268T163212.v2.0 2023-09-25\n"
          ]
        },
        {
          "data": {
            "text/html": [
              "<div>\n",
              "<style scoped>\n",
              "    .dataframe tbody tr th:only-of-type {\n",
              "        vertical-align: middle;\n",
              "    }\n",
              "\n",
              "    .dataframe tbody tr th {\n",
              "        vertical-align: top;\n",
              "    }\n",
              "\n",
              "    .dataframe thead th {\n",
              "        text-align: right;\n",
              "    }\n",
              "</style>\n",
              "<table border=\"1\" class=\"dataframe\">\n",
              "  <thead>\n",
              "    <tr style=\"text-align: right;\">\n",
              "      <th></th>\n",
              "      <th>filename</th>\n",
              "      <th>tile_id</th>\n",
              "      <th>band_id</th>\n",
              "      <th>granule_id</th>\n",
              "      <th>granule_date</th>\n",
              "      <th>granule_polygon</th>\n",
              "      <th>uri</th>\n",
              "      <th>geometry</th>\n",
              "      <th>da</th>\n",
              "    </tr>\n",
              "  </thead>\n",
              "  <tbody>\n",
              "    <tr>\n",
              "      <th>3</th>\n",
              "      <td>HLS.L30.T15RYP.2023268T163212.v2.0.B01.tif</td>\n",
              "      <td>HLS.L30.T15RYP.2023268T163212.v2.0</td>\n",
              "      <td>B01</td>\n",
              "      <td>HLS.L30.T15RYP.2023268T163212.v2.0</td>\n",
              "      <td>2023-09-25</td>\n",
              "      <td>POLYGON ((-89.79864173 29.70347853, -89.766437...</td>\n",
              "      <td>&lt;File-like object HTTPFileSystem, https://data...</td>\n",
              "      <td>POLYGON ((-89.79864173 29.70347853, -89.766437...</td>\n",
              "      <td>[[&lt;xarray.DataArray 'B01' ()&gt; Size: 4B\\narray(...</td>\n",
              "    </tr>\n",
              "    <tr>\n",
              "      <th>5</th>\n",
              "      <td>HLS.L30.T15RYP.2023268T163212.v2.0.B02.tif</td>\n",
              "      <td>HLS.L30.T15RYP.2023268T163212.v2.0</td>\n",
              "      <td>B02</td>\n",
              "      <td>HLS.L30.T15RYP.2023268T163212.v2.0</td>\n",
              "      <td>2023-09-25</td>\n",
              "      <td>POLYGON ((-89.79864173 29.70347853, -89.766437...</td>\n",
              "      <td>&lt;File-like object HTTPFileSystem, https://data...</td>\n",
              "      <td>POLYGON ((-89.79864173 29.70347853, -89.766437...</td>\n",
              "      <td>[[&lt;xarray.DataArray 'B02' ()&gt; Size: 4B\\narray(...</td>\n",
              "    </tr>\n",
              "    <tr>\n",
              "      <th>7</th>\n",
              "      <td>HLS.L30.T15RYP.2023268T163212.v2.0.B03.tif</td>\n",
              "      <td>HLS.L30.T15RYP.2023268T163212.v2.0</td>\n",
              "      <td>B03</td>\n",
              "      <td>HLS.L30.T15RYP.2023268T163212.v2.0</td>\n",
              "      <td>2023-09-25</td>\n",
              "      <td>POLYGON ((-89.79864173 29.70347853, -89.766437...</td>\n",
              "      <td>&lt;File-like object HTTPFileSystem, https://data...</td>\n",
              "      <td>POLYGON ((-89.79864173 29.70347853, -89.766437...</td>\n",
              "      <td>[[&lt;xarray.DataArray 'B03' ()&gt; Size: 4B\\narray(...</td>\n",
              "    </tr>\n",
              "    <tr>\n",
              "      <th>0</th>\n",
              "      <td>HLS.L30.T15RYP.2023268T163212.v2.0.B04.tif</td>\n",
              "      <td>HLS.L30.T15RYP.2023268T163212.v2.0</td>\n",
              "      <td>B04</td>\n",
              "      <td>HLS.L30.T15RYP.2023268T163212.v2.0</td>\n",
              "      <td>2023-09-25</td>\n",
              "      <td>POLYGON ((-89.79864173 29.70347853, -89.766437...</td>\n",
              "      <td>&lt;File-like object HTTPFileSystem, https://data...</td>\n",
              "      <td>POLYGON ((-89.79864173 29.70347853, -89.766437...</td>\n",
              "      <td>[[&lt;xarray.DataArray 'B04' ()&gt; Size: 4B\\narray(...</td>\n",
              "    </tr>\n",
              "    <tr>\n",
              "      <th>9</th>\n",
              "      <td>HLS.L30.T15RYP.2023268T163212.v2.0.B05.tif</td>\n",
              "      <td>HLS.L30.T15RYP.2023268T163212.v2.0</td>\n",
              "      <td>B05</td>\n",
              "      <td>HLS.L30.T15RYP.2023268T163212.v2.0</td>\n",
              "      <td>2023-09-25</td>\n",
              "      <td>POLYGON ((-89.79864173 29.70347853, -89.766437...</td>\n",
              "      <td>&lt;File-like object HTTPFileSystem, https://data...</td>\n",
              "      <td>POLYGON ((-89.79864173 29.70347853, -89.766437...</td>\n",
              "      <td>[[&lt;xarray.DataArray 'B05' ()&gt; Size: 4B\\narray(...</td>\n",
              "    </tr>\n",
              "    <tr>\n",
              "      <th>8</th>\n",
              "      <td>HLS.L30.T15RYP.2023268T163212.v2.0.B06.tif</td>\n",
              "      <td>HLS.L30.T15RYP.2023268T163212.v2.0</td>\n",
              "      <td>B06</td>\n",
              "      <td>HLS.L30.T15RYP.2023268T163212.v2.0</td>\n",
              "      <td>2023-09-25</td>\n",
              "      <td>POLYGON ((-89.79864173 29.70347853, -89.766437...</td>\n",
              "      <td>&lt;File-like object HTTPFileSystem, https://data...</td>\n",
              "      <td>POLYGON ((-89.79864173 29.70347853, -89.766437...</td>\n",
              "      <td>[[&lt;xarray.DataArray 'B06' ()&gt; Size: 4B\\narray(...</td>\n",
              "    </tr>\n",
              "    <tr>\n",
              "      <th>1</th>\n",
              "      <td>HLS.L30.T15RYP.2023268T163212.v2.0.B07.tif</td>\n",
              "      <td>HLS.L30.T15RYP.2023268T163212.v2.0</td>\n",
              "      <td>B07</td>\n",
              "      <td>HLS.L30.T15RYP.2023268T163212.v2.0</td>\n",
              "      <td>2023-09-25</td>\n",
              "      <td>POLYGON ((-89.79864173 29.70347853, -89.766437...</td>\n",
              "      <td>&lt;File-like object HTTPFileSystem, https://data...</td>\n",
              "      <td>POLYGON ((-89.79864173 29.70347853, -89.766437...</td>\n",
              "      <td>[[&lt;xarray.DataArray 'B07' ()&gt; Size: 4B\\narray(...</td>\n",
              "    </tr>\n",
              "    <tr>\n",
              "      <th>2</th>\n",
              "      <td>HLS.L30.T15RYP.2023268T163212.v2.0.B09.tif</td>\n",
              "      <td>HLS.L30.T15RYP.2023268T163212.v2.0</td>\n",
              "      <td>B09</td>\n",
              "      <td>HLS.L30.T15RYP.2023268T163212.v2.0</td>\n",
              "      <td>2023-09-25</td>\n",
              "      <td>POLYGON ((-89.79864173 29.70347853, -89.766437...</td>\n",
              "      <td>&lt;File-like object HTTPFileSystem, https://data...</td>\n",
              "      <td>POLYGON ((-89.79864173 29.70347853, -89.766437...</td>\n",
              "      <td>[[&lt;xarray.DataArray 'B09' ()&gt; Size: 4B\\narray(...</td>\n",
              "    </tr>\n",
              "    <tr>\n",
              "      <th>4</th>\n",
              "      <td>HLS.L30.T15RYP.2023268T163212.v2.0.B10.tif</td>\n",
              "      <td>HLS.L30.T15RYP.2023268T163212.v2.0</td>\n",
              "      <td>B10</td>\n",
              "      <td>HLS.L30.T15RYP.2023268T163212.v2.0</td>\n",
              "      <td>2023-09-25</td>\n",
              "      <td>POLYGON ((-89.79864173 29.70347853, -89.766437...</td>\n",
              "      <td>&lt;File-like object HTTPFileSystem, https://data...</td>\n",
              "      <td>POLYGON ((-89.79864173 29.70347853, -89.766437...</td>\n",
              "      <td>[[&lt;xarray.DataArray 'B10' ()&gt; Size: 4B\\narray(...</td>\n",
              "    </tr>\n",
              "    <tr>\n",
              "      <th>6</th>\n",
              "      <td>HLS.L30.T15RYP.2023268T163212.v2.0.B11.tif</td>\n",
              "      <td>HLS.L30.T15RYP.2023268T163212.v2.0</td>\n",
              "      <td>B11</td>\n",
              "      <td>HLS.L30.T15RYP.2023268T163212.v2.0</td>\n",
              "      <td>2023-09-25</td>\n",
              "      <td>POLYGON ((-89.79864173 29.70347853, -89.766437...</td>\n",
              "      <td>&lt;File-like object HTTPFileSystem, https://data...</td>\n",
              "      <td>POLYGON ((-89.79864173 29.70347853, -89.766437...</td>\n",
              "      <td>[[&lt;xarray.DataArray 'B11' ()&gt; Size: 4B\\narray(...</td>\n",
              "    </tr>\n",
              "    <tr>\n",
              "      <th>10</th>\n",
              "      <td>HLS.L30.T15RYP.2023268T163212.v2.0.Fmask.tif</td>\n",
              "      <td>HLS.L30.T15RYP.2023268T163212.v2.0</td>\n",
              "      <td>Fmask</td>\n",
              "      <td>HLS.L30.T15RYP.2023268T163212.v2.0</td>\n",
              "      <td>2023-09-25</td>\n",
              "      <td>POLYGON ((-89.79864173 29.70347853, -89.766437...</td>\n",
              "      <td>&lt;File-like object HTTPFileSystem, https://data...</td>\n",
              "      <td>POLYGON ((-89.79864173 29.70347853, -89.766437...</td>\n",
              "      <td>[[&lt;xarray.DataArray 'Fmask' ()&gt; Size: 4B\\narra...</td>\n",
              "    </tr>\n",
              "  </tbody>\n",
              "</table>\n",
              "</div>"
            ],
            "text/plain": [
              "                                        filename  \\\n",
              "3     HLS.L30.T15RYP.2023268T163212.v2.0.B01.tif   \n",
              "5     HLS.L30.T15RYP.2023268T163212.v2.0.B02.tif   \n",
              "7     HLS.L30.T15RYP.2023268T163212.v2.0.B03.tif   \n",
              "0     HLS.L30.T15RYP.2023268T163212.v2.0.B04.tif   \n",
              "9     HLS.L30.T15RYP.2023268T163212.v2.0.B05.tif   \n",
              "8     HLS.L30.T15RYP.2023268T163212.v2.0.B06.tif   \n",
              "1     HLS.L30.T15RYP.2023268T163212.v2.0.B07.tif   \n",
              "2     HLS.L30.T15RYP.2023268T163212.v2.0.B09.tif   \n",
              "4     HLS.L30.T15RYP.2023268T163212.v2.0.B10.tif   \n",
              "6     HLS.L30.T15RYP.2023268T163212.v2.0.B11.tif   \n",
              "10  HLS.L30.T15RYP.2023268T163212.v2.0.Fmask.tif   \n",
              "\n",
              "                               tile_id band_id  \\\n",
              "3   HLS.L30.T15RYP.2023268T163212.v2.0     B01   \n",
              "5   HLS.L30.T15RYP.2023268T163212.v2.0     B02   \n",
              "7   HLS.L30.T15RYP.2023268T163212.v2.0     B03   \n",
              "0   HLS.L30.T15RYP.2023268T163212.v2.0     B04   \n",
              "9   HLS.L30.T15RYP.2023268T163212.v2.0     B05   \n",
              "8   HLS.L30.T15RYP.2023268T163212.v2.0     B06   \n",
              "1   HLS.L30.T15RYP.2023268T163212.v2.0     B07   \n",
              "2   HLS.L30.T15RYP.2023268T163212.v2.0     B09   \n",
              "4   HLS.L30.T15RYP.2023268T163212.v2.0     B10   \n",
              "6   HLS.L30.T15RYP.2023268T163212.v2.0     B11   \n",
              "10  HLS.L30.T15RYP.2023268T163212.v2.0   Fmask   \n",
              "\n",
              "                            granule_id granule_date  \\\n",
              "3   HLS.L30.T15RYP.2023268T163212.v2.0   2023-09-25   \n",
              "5   HLS.L30.T15RYP.2023268T163212.v2.0   2023-09-25   \n",
              "7   HLS.L30.T15RYP.2023268T163212.v2.0   2023-09-25   \n",
              "0   HLS.L30.T15RYP.2023268T163212.v2.0   2023-09-25   \n",
              "9   HLS.L30.T15RYP.2023268T163212.v2.0   2023-09-25   \n",
              "8   HLS.L30.T15RYP.2023268T163212.v2.0   2023-09-25   \n",
              "1   HLS.L30.T15RYP.2023268T163212.v2.0   2023-09-25   \n",
              "2   HLS.L30.T15RYP.2023268T163212.v2.0   2023-09-25   \n",
              "4   HLS.L30.T15RYP.2023268T163212.v2.0   2023-09-25   \n",
              "6   HLS.L30.T15RYP.2023268T163212.v2.0   2023-09-25   \n",
              "10  HLS.L30.T15RYP.2023268T163212.v2.0   2023-09-25   \n",
              "\n",
              "                                      granule_polygon  \\\n",
              "3   POLYGON ((-89.79864173 29.70347853, -89.766437...   \n",
              "5   POLYGON ((-89.79864173 29.70347853, -89.766437...   \n",
              "7   POLYGON ((-89.79864173 29.70347853, -89.766437...   \n",
              "0   POLYGON ((-89.79864173 29.70347853, -89.766437...   \n",
              "9   POLYGON ((-89.79864173 29.70347853, -89.766437...   \n",
              "8   POLYGON ((-89.79864173 29.70347853, -89.766437...   \n",
              "1   POLYGON ((-89.79864173 29.70347853, -89.766437...   \n",
              "2   POLYGON ((-89.79864173 29.70347853, -89.766437...   \n",
              "4   POLYGON ((-89.79864173 29.70347853, -89.766437...   \n",
              "6   POLYGON ((-89.79864173 29.70347853, -89.766437...   \n",
              "10  POLYGON ((-89.79864173 29.70347853, -89.766437...   \n",
              "\n",
              "                                                  uri  \\\n",
              "3   <File-like object HTTPFileSystem, https://data...   \n",
              "5   <File-like object HTTPFileSystem, https://data...   \n",
              "7   <File-like object HTTPFileSystem, https://data...   \n",
              "0   <File-like object HTTPFileSystem, https://data...   \n",
              "9   <File-like object HTTPFileSystem, https://data...   \n",
              "8   <File-like object HTTPFileSystem, https://data...   \n",
              "1   <File-like object HTTPFileSystem, https://data...   \n",
              "2   <File-like object HTTPFileSystem, https://data...   \n",
              "4   <File-like object HTTPFileSystem, https://data...   \n",
              "6   <File-like object HTTPFileSystem, https://data...   \n",
              "10  <File-like object HTTPFileSystem, https://data...   \n",
              "\n",
              "                                             geometry  \\\n",
              "3   POLYGON ((-89.79864173 29.70347853, -89.766437...   \n",
              "5   POLYGON ((-89.79864173 29.70347853, -89.766437...   \n",
              "7   POLYGON ((-89.79864173 29.70347853, -89.766437...   \n",
              "0   POLYGON ((-89.79864173 29.70347853, -89.766437...   \n",
              "9   POLYGON ((-89.79864173 29.70347853, -89.766437...   \n",
              "8   POLYGON ((-89.79864173 29.70347853, -89.766437...   \n",
              "1   POLYGON ((-89.79864173 29.70347853, -89.766437...   \n",
              "2   POLYGON ((-89.79864173 29.70347853, -89.766437...   \n",
              "4   POLYGON ((-89.79864173 29.70347853, -89.766437...   \n",
              "6   POLYGON ((-89.79864173 29.70347853, -89.766437...   \n",
              "10  POLYGON ((-89.79864173 29.70347853, -89.766437...   \n",
              "\n",
              "                                                   da  \n",
              "3   [[<xarray.DataArray 'B01' ()> Size: 4B\\narray(...  \n",
              "5   [[<xarray.DataArray 'B02' ()> Size: 4B\\narray(...  \n",
              "7   [[<xarray.DataArray 'B03' ()> Size: 4B\\narray(...  \n",
              "0   [[<xarray.DataArray 'B04' ()> Size: 4B\\narray(...  \n",
              "9   [[<xarray.DataArray 'B05' ()> Size: 4B\\narray(...  \n",
              "8   [[<xarray.DataArray 'B06' ()> Size: 4B\\narray(...  \n",
              "1   [[<xarray.DataArray 'B07' ()> Size: 4B\\narray(...  \n",
              "2   [[<xarray.DataArray 'B09' ()> Size: 4B\\narray(...  \n",
              "4   [[<xarray.DataArray 'B10' ()> Size: 4B\\narray(...  \n",
              "6   [[<xarray.DataArray 'B11' ()> Size: 4B\\narray(...  \n",
              "10  [[<xarray.DataArray 'Fmask' ()> Size: 4B\\narra...  "
            ]
          },
          "execution_count": 68,
          "metadata": {},
          "output_type": "execute_result"
        }
      ],
      "source": [
        "ms_delta_reflectance_da_df = compute_reflectance_da(ms_delta_metadata, ms_delta_gdf)"
      ]
    },
    {
      "cell_type": "code",
      "execution_count": 9,
      "id": "68e1e0da",
      "metadata": {
        "highlight": true
      },
      "outputs": [],
      "source": [
        "# Loop through each image\n",
        "\n",
        "    # Open granule cloud cover\n",
        "\n",
        "    # Compute cloud mask\n",
        "\n",
        "    # Loop through each spectral band\n",
        "\n",
        "        # Open, crop, and mask the band\n",
        "\n",
        "        # Add the DataArray to the metadata DataFrame row\n",
        "\n",
        "    # Reassemble the metadata DataFrame"
      ]
    },
    {
      "cell_type": "markdown",
      "id": "b3f54939-7fcf-44a6-91af-57aa50b1895c",
      "metadata": {},
      "source": [
        "### Merge and Composite Data\n",
        "\n",
        "You will notice for this watershed that: 1. The raster data for each\n",
        "date are spread across 4 granules 2. Any given image is incomplete\n",
        "because of clouds\n",
        "\n",
        "<link rel=\"stylesheet\" type=\"text/css\" href=\"./assets/styles.css\"><div class=\"callout callout-style-default callout-titled callout-task\"><div class=\"callout-header\"><div class=\"callout-icon-container\"><i class=\"callout-icon\"></i></div><div class=\"callout-title-container flex-fill\">Try It</div></div><div class=\"callout-body-container callout-body\"><ol type=\"1\">\n",
        "<li><p>For each band:</p>\n",
        "<ol type=\"1\">\n",
        "<li><p>For each date:</p>\n",
        "<ol type=\"1\">\n",
        "<li>Merge all 4 granules</li>\n",
        "<li>Mask any negative values created by interpolating from the nodata\n",
        "value of -9999 (<code>rioxarray</code> should account for this, but\n",
        "doesn’t appear to when merging. If you leave these values in they will\n",
        "create problems down the line)</li>\n",
        "</ol></li>\n",
        "<li><p>Concatenate the merged DataArrays along a new date\n",
        "dimension</p></li>\n",
        "<li><p>Take the mean in the date dimension to create a composite image\n",
        "that fills cloud gaps</p></li>\n",
        "<li><p>Add the band as a dimension, and give the DataArray a\n",
        "name</p></li>\n",
        "</ol></li>\n",
        "<li><p>Concatenate along the band dimension</p></li>\n",
        "</ol></div></div>"
      ]
    },
    {
      "cell_type": "code",
      "execution_count": 11,
      "id": "6d6ef620",
      "metadata": {
        "highlight": true
      },
      "outputs": [],
      "source": [
        "# Merge and composite and image for each band\n",
        "\n",
        "        # Merge granules for each date\n",
        "\n",
        "        # Mask negative values\n",
        "\n",
        "    # Composite images across dates"
      ]
    },
    {
      "cell_type": "markdown",
      "id": "3d4088b9-6768-4742-90c6-f6d16254db94",
      "metadata": {},
      "source": [
        "## STEP 4: K-MEANS\n",
        "\n",
        "Cluster your data by spectral signature using the k-means algorithm.\n",
        "\n",
        "<link rel=\"stylesheet\" type=\"text/css\" href=\"./assets/styles.css\"><div class=\"callout callout-style-default callout-titled callout-task\"><div class=\"callout-header\"><div class=\"callout-icon-container\"><i class=\"callout-icon\"></i></div><div class=\"callout-title-container flex-fill\">Try It</div></div><div class=\"callout-body-container callout-body\"><ol type=\"1\">\n",
        "<li>Convert your DataArray into a <strong>tidy</strong> DataFrame of\n",
        "reflectance values (hint: check out the <code>.to_dataframe()</code> and\n",
        "<code>.unstack()</code> methods)</li>\n",
        "<li>Filter out all rows with no data (all 0s or any N/A values)</li>\n",
        "<li>Fit a k-means model. You can experiment with the number of groups to\n",
        "find what works best.</li>\n",
        "</ol></div></div>"
      ]
    },
    {
      "cell_type": "code",
      "execution_count": 13,
      "id": "1380d9b6",
      "metadata": {
        "highlight": true
      },
      "outputs": [],
      "source": [
        "# Convert spectral DataArray to a tidy DataFrame\n",
        "\n",
        "# Running the fit and predict functions at the same time.\n",
        "# We can do this since we don't have target data.\n",
        "\n",
        "# Add the predicted values back to the model DataFrame"
      ]
    },
    {
      "cell_type": "markdown",
      "id": "6417c5c9-b68e-4a7c-824a-2d1bb1aaaae5",
      "metadata": {},
      "source": [
        "## STEP 5: PLOT\n",
        "\n",
        "<link rel=\"stylesheet\" type=\"text/css\" href=\"./assets/styles.css\"><div class=\"callout callout-style-default callout-titled callout-task\"><div class=\"callout-header\"><div class=\"callout-icon-container\"><i class=\"callout-icon\"></i></div><div class=\"callout-title-container flex-fill\">Try It</div></div><div class=\"callout-body-container callout-body\"><p>Create a plot that shows the k-means clusters next to an RGB image of\n",
        "the area. You may need to brighten your RGB image by multiplying it by\n",
        "10. The code for reshaping and plotting the clusters is provided for you\n",
        "below, but you will have to create the RGB plot yourself!</p>\n",
        "<p>So, what is <code>.sortby(['x', 'y'])</code> doing for us? Try the\n",
        "code without it and find out.</p></div></div>"
      ]
    },
    {
      "cell_type": "code",
      "execution_count": 15,
      "id": "b9e7ac5f",
      "metadata": {
        "highlight": true
      },
      "outputs": [],
      "source": [
        "# Plot the k-means clusters\n",
        "(\n",
        "    rgb_plot\n",
        "    + \n",
        "    model_df.clusters.to_xarray().sortby(['x', 'y']).hvplot(\n",
        "        cmap=\"Colorblind\", aspect='equal') \n",
        ")"
      ]
    },
    {
      "cell_type": "markdown",
      "id": "1f764ccf-d111-4f47-bcea-8c10a7cac441",
      "metadata": {},
      "source": [
        "<link rel=\"stylesheet\" type=\"text/css\" href=\"./assets/styles.css\"><div class=\"callout callout-style-default callout-titled callout-respond\"><div class=\"callout-header\"><div class=\"callout-icon-container\"><i class=\"callout-icon\"></i></div><div class=\"callout-title-container flex-fill\">Reflect and Respond</div></div><div class=\"callout-body-container callout-body\"><p>Don’t forget to interpret your plot!</p></div></div>"
      ]
    },
    {
      "cell_type": "markdown",
      "id": "4efe872d-a8ab-46bd-816f-fc5194b777a5",
      "metadata": {},
      "source": [
        "**YOUR PLOT HEADLINE AND DESCRIPTION HERE**"
      ]
    }
  ],
  "metadata": {
    "kernelspec": {
      "display_name": "Python 3 (ipykernel)",
      "language": "python",
      "name": "python3",
      "path": "/Users/elsa/miniconda3/envs/learning-portal/share/jupyter/kernels/python3"
    },
    "language_info": {
      "codemirror_mode": {
        "name": "ipython",
        "version": 3
      },
      "file_extension": ".py",
      "mimetype": "text/x-python",
      "name": "python",
      "nbconvert_exporter": "python",
      "pygments_lexer": "ipython3",
      "version": "3.12.8"
    }
  },
  "nbformat": 4,
  "nbformat_minor": 5
}
